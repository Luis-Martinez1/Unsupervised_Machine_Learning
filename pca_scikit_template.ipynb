{
 "cells": [
  {
   "cell_type": "markdown",
   "metadata": {},
   "source": [
    "# PRINCIPAL COMPONENT ANALYSIS\n",
    "\n",
    "An important step in data analysis is data exploration and representation. We have already seen some concepts in Exploratory Data Analysis. In this lesson we will see how by combining a technique called Principal Component Analysis (PCA) together with Cluster Analysis we can represent in a two-dimensional space data defined in a higher dimensional one while, at the same time, being able to group this data in similar groups or clusters and find hidden relationships in our data.\n",
    "\n",
    "More concretely, PCA reduces data dimensionality by finding principal components. These are the directions of maximum variation in a dataset. By reducing a dataset original features or variables to a reduced set of new ones based on the principal components, we end up with the minimum number of variables that keep the maximum amount of variation or information about how the data is distributed. If we end up with just two of these new variables, we will be able to represent each sample in our data in a two-dimensional chart (e.g. a scatterplot).\n",
    "\n",
    "As an unsupervised data analysis technique, clustering organizes data samples by proximity based on its variables. By doing so we will be able to understand how each data point relates to each other and discover groups of similar ones. Once we have each of this groups or clusters, we will be able to define a centroid for them, an ideal data sample that minimises the sum of the distances to each of the data points in a cluster. By analysing these centroids' variables we will be able to define each cluster in terms of its characteristics.\n",
    "\n",
    "Let's put these ideas in practice by using Python so we better understand them in order to apply them in the future.\n",
    "\n",
    "Remember, PCA can be applied only on numerical data. Therefore, if the data has categorical variables they must be converted to numerical. Also, make sure you have done the basic data cleaning prior to implementing this technique. Let’s quickly finish with initial data loading and cleaning steps:\n",
    "1. Impute missing values\n",
    "2. Remote the dependent (response) variable and other identifier variables (if any). Since we are exercising an unsupervised learning technqiue, any response variable must be removed.\n",
    "3. Convert categorical variables to numeric using one hot encoding."
   ]
  },
  {
   "cell_type": "markdown",
   "metadata": {},
   "source": [
    "## TEMPLATE"
   ]
  },
  {
   "cell_type": "code",
   "execution_count": 1,
   "metadata": {},
   "outputs": [],
   "source": [
    "%matplotlib inline"
   ]
  },
  {
   "cell_type": "code",
   "execution_count": 3,
   "metadata": {},
   "outputs": [
    {
     "name": "stdout",
     "output_type": "stream",
     "text": [
      "[  6.32  11.89  17.31  20.54  23.77  27.    30.23  33.46  36.69  39.92\n",
      "  43.15  46.38  49.61  52.84  56.07  59.3   62.53  65.76  68.99  72.22\n",
      "  75.45  78.68  81.91  85.14  88.37  91.6   94.83  98.06  99.08  99.98\n",
      " 100.12]\n"
     ]
    }
   ],
   "source": [
    "import numpy as np\n",
    "from sklearn.decomposition import PCA\n",
    "import pandas as pd\n",
    "import matplotlib.pyplot as plt\n",
    "from sklearn.preprocessing import scale\n",
    "\n",
    "# Load data set\n",
    "data = pd.read_csv('creditcard.csv')\n",
    "\n",
    "#convert it to numpy arrays\n",
    "X=data.values\n",
    "\n",
    "#Scaling the values\n",
    "X = scale(X)\n",
    "\n",
    "pca = PCA(n_components=31)\n",
    "\n",
    "pca.fit(X)\n",
    "\n",
    "#The amount of variance that each PC explains\n",
    "var= pca.explained_variance_ratio_\n",
    "\n",
    "#Cumulative Variance explains\n",
    "var1=np.cumsum(np.round(pca.explained_variance_ratio_, decimals=4)*100)\n",
    "\n",
    "print (var1)"
   ]
  },
  {
   "cell_type": "code",
   "execution_count": 4,
   "metadata": {},
   "outputs": [
    {
     "data": {
      "text/plain": [
       "[<matplotlib.lines.Line2D at 0x105ded410>]"
      ]
     },
     "execution_count": 4,
     "metadata": {},
     "output_type": "execute_result"
    },
    {
     "data": {
      "image/png": "[encoded data removed]",
      "text/plain": [
       "<Figure size 640x480 with 1 Axes>"
      ]
     },
     "metadata": {},
     "output_type": "display_data"
    }
   ],
   "source": [
    "plt.plot(var1)"
   ]
  },
  {
   "cell_type": "code",
   "execution_count": 5,
   "metadata": {},
   "outputs": [],
   "source": [
    "#Looking at above plot we're taking 30 variables\n",
    "pca = PCA(n_components=30)\n",
    "pca.fit(X)\n",
    "X1=pca.fit_transform(X)"
   ]
  },
  {
   "cell_type": "markdown",
   "metadata": {},
   "source": [
    "### POINTS TO REMEMBER\n",
    "\n",
    "1. PCA is used to extract important features from a data set.\n",
    "2. These features are low dimensional in nature.\n",
    "3. These features a.k.a components are a resultant of normalized linear combination of original predictor variables.\n",
    "4. These components aim to capture as much information as possible with high explained variance.\n",
    "5. The first component has the highest variance followed by second, third and so on.\n",
    "6. The components must be uncorrelated (remember orthogonal direction? ).\n",
    "7. Normalizing data becomes extremely important when the predictors are measured in different units.\n",
    "8. PCA works best on data set having 3 or higher dimensions. Because, with higher dimensions, it becomes increasingly difficult to make interpretations from the resultant cloud of data.\n",
    "9. PCA is applied on a data set with numeric variables.\n",
    "10. PCA is a tool which helps to produce better visualizations of high dimensional data."
   ]
  },
  {
   "cell_type": "markdown",
   "metadata": {},
   "source": [
    "# REFERENCE\n",
    "[FRAUD DETECTION](https://www.kaggle.com/joparga3/in-depth-skewed-data-classif-93-recall-acc-now)"
   ]
  }
 ],
 "metadata": {
  "kernelspec": {
   "display_name": "Python 3 (ipykernel)",
   "language": "python",
   "name": "python3"
  },
  "language_info": {
   "codemirror_mode": {
    "name": "ipython",
    "version": 3
   },
   "file_extension": ".py",
   "mimetype": "text/x-python",
   "name": "python",
   "nbconvert_exporter": "python",
   "pygments_lexer": "ipython3",
   "version": "3.11.5"
  }
 },
 "nbformat": 4,
 "nbformat_minor": 4
}
