{
 "cells": [
  {
   "cell_type": "markdown",
   "id": "ca8379cc-8304-412c-a791-c7b869f28de8",
   "metadata": {},
   "source": [
    "# **Exploring National Anthems: A Data Journey**\n",
    "\n",
    "## **Introduction**\n",
    "\n",
    "Welcome to the captivating world of national anthems! 🌍🎶 In this data science project, we embark on a musical voyage across continents, exploring the lyrical expressions that resonate with patriotism, history, and culture. Our dataset contains the stirring verses of anthems from diverse nations, each encapsulating the spirit of its people.\n",
    "\n",
    "### **Project Goals**\n",
    "\n",
    "Our mission is twofold:\n",
    "\n",
    "1. **Uncover Anthem Themes**: We'll dissect the anthems, unraveling their hidden themes and sentiments. Are there common threads that bind anthems together? Do certain regions favor love, war, or freedom in their lyrical odes?\n",
    "\n",
    "\n",
    "### **Tools at Our Disposal**\n",
    "\n",
    "We'll wield three powerful tools:\n",
    "\n",
    "1. **K-Means Clustering**: Like musical harmonies, K-Means will group anthems into clusters based on their lyrical content. Are there clusters of anthems celebrating unity, resilience, or nature?\n",
    "\n",
    "2. **Power BI**: Our canvas for visual storytelling! Power BI dashboards will breathe life into our data, allowing us to explore trends, sentiments, and geographic patterns.\n",
    "\n",
    "3. **Natural Language Processing (NLP)**: NLP will decode the poetic language. We'll analyze sentiments, spot historical references, and identify notable entities—whether they're legendary heroes or cherished landscapes.\n",
    "\n",
    "## Final Briefings will start at 2:30pm on Friday. Everyone will be expected to bring their insights to the table. You may use a notebook OR PowerPoint OR PowerBI to brief\n",
    "    - 10 min MAX breifing times\n",
    "    - Final output should be data driven insights (think actionable!)\n",
    "    - If Python and/or Machine Learning is not your jam, analyze the data YOUR way, just get me insights! \n",
    "\n",
    "### **Let the Anthem Symphony Begin! 🎵**\n",
    "\n",
    "Gather your curiosity, tune your analytical instruments, and let's dive into the rich tapestry of national anthems. From the Himalayan peaks to the African savannas, every stanza carries a tale waiting to be told.\n",
    "\n",
    "---\n",
    "\n",
    "## Remember, data science is not just about numbers—it's about weaving narratives from raw data. So, let's harmonize data and creativity, and celebrate the anthems that echo through time! 🌟🎤"
   ]
  },
  {
   "cell_type": "code",
   "execution_count": 1,
   "id": "02417905-8644-46cb-88c8-a7e4fb33af39",
   "metadata": {},
   "outputs": [],
   "source": [
    "# Data Manipulation\n",
    "import pandas as pd\n",
    "import numpy as np\n",
    "\n",
    "# Data Visualization\n",
    "import matplotlib.pyplot as plt\n",
    "import seaborn as sns\n",
    "\n",
    "# Text analytics/NLP toolkits\n",
    "from sklearn.feature_extraction.text import CountVectorizer, TfidfVectorizer, TfidfTransformer\n",
    "from textblob import TextBlob, Word\n",
    "from nltk.stem.snowball import SnowballStemmer\n",
    "from nltk.stem import PorterStemmer\n",
    "\n",
    "# Unsupervised ML Models\n",
    "from sklearn.cluster import KMeans\n"
   ]
  },
  {
   "cell_type": "markdown",
   "id": "0a5821e7",
   "metadata": {},
   "source": [
    "### Read CSV"
   ]
  },
  {
   "cell_type": "code",
   "execution_count": 2,
   "id": "a66f2697",
   "metadata": {},
   "outputs": [
    {
     "name": "stdout",
     "output_type": "stream",
     "text": [
      "(190, 5)\n"
     ]
    },
    {
     "data": {
      "text/html": [
       "<div>\n",
       "<style scoped>\n",
       "    .dataframe tbody tr th:only-of-type {\n",
       "        vertical-align: middle;\n",
       "    }\n",
       "\n",
       "    .dataframe tbody tr th {\n",
       "        vertical-align: top;\n",
       "    }\n",
       "\n",
       "    .dataframe thead th {\n",
       "        text-align: right;\n",
       "    }\n",
       "</style>\n",
       "<table border=\"1\" class=\"dataframe\">\n",
       "  <thead>\n",
       "    <tr style=\"text-align: right;\">\n",
       "      <th></th>\n",
       "      <th>Country</th>\n",
       "      <th>Alpha-2</th>\n",
       "      <th>Alpha-3</th>\n",
       "      <th>Continent</th>\n",
       "      <th>Anthem</th>\n",
       "    </tr>\n",
       "  </thead>\n",
       "  <tbody>\n",
       "    <tr>\n",
       "      <th>0</th>\n",
       "      <td>Albania</td>\n",
       "      <td>AL</td>\n",
       "      <td>ALB</td>\n",
       "      <td>Europe</td>\n",
       "      <td>Around our flag we stand united, With one wish...</td>\n",
       "    </tr>\n",
       "    <tr>\n",
       "      <th>1</th>\n",
       "      <td>Armenia</td>\n",
       "      <td>AM</td>\n",
       "      <td>ARM</td>\n",
       "      <td>Europe</td>\n",
       "      <td>Our Fatherland, free, independent, That has fo...</td>\n",
       "    </tr>\n",
       "    <tr>\n",
       "      <th>2</th>\n",
       "      <td>Austria</td>\n",
       "      <td>AT</td>\n",
       "      <td>AUT</td>\n",
       "      <td>Europe</td>\n",
       "      <td>Land of mountains, land by the river, Land of ...</td>\n",
       "    </tr>\n",
       "    <tr>\n",
       "      <th>3</th>\n",
       "      <td>Azerbaijan</td>\n",
       "      <td>AZ</td>\n",
       "      <td>AZE</td>\n",
       "      <td>Europe</td>\n",
       "      <td>Azerbaijan, Azerbaijan! The glorious Fatherlan...</td>\n",
       "    </tr>\n",
       "    <tr>\n",
       "      <th>4</th>\n",
       "      <td>Belarus</td>\n",
       "      <td>BY</td>\n",
       "      <td>BLR</td>\n",
       "      <td>Europe</td>\n",
       "      <td>We, Belarusians, are peaceful people, Wholehea...</td>\n",
       "    </tr>\n",
       "  </tbody>\n",
       "</table>\n",
       "</div>"
      ],
      "text/plain": [
       "      Country Alpha-2 Alpha-3 Continent  \\\n",
       "0     Albania      AL     ALB    Europe   \n",
       "1     Armenia      AM     ARM    Europe   \n",
       "2     Austria      AT     AUT    Europe   \n",
       "3  Azerbaijan      AZ     AZE    Europe   \n",
       "4     Belarus      BY     BLR    Europe   \n",
       "\n",
       "                                              Anthem  \n",
       "0  Around our flag we stand united, With one wish...  \n",
       "1  Our Fatherland, free, independent, That has fo...  \n",
       "2  Land of mountains, land by the river, Land of ...  \n",
       "3  Azerbaijan, Azerbaijan! The glorious Fatherlan...  \n",
       "4  We, Belarusians, are peaceful people, Wholehea...  "
      ]
     },
     "execution_count": 2,
     "metadata": {},
     "output_type": "execute_result"
    }
   ],
   "source": [
    "path = \"national_anthems.csv\"\n",
    "df = pd.read_csv(path)\n",
    "print(df.shape)\n",
    "df.head()"
   ]
  },
  {
   "cell_type": "markdown",
   "id": "a7fca5a9",
   "metadata": {},
   "source": [
    "### Profile and Clean Data"
   ]
  },
  {
   "cell_type": "code",
   "execution_count": 3,
   "id": "ea247dd9",
   "metadata": {},
   "outputs": [
    {
     "name": "stdout",
     "output_type": "stream",
     "text": [
      "<class 'pandas.core.frame.DataFrame'>\n",
      "RangeIndex: 190 entries, 0 to 189\n",
      "Data columns (total 5 columns):\n",
      " #   Column     Non-Null Count  Dtype \n",
      "---  ------     --------------  ----- \n",
      " 0   Country    190 non-null    object\n",
      " 1   Alpha-2    189 non-null    object\n",
      " 2   Alpha-3    190 non-null    object\n",
      " 3   Continent  190 non-null    object\n",
      " 4   Anthem     190 non-null    object\n",
      "dtypes: object(5)\n",
      "memory usage: 7.6+ KB\n"
     ]
    }
   ],
   "source": [
    "# Possible null values\n",
    "df.info(memory_usage=True)"
   ]
  },
  {
   "cell_type": "code",
   "execution_count": 4,
   "id": "654f41ab",
   "metadata": {
    "scrolled": false
   },
   "outputs": [
    {
     "data": {
      "text/html": [
       "<div>\n",
       "<style scoped>\n",
       "    .dataframe tbody tr th:only-of-type {\n",
       "        vertical-align: middle;\n",
       "    }\n",
       "\n",
       "    .dataframe tbody tr th {\n",
       "        vertical-align: top;\n",
       "    }\n",
       "\n",
       "    .dataframe thead th {\n",
       "        text-align: right;\n",
       "    }\n",
       "</style>\n",
       "<table border=\"1\" class=\"dataframe\">\n",
       "  <thead>\n",
       "    <tr style=\"text-align: right;\">\n",
       "      <th></th>\n",
       "      <th>count</th>\n",
       "      <th>unique</th>\n",
       "      <th>top</th>\n",
       "      <th>freq</th>\n",
       "    </tr>\n",
       "  </thead>\n",
       "  <tbody>\n",
       "    <tr>\n",
       "      <th>Country</th>\n",
       "      <td>190</td>\n",
       "      <td>190</td>\n",
       "      <td>Albania</td>\n",
       "      <td>1</td>\n",
       "    </tr>\n",
       "    <tr>\n",
       "      <th>Alpha-2</th>\n",
       "      <td>189</td>\n",
       "      <td>188</td>\n",
       "      <td>CH</td>\n",
       "      <td>2</td>\n",
       "    </tr>\n",
       "    <tr>\n",
       "      <th>Alpha-3</th>\n",
       "      <td>190</td>\n",
       "      <td>190</td>\n",
       "      <td>ALB</td>\n",
       "      <td>1</td>\n",
       "    </tr>\n",
       "    <tr>\n",
       "      <th>Continent</th>\n",
       "      <td>190</td>\n",
       "      <td>6</td>\n",
       "      <td>Africa</td>\n",
       "      <td>56</td>\n",
       "    </tr>\n",
       "    <tr>\n",
       "      <th>Anthem</th>\n",
       "      <td>190</td>\n",
       "      <td>188</td>\n",
       "      <td>Arise, ye who refuse to be slaves; With our ve...</td>\n",
       "      <td>2</td>\n",
       "    </tr>\n",
       "  </tbody>\n",
       "</table>\n",
       "</div>"
      ],
      "text/plain": [
       "          count unique                                                top freq\n",
       "Country     190    190                                            Albania    1\n",
       "Alpha-2     189    188                                                 CH    2\n",
       "Alpha-3     190    190                                                ALB    1\n",
       "Continent   190      6                                             Africa   56\n",
       "Anthem      190    188  Arise, ye who refuse to be slaves; With our ve...    2"
      ]
     },
     "execution_count": 4,
     "metadata": {},
     "output_type": "execute_result"
    }
   ],
   "source": [
    "# there are missing and duplicated data\n",
    "df.describe().T"
   ]
  },
  {
   "cell_type": "code",
   "execution_count": 5,
   "id": "eb823ba5",
   "metadata": {},
   "outputs": [
    {
     "data": {
      "text/html": [
       "<div>\n",
       "<style scoped>\n",
       "    .dataframe tbody tr th:only-of-type {\n",
       "        vertical-align: middle;\n",
       "    }\n",
       "\n",
       "    .dataframe tbody tr th {\n",
       "        vertical-align: top;\n",
       "    }\n",
       "\n",
       "    .dataframe thead th {\n",
       "        text-align: right;\n",
       "    }\n",
       "</style>\n",
       "<table border=\"1\" class=\"dataframe\">\n",
       "  <thead>\n",
       "    <tr style=\"text-align: right;\">\n",
       "      <th></th>\n",
       "      <th>Country</th>\n",
       "      <th>Alpha-2</th>\n",
       "      <th>Alpha-3</th>\n",
       "      <th>Continent</th>\n",
       "      <th>Anthem</th>\n",
       "    </tr>\n",
       "  </thead>\n",
       "  <tbody>\n",
       "    <tr>\n",
       "      <th>168</th>\n",
       "      <td>Namibia</td>\n",
       "      <td>NaN</td>\n",
       "      <td>NAM</td>\n",
       "      <td>Africa</td>\n",
       "      <td>Namibia land of the brave Freedom fight we he ...</td>\n",
       "    </tr>\n",
       "  </tbody>\n",
       "</table>\n",
       "</div>"
      ],
      "text/plain": [
       "     Country Alpha-2 Alpha-3 Continent  \\\n",
       "168  Namibia     NaN     NAM    Africa   \n",
       "\n",
       "                                                Anthem  \n",
       "168  Namibia land of the brave Freedom fight we he ...  "
      ]
     },
     "execution_count": 5,
     "metadata": {},
     "output_type": "execute_result"
    }
   ],
   "source": [
    "# Looing for missing data\n",
    "df[df['Alpha-2'].isna()]"
   ]
  },
  {
   "cell_type": "code",
   "execution_count": 6,
   "id": "9ad9e1d4",
   "metadata": {},
   "outputs": [],
   "source": [
    "# Replace missing NaN value with \"NA\" in the \"Alpha-2\" column\n",
    "df['Alpha-2'].fillna('NA', inplace=True)\n"
   ]
  },
  {
   "cell_type": "code",
   "execution_count": 7,
   "id": "e83f534a",
   "metadata": {},
   "outputs": [
    {
     "name": "stdout",
     "output_type": "stream",
     "text": [
      "<class 'pandas.core.frame.DataFrame'>\n",
      "RangeIndex: 190 entries, 0 to 189\n",
      "Data columns (total 5 columns):\n",
      " #   Column     Non-Null Count  Dtype \n",
      "---  ------     --------------  ----- \n",
      " 0   Country    190 non-null    object\n",
      " 1   Alpha-2    190 non-null    object\n",
      " 2   Alpha-3    190 non-null    object\n",
      " 3   Continent  190 non-null    object\n",
      " 4   Anthem     190 non-null    object\n",
      "dtypes: object(5)\n",
      "memory usage: 7.6+ KB\n"
     ]
    }
   ],
   "source": [
    "# check df again for missing values\n",
    "df.info()"
   ]
  },
  {
   "cell_type": "code",
   "execution_count": 8,
   "id": "368699c9",
   "metadata": {},
   "outputs": [
    {
     "name": "stdout",
     "output_type": "stream",
     "text": [
      "Duplicate rows based on 'Alpha-2':\n"
     ]
    },
    {
     "data": {
      "text/html": [
       "<div>\n",
       "<style scoped>\n",
       "    .dataframe tbody tr th:only-of-type {\n",
       "        vertical-align: middle;\n",
       "    }\n",
       "\n",
       "    .dataframe tbody tr th {\n",
       "        vertical-align: top;\n",
       "    }\n",
       "\n",
       "    .dataframe thead th {\n",
       "        text-align: right;\n",
       "    }\n",
       "</style>\n",
       "<table border=\"1\" class=\"dataframe\">\n",
       "  <thead>\n",
       "    <tr style=\"text-align: right;\">\n",
       "      <th></th>\n",
       "      <th>Country</th>\n",
       "      <th>Alpha-2</th>\n",
       "      <th>Alpha-3</th>\n",
       "      <th>Continent</th>\n",
       "      <th>Anthem</th>\n",
       "    </tr>\n",
       "  </thead>\n",
       "  <tbody>\n",
       "    <tr>\n",
       "      <th>41</th>\n",
       "      <td>Switzerland</td>\n",
       "      <td>CH</td>\n",
       "      <td>CHE</td>\n",
       "      <td>Europe</td>\n",
       "      <td>When the morning skies grow red, and over us t...</td>\n",
       "    </tr>\n",
       "    <tr>\n",
       "      <th>47</th>\n",
       "      <td>Chile</td>\n",
       "      <td>CH</td>\n",
       "      <td>CHL</td>\n",
       "      <td>South_America</td>\n",
       "      <td>Beloved Homeland, receive the vows That Chile ...</td>\n",
       "    </tr>\n",
       "  </tbody>\n",
       "</table>\n",
       "</div>"
      ],
      "text/plain": [
       "        Country Alpha-2 Alpha-3      Continent  \\\n",
       "41  Switzerland      CH     CHE         Europe   \n",
       "47        Chile      CH     CHL  South_America   \n",
       "\n",
       "                                               Anthem  \n",
       "41  When the morning skies grow red, and over us t...  \n",
       "47  Beloved Homeland, receive the vows That Chile ...  "
      ]
     },
     "execution_count": 8,
     "metadata": {},
     "output_type": "execute_result"
    }
   ],
   "source": [
    "# looking for the duplicated data\n",
    "duplicate_mask = df.duplicated(subset=['Alpha-2'], keep=False)\n",
    "duplicate_rows = df[duplicate_mask]\n",
    "print(\"Duplicate rows based on 'Alpha-2':\")\n",
    "duplicate_rows\n"
   ]
  },
  {
   "cell_type": "code",
   "execution_count": 9,
   "id": "8abd769e",
   "metadata": {},
   "outputs": [],
   "source": [
    "# Change the Alpha-2 value for Chile to \"CL\". (The correct 2 letter country code)\n",
    "df.at[47, 'Alpha-2'] = \"CL\"\n"
   ]
  },
  {
   "cell_type": "code",
   "execution_count": 10,
   "id": "f0736089",
   "metadata": {},
   "outputs": [
    {
     "name": "stdout",
     "output_type": "stream",
     "text": [
      "Value at index 47 in the 'Alpha-2' column: CL\n"
     ]
    }
   ],
   "source": [
    "# Checking the value in row index 47 of the \"Alpha-2\" column\n",
    "value_at_index_47 = df.at[47, 'Alpha-2']\n",
    "\n",
    "# Printing the value\n",
    "print(\"Value at index 47 in the 'Alpha-2' column:\", value_at_index_47)\n"
   ]
  },
  {
   "cell_type": "code",
   "execution_count": 11,
   "id": "63d3710e",
   "metadata": {},
   "outputs": [
    {
     "name": "stdout",
     "output_type": "stream",
     "text": [
      "<class 'pandas.core.frame.DataFrame'>\n",
      "RangeIndex: 190 entries, 0 to 189\n",
      "Data columns (total 5 columns):\n",
      " #   Column     Non-Null Count  Dtype \n",
      "---  ------     --------------  ----- \n",
      " 0   Country    190 non-null    object\n",
      " 1   Alpha-2    190 non-null    object\n",
      " 2   Alpha-3    190 non-null    object\n",
      " 3   Continent  190 non-null    object\n",
      " 4   Anthem     190 non-null    object\n",
      "dtypes: object(5)\n",
      "memory usage: 7.6+ KB\n"
     ]
    }
   ],
   "source": [
    "# looks like there are no missing values now\n",
    "df.info()"
   ]
  },
  {
   "cell_type": "code",
   "execution_count": 12,
   "id": "662bec0c",
   "metadata": {},
   "outputs": [
    {
     "data": {
      "text/html": [
       "<div>\n",
       "<style scoped>\n",
       "    .dataframe tbody tr th:only-of-type {\n",
       "        vertical-align: middle;\n",
       "    }\n",
       "\n",
       "    .dataframe tbody tr th {\n",
       "        vertical-align: top;\n",
       "    }\n",
       "\n",
       "    .dataframe thead th {\n",
       "        text-align: right;\n",
       "    }\n",
       "</style>\n",
       "<table border=\"1\" class=\"dataframe\">\n",
       "  <thead>\n",
       "    <tr style=\"text-align: right;\">\n",
       "      <th></th>\n",
       "      <th>count</th>\n",
       "      <th>unique</th>\n",
       "      <th>top</th>\n",
       "      <th>freq</th>\n",
       "    </tr>\n",
       "  </thead>\n",
       "  <tbody>\n",
       "    <tr>\n",
       "      <th>Country</th>\n",
       "      <td>190</td>\n",
       "      <td>190</td>\n",
       "      <td>Albania</td>\n",
       "      <td>1</td>\n",
       "    </tr>\n",
       "    <tr>\n",
       "      <th>Alpha-2</th>\n",
       "      <td>190</td>\n",
       "      <td>190</td>\n",
       "      <td>AL</td>\n",
       "      <td>1</td>\n",
       "    </tr>\n",
       "    <tr>\n",
       "      <th>Alpha-3</th>\n",
       "      <td>190</td>\n",
       "      <td>190</td>\n",
       "      <td>ALB</td>\n",
       "      <td>1</td>\n",
       "    </tr>\n",
       "    <tr>\n",
       "      <th>Continent</th>\n",
       "      <td>190</td>\n",
       "      <td>6</td>\n",
       "      <td>Africa</td>\n",
       "      <td>56</td>\n",
       "    </tr>\n",
       "    <tr>\n",
       "      <th>Anthem</th>\n",
       "      <td>190</td>\n",
       "      <td>188</td>\n",
       "      <td>Arise, ye who refuse to be slaves; With our ve...</td>\n",
       "      <td>2</td>\n",
       "    </tr>\n",
       "  </tbody>\n",
       "</table>\n",
       "</div>"
      ],
      "text/plain": [
       "          count unique                                                top freq\n",
       "Country     190    190                                            Albania    1\n",
       "Alpha-2     190    190                                                 AL    1\n",
       "Alpha-3     190    190                                                ALB    1\n",
       "Continent   190      6                                             Africa   56\n",
       "Anthem      190    188  Arise, ye who refuse to be slaves; With our ve...    2"
      ]
     },
     "execution_count": 12,
     "metadata": {},
     "output_type": "execute_result"
    }
   ],
   "source": [
    "# Looks like there are no more duplicated values except for some Anthems\n",
    "df.describe().T"
   ]
  },
  {
   "cell_type": "code",
   "execution_count": 13,
   "id": "d02911f7",
   "metadata": {},
   "outputs": [
    {
     "name": "stdout",
     "output_type": "stream",
     "text": [
      "Duplicate rows based on 'Anthem':\n"
     ]
    },
    {
     "data": {
      "text/html": [
       "<div>\n",
       "<style scoped>\n",
       "    .dataframe tbody tr th:only-of-type {\n",
       "        vertical-align: middle;\n",
       "    }\n",
       "\n",
       "    .dataframe tbody tr th {\n",
       "        vertical-align: top;\n",
       "    }\n",
       "\n",
       "    .dataframe thead th {\n",
       "        text-align: right;\n",
       "    }\n",
       "</style>\n",
       "<table border=\"1\" class=\"dataframe\">\n",
       "  <thead>\n",
       "    <tr style=\"text-align: right;\">\n",
       "      <th></th>\n",
       "      <th>Country</th>\n",
       "      <th>Alpha-2</th>\n",
       "      <th>Alpha-3</th>\n",
       "      <th>Continent</th>\n",
       "      <th>Anthem</th>\n",
       "    </tr>\n",
       "  </thead>\n",
       "  <tbody>\n",
       "    <tr>\n",
       "      <th>9</th>\n",
       "      <td>Cyprus</td>\n",
       "      <td>CY</td>\n",
       "      <td>CYP</td>\n",
       "      <td>Europe</td>\n",
       "      <td>We knew thee of old, O, divinely restored, By ...</td>\n",
       "    </tr>\n",
       "    <tr>\n",
       "      <th>17</th>\n",
       "      <td>Greece</td>\n",
       "      <td>GR</td>\n",
       "      <td>GRC</td>\n",
       "      <td>Europe</td>\n",
       "      <td>We knew thee of old, O, divinely restored, By ...</td>\n",
       "    </tr>\n",
       "    <tr>\n",
       "      <th>96</th>\n",
       "      <td>China</td>\n",
       "      <td>CN</td>\n",
       "      <td>CHN</td>\n",
       "      <td>Asia</td>\n",
       "      <td>Arise, ye who refuse to be slaves; With our ve...</td>\n",
       "    </tr>\n",
       "    <tr>\n",
       "      <th>109</th>\n",
       "      <td>Macau</td>\n",
       "      <td>MO</td>\n",
       "      <td>MAC</td>\n",
       "      <td>Asia</td>\n",
       "      <td>Arise, ye who refuse to be slaves; With our ve...</td>\n",
       "    </tr>\n",
       "  </tbody>\n",
       "</table>\n",
       "</div>"
      ],
      "text/plain": [
       "    Country Alpha-2 Alpha-3 Continent  \\\n",
       "9    Cyprus      CY     CYP    Europe   \n",
       "17   Greece      GR     GRC    Europe   \n",
       "96    China      CN     CHN      Asia   \n",
       "109   Macau      MO     MAC      Asia   \n",
       "\n",
       "                                                Anthem  \n",
       "9    We knew thee of old, O, divinely restored, By ...  \n",
       "17   We knew thee of old, O, divinely restored, By ...  \n",
       "96   Arise, ye who refuse to be slaves; With our ve...  \n",
       "109  Arise, ye who refuse to be slaves; With our ve...  "
      ]
     },
     "execution_count": 13,
     "metadata": {},
     "output_type": "execute_result"
    }
   ],
   "source": [
    "# Some Duplicate anthems are not a mistake. For example, Cyprus and Greece share the same anthem.\n",
    "# will leave these alone for now.\n",
    "\n",
    "duplicate_mask = df.duplicated(subset=['Anthem'], keep=False)\n",
    "duplicate_rows = df[duplicate_mask]\n",
    "print(\"Duplicate rows based on 'Anthem':\")\n",
    "duplicate_rows"
   ]
  },
  {
   "cell_type": "markdown",
   "id": "81796678",
   "metadata": {},
   "source": [
    "### Exploring Anthem feature"
   ]
  },
  {
   "cell_type": "code",
   "execution_count": 14,
   "id": "7a400fa5",
   "metadata": {},
   "outputs": [
    {
     "data": {
      "text/html": [
       "<div>\n",
       "<style scoped>\n",
       "    .dataframe tbody tr th:only-of-type {\n",
       "        vertical-align: middle;\n",
       "    }\n",
       "\n",
       "    .dataframe tbody tr th {\n",
       "        vertical-align: top;\n",
       "    }\n",
       "\n",
       "    .dataframe thead th {\n",
       "        text-align: right;\n",
       "    }\n",
       "</style>\n",
       "<table border=\"1\" class=\"dataframe\">\n",
       "  <thead>\n",
       "    <tr style=\"text-align: right;\">\n",
       "      <th></th>\n",
       "      <th>Country</th>\n",
       "      <th>Alpha-2</th>\n",
       "      <th>Alpha-3</th>\n",
       "      <th>Continent</th>\n",
       "      <th>Anthem</th>\n",
       "      <th>text_length</th>\n",
       "    </tr>\n",
       "  </thead>\n",
       "  <tbody>\n",
       "    <tr>\n",
       "      <th>0</th>\n",
       "      <td>Albania</td>\n",
       "      <td>AL</td>\n",
       "      <td>ALB</td>\n",
       "      <td>Europe</td>\n",
       "      <td>Around our flag we stand united, With one wish...</td>\n",
       "      <td>794</td>\n",
       "    </tr>\n",
       "    <tr>\n",
       "      <th>1</th>\n",
       "      <td>Armenia</td>\n",
       "      <td>AM</td>\n",
       "      <td>ARM</td>\n",
       "      <td>Europe</td>\n",
       "      <td>Our Fatherland, free, independent, That has fo...</td>\n",
       "      <td>468</td>\n",
       "    </tr>\n",
       "    <tr>\n",
       "      <th>2</th>\n",
       "      <td>Austria</td>\n",
       "      <td>AT</td>\n",
       "      <td>AUT</td>\n",
       "      <td>Europe</td>\n",
       "      <td>Land of mountains, land by the river, Land of ...</td>\n",
       "      <td>613</td>\n",
       "    </tr>\n",
       "  </tbody>\n",
       "</table>\n",
       "</div>"
      ],
      "text/plain": [
       "   Country Alpha-2 Alpha-3 Continent  \\\n",
       "0  Albania      AL     ALB    Europe   \n",
       "1  Armenia      AM     ARM    Europe   \n",
       "2  Austria      AT     AUT    Europe   \n",
       "\n",
       "                                              Anthem  text_length  \n",
       "0  Around our flag we stand united, With one wish...          794  \n",
       "1  Our Fatherland, free, independent, That has fo...          468  \n",
       "2  Land of mountains, land by the river, Land of ...          613  "
      ]
     },
     "execution_count": 14,
     "metadata": {},
     "output_type": "execute_result"
    }
   ],
   "source": [
    "# add new column text_length\n",
    "df['text_length'] = df['Anthem'].apply(len)\n",
    "df.head(3)"
   ]
  },
  {
   "cell_type": "code",
   "execution_count": 15,
   "id": "e28a059c",
   "metadata": {},
   "outputs": [
    {
     "name": "stdout",
     "output_type": "stream",
     "text": [
      "Mean text length: 748.5105263157894\n"
     ]
    }
   ],
   "source": [
    "# overall average length of anthem\n",
    "mean_text_length = df['text_length'].mean()\n",
    "print(\"Mean text length:\", mean_text_length)"
   ]
  },
  {
   "cell_type": "code",
   "execution_count": 16,
   "id": "431aac52",
   "metadata": {},
   "outputs": [
    {
     "name": "stdout",
     "output_type": "stream",
     "text": [
      "Mean text length by continent:\n",
      "Continent\n",
      "Africa            648.482143\n",
      "Asia              630.909091\n",
      "Europe            688.318182\n",
      "North_America     899.083333\n",
      "Oceania           499.500000\n",
      "South_America    1773.583333\n",
      "Name: text_length, dtype: float64\n"
     ]
    }
   ],
   "source": [
    "# average anthem length grouped by continent\n",
    "mean_text_length_by_continent = df.groupby('Continent')['text_length'].mean()\n",
    "print(\"Mean text length by continent:\")\n",
    "print(mean_text_length_by_continent)\n"
   ]
  },
  {
   "cell_type": "markdown",
   "id": "ee28a7e1",
   "metadata": {},
   "source": [
    "## Starting NLP"
   ]
  },
  {
   "cell_type": "code",
   "execution_count": 17,
   "id": "e700493a",
   "metadata": {
    "scrolled": false
   },
   "outputs": [
    {
     "data": {
      "text/plain": [
       "0      Around our flag we stand united, With one wish...\n",
       "1      Our Fatherland, free, independent, That has fo...\n",
       "2      Land of mountains, land by the river, Land of ...\n",
       "3      Azerbaijan, Azerbaijan! The glorious Fatherlan...\n",
       "4      We, Belarusians, are peaceful people, Wholehea...\n",
       "                             ...                        \n",
       "185    O defenders of the Homeland! Rally around to t...\n",
       "186    Oh Uganda! May God uphold Thee, We lay our fut...\n",
       "187    O sons of the Sahara! In the battlefield, you ...\n",
       "188    Stand and sing of Zambia, proud and free, Land...\n",
       "189    Oh lift high the banner, the flag of Zimbabwe ...\n",
       "Name: Anthem, Length: 190, dtype: object"
      ]
     },
     "execution_count": 17,
     "metadata": {},
     "output_type": "execute_result"
    }
   ],
   "source": [
    "# create a series for the Anthem column\n",
    "X = df['Anthem']\n",
    "X"
   ]
  },
  {
   "cell_type": "markdown",
   "id": "17628174",
   "metadata": {},
   "source": [
    "### Apply CountVectorizer"
   ]
  },
  {
   "cell_type": "code",
   "execution_count": 18,
   "id": "576c6a86",
   "metadata": {},
   "outputs": [
    {
     "data": {
      "text/plain": [
       "(190, 14317)"
      ]
     },
     "execution_count": 18,
     "metadata": {},
     "output_type": "execute_result"
    }
   ],
   "source": [
    "# apply count vectorizer with ngram range and stop words removed\n",
    "vect = CountVectorizer(ngram_range=(1,2),stop_words='english')#, token_pattern=r'\\b\\w+\\b' \n",
    "vect.fit(X) \n",
    "X_dtm = vect.transform(X)\n",
    "X_dtm.shape"
   ]
  },
  {
   "cell_type": "code",
   "execution_count": 19,
   "id": "0776fccf",
   "metadata": {},
   "outputs": [
    {
     "name": "stdout",
     "output_type": "stream",
     "text": [
      "['young free' 'young heroes' 'young illustrious' 'young men' 'young old'\n",
      " 'young stand' 'young tree' 'youth' 'youth sense' 'youth tire'\n",
      " 'youth truth' 'youth tunisia' 'youthful' 'youthful men' 'zambezi'\n",
      " 'zambezi limpopo' 'zambia' 'zambia free' 'zambia praise' 'zambia proud'\n",
      " 'zambia sky' 'zambia zambia' 'zeal' 'zeal loyalty' 'zeal make'\n",
      " 'zeal tires' 'zealand' 'zealand let' 'zealand men' 'zealand mountains'\n",
      " 'zealand peace' 'zealous' 'zealous adore' 'zenith' 'zenith faith'\n",
      " 'zenith skies' 'zimbabwe' 'zimbabwe symbol' 'zimbabwe wondrously' 'zion'\n",
      " 'zion hope' 'zion jerusalem' 'ºciuszko' 'ºciuszko god' 'ãƒâ' 'ãƒâ rpãƒâ'\n",
      " 'œending' 'œending love' 'šawice' 'šawice koã']\n"
     ]
    }
   ],
   "source": [
    "# Last 50 features\n",
    "print(vect.get_feature_names_out()[-50:])"
   ]
  },
  {
   "cell_type": "markdown",
   "id": "8e0bce8e",
   "metadata": {},
   "source": [
    "### Apply TF-IDF"
   ]
  },
  {
   "cell_type": "code",
   "execution_count": 20,
   "id": "3fdaeb34",
   "metadata": {},
   "outputs": [
    {
     "name": "stdout",
     "output_type": "stream",
     "text": [
      "(190, 14317)\n"
     ]
    }
   ],
   "source": [
    "# Initialize TF-IDF transformer\n",
    "tfidf_transformer = TfidfTransformer()\n",
    "\n",
    "# Fit and transform the document-term matrix to TF-IDF representation\n",
    "X_tfidf = tfidf_transformer.fit_transform(X_dtm)\n",
    "\n",
    "# Display the shape of the resulting TF-IDF matrix\n",
    "print(X_tfidf.shape)\n"
   ]
  },
  {
   "cell_type": "markdown",
   "id": "ba7b487c",
   "metadata": {},
   "source": [
    "## Starting Unsupervised ML"
   ]
  },
  {
   "cell_type": "markdown",
   "id": "cb29b245",
   "metadata": {},
   "source": [
    "### K-means clustering"
   ]
  },
  {
   "cell_type": "code",
   "execution_count": 21,
   "id": "eac54328",
   "metadata": {},
   "outputs": [
    {
     "name": "stdout",
     "output_type": "stream",
     "text": [
      "Cluster labels: [3 3 2 3 2 1 2 2 2 0 2 1 3 2 0 4 1 0 4 0 1 1 1 4 2 4 2 3 2 1 0 4 1 3 4 2 0\n",
      " 1 4 4 3 2 2 4 1 1 4 1 2 3 2 3 4 2 0 3 2 2 3 2 4 1 4 4 1 0 4 1 0 2 0 1 0 4\n",
      " 4 0 2 2 4 1 2 2 2 3 2 2 3 1 1 0 2 4 2 4 4 1 0 0 2 1 4 2 2 4 4 4 1 1 4 0 4\n",
      " 2 4 1 2 4 4 3 3 0 4 4 1 2 2 3 4 3 3 4 4 4 1 1 3 1 4 2 3 2 3 1 4 1 1 1 3 4\n",
      " 1 0 1 1 1 3 1 4 0 1 2 4 3 3 2 1 4 0 4 3 0 1 1 1 4 3 3 1 4 2 2 1 1 4 2 1 1\n",
      " 4 2 0 2 2]\n"
     ]
    }
   ],
   "source": [
    "# Initialize KMeans with the desired number of clusters\n",
    "num_clusters = 5  \n",
    "kmeans = KMeans(n_clusters=num_clusters, n_init=10)\n",
    "\n",
    "# Fit KMeans to the TF-IDF matrix\n",
    "kmeans.fit(X_tfidf)\n",
    "\n",
    "# Get the cluster labels\n",
    "cluster_labels = kmeans.labels_\n",
    "\n",
    "# Print the cluster labels\n",
    "print(\"Cluster labels:\", cluster_labels)\n"
   ]
  },
  {
   "cell_type": "code",
   "execution_count": 22,
   "id": "3d9c94bf",
   "metadata": {},
   "outputs": [
    {
     "name": "stdout",
     "output_type": "stream",
     "text": [
      "Cluster 0:\n",
      "Number of countries: 22\n",
      "Countries: ['Cyprus' 'France' 'Greece' 'Iceland' 'Norway' 'Serbia' 'Uruguay'\n",
      " 'Nicaragua' 'Puerto Rico' 'Trinidad and Tobago' 'Belize' 'Grenada'\n",
      " 'Tonga' 'China' 'India' 'Macau' 'Philippines' 'Eritrea' 'Ivory Coast'\n",
      " 'Mauritius' 'Namibia' 'Western Sahara']\n",
      "Continents: ['Europe' 'South_America' 'North_America' 'Oceania' 'Asia' 'Africa']\n",
      "\n",
      "Cluster 1:\n",
      "Number of countries: 47\n",
      "Countries: ['Belgium' 'Denmark' 'Germany' 'Ireland' 'Italy' 'Latvia'\n",
      " 'Netherlands (the)' 'Portugal' 'Slovakia' 'Argentina' 'Bolivia' 'Chile'\n",
      " 'Haiti' 'El Salvador' 'Panama' 'Bahamas' 'Greenland' 'Kiribati'\n",
      " 'Federated States of Micronesia' 'Cambodia' 'Iran' 'Kyrgyzstan' 'Laos'\n",
      " 'Myanmar' 'Singapore' 'Vietnam' 'Yemen' 'Angola' 'Cape Verde' 'Chad'\n",
      " 'Comoros' 'Democratic Republic of Congo' 'Equatorial Guinea' 'Ethiopia'\n",
      " 'Gabon' 'Gambia' 'Guinea' 'Kenya' 'Mali' 'Niger' 'Nigeria'\n",
      " 'Republic of the Congo' 'Senegal' 'South Africa' 'South Sudan' 'Tanzania'\n",
      " 'Togo']\n",
      "Continents: ['Europe' 'South_America' 'North_America' 'Oceania' 'Asia' 'Africa']\n",
      "\n",
      "Cluster 2:\n",
      "Number of countries: 46\n",
      "Countries: ['Austria' 'Belarus' 'Bosnia and Herzegovina' 'Bulgaria' 'Croatia'\n",
      " 'Czechia' 'Finland' 'Lithuania' 'Malta' 'Montenegro'\n",
      " 'Russian Federation (the)' 'Switzerland' 'Ukraine' 'Colombia' 'Guyana'\n",
      " 'Suriname' 'United States of America' 'Canada' 'Guatemala' 'Jamaica'\n",
      " 'Antigua and Barbuda' 'Dominica' 'Australia' 'Papua New Guinea'\n",
      " 'New Zealand' 'Solomon Islands' 'Vanuatu' 'Afghanistan' 'Bangladesh'\n",
      " 'Indonesia' 'Israel' 'Japan' 'Maldives' 'Nepal' 'South Korea' 'Sri Lanka'\n",
      " 'Botswana' 'Burundi' 'Lesotho' 'Malawi' 'Sierra Leone' 'Somalia'\n",
      " 'Swaziland' 'Uganda' 'Zambia' 'Zimbabwe']\n",
      "Continents: ['Europe' 'South_America' 'North_America' 'Oceania' 'Asia' 'Africa']\n",
      "\n",
      "Cluster 3:\n",
      "Number of countries: 28\n",
      "Countries: ['Albania' 'Armenia' 'Azerbaijan' 'Estonia' 'Moldova (the Republic of)'\n",
      " 'Republic of North Macedonia' 'Sweden' 'Ecuador' 'Paraguay' 'Venezuela'\n",
      " 'Mexico' 'Fiji' 'Samoa' 'Pakistan' 'Palestine' 'Syria' 'Thailand'\n",
      " 'Turkey' 'Algeria' 'Burkina Faso' 'Cameroon' 'Djibouti' 'Ghana' 'Libya'\n",
      " 'Madagascar' 'Mozambique' 'Saint Helena' 'Sao Tome and Principe']\n",
      "Continents: ['Europe' 'South_America' 'North_America' 'Oceania' 'Asia' 'Africa']\n",
      "\n",
      "Cluster 4:\n",
      "Number of countries: 47\n",
      "Countries: ['Georgia' 'Hungary' 'Liechtenstein' 'Luxembourg' 'Poland' 'Romania'\n",
      " 'Slovenia' 'Spain'\n",
      " 'United Kingdom of Great Britain and Northern Ireland (the)' 'Brazil'\n",
      " 'Peru' 'Cuba' 'Dominican Republic' 'Honduras' 'Costa Rica' 'Barbados'\n",
      " 'Saint Lucia' 'Bermuda' 'Bahrain' 'Bhutan' 'Brunei' 'Iraq' 'Jordan'\n",
      " 'Kazakhstan' 'Kuwait' 'Lebanon' 'Malaysia' 'Mongolia' 'North Korea'\n",
      " 'Oman' 'Qatar' 'Saudi Arabia' 'Tajikistan' 'Turkmenistan'\n",
      " 'United Arab Emirates' 'Uzbekistan' 'Benin' 'Central African Republic'\n",
      " 'Egypt' 'Guinea-Bissau' 'Liberia' 'Mauritania' 'Morocco' 'Rwanda'\n",
      " 'Seychelles' 'Sudan' 'Tunisia']\n",
      "Continents: ['Europe' 'South_America' 'North_America' 'Asia' 'Africa']\n",
      "\n"
     ]
    }
   ],
   "source": [
    "# Add cluster labels to the original DataFrame\n",
    "df['Cluster'] = cluster_labels\n",
    "\n",
    "# Analyze cluster characteristics\n",
    "for cluster_num in range(num_clusters):\n",
    "    print(f\"Cluster {cluster_num}:\")\n",
    "    cluster_df = df[df['Cluster'] == cluster_num]\n",
    "    \n",
    "    # Print out some statistics or characteristics of each cluster\n",
    "    print(\"Number of countries:\", len(cluster_df))\n",
    "    print(\"Countries:\", cluster_df['Country'].unique())\n",
    "    print(\"Continents:\", cluster_df['Continent'].unique())\n",
    "    print()\n"
   ]
  },
  {
   "cell_type": "code",
   "execution_count": 23,
   "id": "9efdf0f3",
   "metadata": {},
   "outputs": [
    {
     "name": "stdout",
     "output_type": "stream",
     "text": [
      "Cluster 0:\n",
      "Top words: ['thy', 'thee', 'liberty', 'march', 'god', 'arise', 'eritrea', 'hail', 'namibia', 'land']\n",
      "\n",
      "Cluster 1:\n",
      "Top words: ['let', 'people', 'freedom', 'africa', 'sing', 'nation', 'bless', 'unity', 'song', 'arise']\n",
      "\n",
      "Cluster 2:\n",
      "Top words: ['land', 'free', 'thee', 'god', 'oh', 'home', 'dear', 'love', 'mother', 'salute']\n",
      "\n",
      "Cluster 3:\n",
      "Top words: ['fatherland', 'flag', 'shall', 'god', 'thy', 'warrior', 'fiji', 'land', 'blood', 'glorious']\n",
      "\n",
      "Cluster 4:\n",
      "Top words: ['homeland', 'country', 'live', 'long', 'glory', 'long live', 'flag', 'god', 'king', 'land']\n",
      "\n"
     ]
    }
   ],
   "source": [
    "# Get the feature names (words) from the TF-IDF matrix\n",
    "feature_names = vect.get_feature_names_out()\n",
    "\n",
    "# Get the centroid of each cluster\n",
    "centroids = kmeans.cluster_centers_\n",
    "\n",
    "# Find the top words for each cluster\n",
    "for i in range(num_clusters):\n",
    "    print(f\"Cluster {i}:\")\n",
    "    # Get the indices of the top 10 words with the highest TF-IDF scores\n",
    "    top_words_indices = centroids[i].argsort()[-10:][::-1]\n",
    "    # Map indices to words\n",
    "    top_words = [feature_names[idx] for idx in top_words_indices]\n",
    "    print(\"Top words:\", top_words)\n",
    "    print()\n"
   ]
  },
  {
   "cell_type": "markdown",
   "id": "10259b20",
   "metadata": {},
   "source": [
    "# With more time:\n",
    "### Remove one letter words and non-english words.\n",
    "### Apply stemming or lemming\n",
    "### Change number of clusters.\n",
    "### Group countries into more specific geographic areas."
   ]
  },
  {
   "cell_type": "code",
   "execution_count": null,
   "id": "e7fca894",
   "metadata": {},
   "outputs": [],
   "source": []
  }
 ],
 "metadata": {
  "kernelspec": {
   "display_name": "Python 3 (ipykernel)",
   "language": "python",
   "name": "python3"
  },
  "language_info": {
   "codemirror_mode": {
    "name": "ipython",
    "version": 3
   },
   "file_extension": ".py",
   "mimetype": "text/x-python",
   "name": "python",
   "nbconvert_exporter": "python",
   "pygments_lexer": "ipython3",
   "version": "3.11.5"
  }
 },
 "nbformat": 4,
 "nbformat_minor": 5
}
