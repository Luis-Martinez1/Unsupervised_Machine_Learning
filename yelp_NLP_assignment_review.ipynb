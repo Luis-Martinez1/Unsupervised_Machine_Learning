{
 "cells": [
  {
   "cell_type": "markdown",
   "metadata": {},
   "source": [
    "# HOMEWORK: YELP REVIEW TEXT\n",
    "\n",
    "In this notebook, we will be attempting to classify Yelp Reviews into 1 star or 5 star categories based off the text content in the reviews.\n",
    "\n",
    "We will use the Yelp Review Dataset.\n",
    "\n",
    "Each observation in this dataset is a review of a particular business by a particular user.\n",
    "\n",
    "The \"stars\" column is the number of stars (1 through 5) assigned by the reviewer to the business (i.e., the rating of the business by the person who wrote the review).  Higher stars is better.\n",
    "\n",
    "The \"cool\" column is the number of \"cool\" votes this review received from other Yelp users.\n",
    "\n",
    "All reviews start with 0 \"cool\" votes, and there is no limit to how many \"cool\" votes a review can receive.  Basically, a \"cool\" vote is a rating of the review itself, not a rating of the business.\n",
    "\n",
    "The \"useful\" and \"funny\" columns are similar to the \"cool\" column."
   ]
  },
  {
   "cell_type": "markdown",
   "metadata": {},
   "source": [
    "## TASK 1: Read yelp.csv into a DataFrame"
   ]
  },
  {
   "cell_type": "code",
   "execution_count": 1,
   "metadata": {},
   "outputs": [],
   "source": [
    "import pandas as pd\n",
    "import numpy as np\n",
    "\n",
    "import matplotlib.pyplot as plt\n",
    "import seaborn as sns\n",
    "\n",
    "%matplotlib inline"
   ]
  },
  {
   "cell_type": "code",
   "execution_count": 2,
   "metadata": {},
   "outputs": [
    {
     "name": "stdout",
     "output_type": "stream",
     "text": [
      "(10000, 10)\n"
     ]
    },
    {
     "data": {
      "text/html": [
       "<div>\n",
       "<style scoped>\n",
       "    .dataframe tbody tr th:only-of-type {\n",
       "        vertical-align: middle;\n",
       "    }\n",
       "\n",
       "    .dataframe tbody tr th {\n",
       "        vertical-align: top;\n",
       "    }\n",
       "\n",
       "    .dataframe thead th {\n",
       "        text-align: right;\n",
       "    }\n",
       "</style>\n",
       "<table border=\"1\" class=\"dataframe\">\n",
       "  <thead>\n",
       "    <tr style=\"text-align: right;\">\n",
       "      <th></th>\n",
       "      <th>business_id</th>\n",
       "      <th>date</th>\n",
       "      <th>review_id</th>\n",
       "      <th>stars</th>\n",
       "      <th>text</th>\n",
       "      <th>type</th>\n",
       "      <th>user_id</th>\n",
       "      <th>cool</th>\n",
       "      <th>useful</th>\n",
       "      <th>funny</th>\n",
       "    </tr>\n",
       "  </thead>\n",
       "  <tbody>\n",
       "    <tr>\n",
       "      <th>0</th>\n",
       "      <td>9yKzy9PApeiPPOUJEtnvkg</td>\n",
       "      <td>2011-01-26</td>\n",
       "      <td>fWKvX83p0-ka4JS3dc6E5A</td>\n",
       "      <td>5</td>\n",
       "      <td>My wife took me here on my birthday for breakf...</td>\n",
       "      <td>review</td>\n",
       "      <td>rLtl8ZkDX5vH5nAx9C3q5Q</td>\n",
       "      <td>2</td>\n",
       "      <td>5</td>\n",
       "      <td>0</td>\n",
       "    </tr>\n",
       "    <tr>\n",
       "      <th>1</th>\n",
       "      <td>ZRJwVLyzEJq1VAihDhYiow</td>\n",
       "      <td>2011-07-27</td>\n",
       "      <td>IjZ33sJrzXqU-0X6U8NwyA</td>\n",
       "      <td>5</td>\n",
       "      <td>I have no idea why some people give bad review...</td>\n",
       "      <td>review</td>\n",
       "      <td>0a2KyEL0d3Yb1V6aivbIuQ</td>\n",
       "      <td>0</td>\n",
       "      <td>0</td>\n",
       "      <td>0</td>\n",
       "    </tr>\n",
       "    <tr>\n",
       "      <th>2</th>\n",
       "      <td>6oRAC4uyJCsJl1X0WZpVSA</td>\n",
       "      <td>2012-06-14</td>\n",
       "      <td>IESLBzqUCLdSzSqm0eCSxQ</td>\n",
       "      <td>4</td>\n",
       "      <td>love the gyro plate. Rice is so good and I als...</td>\n",
       "      <td>review</td>\n",
       "      <td>0hT2KtfLiobPvh6cDC8JQg</td>\n",
       "      <td>0</td>\n",
       "      <td>1</td>\n",
       "      <td>0</td>\n",
       "    </tr>\n",
       "    <tr>\n",
       "      <th>3</th>\n",
       "      <td>_1QQZuf4zZOyFCvXc0o6Vg</td>\n",
       "      <td>2010-05-27</td>\n",
       "      <td>G-WvGaISbqqaMHlNnByodA</td>\n",
       "      <td>5</td>\n",
       "      <td>Rosie, Dakota, and I LOVE Chaparral Dog Park!!...</td>\n",
       "      <td>review</td>\n",
       "      <td>uZetl9T0NcROGOyFfughhg</td>\n",
       "      <td>1</td>\n",
       "      <td>2</td>\n",
       "      <td>0</td>\n",
       "    </tr>\n",
       "    <tr>\n",
       "      <th>4</th>\n",
       "      <td>6ozycU1RpktNG2-1BroVtw</td>\n",
       "      <td>2012-01-05</td>\n",
       "      <td>1uJFq2r5QfJG_6ExMRCaGw</td>\n",
       "      <td>5</td>\n",
       "      <td>General Manager Scott Petello is a good egg!!!...</td>\n",
       "      <td>review</td>\n",
       "      <td>vYmM4KTsC8ZfQBg-j5MWkw</td>\n",
       "      <td>0</td>\n",
       "      <td>0</td>\n",
       "      <td>0</td>\n",
       "    </tr>\n",
       "  </tbody>\n",
       "</table>\n",
       "</div>"
      ],
      "text/plain": [
       "              business_id        date               review_id  stars  \\\n",
       "0  9yKzy9PApeiPPOUJEtnvkg  2011-01-26  fWKvX83p0-ka4JS3dc6E5A      5   \n",
       "1  ZRJwVLyzEJq1VAihDhYiow  2011-07-27  IjZ33sJrzXqU-0X6U8NwyA      5   \n",
       "2  6oRAC4uyJCsJl1X0WZpVSA  2012-06-14  IESLBzqUCLdSzSqm0eCSxQ      4   \n",
       "3  _1QQZuf4zZOyFCvXc0o6Vg  2010-05-27  G-WvGaISbqqaMHlNnByodA      5   \n",
       "4  6ozycU1RpktNG2-1BroVtw  2012-01-05  1uJFq2r5QfJG_6ExMRCaGw      5   \n",
       "\n",
       "                                                text    type  \\\n",
       "0  My wife took me here on my birthday for breakf...  review   \n",
       "1  I have no idea why some people give bad review...  review   \n",
       "2  love the gyro plate. Rice is so good and I als...  review   \n",
       "3  Rosie, Dakota, and I LOVE Chaparral Dog Park!!...  review   \n",
       "4  General Manager Scott Petello is a good egg!!!...  review   \n",
       "\n",
       "                  user_id  cool  useful  funny  \n",
       "0  rLtl8ZkDX5vH5nAx9C3q5Q     2       5      0  \n",
       "1  0a2KyEL0d3Yb1V6aivbIuQ     0       0      0  \n",
       "2  0hT2KtfLiobPvh6cDC8JQg     0       1      0  \n",
       "3  uZetl9T0NcROGOyFfughhg     1       2      0  \n",
       "4  vYmM4KTsC8ZfQBg-j5MWkw     0       0      0  "
      ]
     },
     "execution_count": 2,
     "metadata": {},
     "output_type": "execute_result"
    }
   ],
   "source": [
    "path = \"yelp.csv\"\n",
    "df_yelp = pd.read_csv(path)\n",
    "print(df_yelp.shape)\n",
    "df_yelp.head()"
   ]
  },
  {
   "cell_type": "markdown",
   "metadata": {},
   "source": [
    "## TASK 2: Perform some EDA on the DataFrame\n",
    "\n",
    "Know your data before performing any feature engineering or machine learning on it."
   ]
  },
  {
   "cell_type": "code",
   "execution_count": 3,
   "metadata": {
    "scrolled": true
   },
   "outputs": [
    {
     "name": "stdout",
     "output_type": "stream",
     "text": [
      "<class 'pandas.core.frame.DataFrame'>\n",
      "RangeIndex: 10000 entries, 0 to 9999\n",
      "Data columns (total 10 columns):\n",
      " #   Column       Non-Null Count  Dtype \n",
      "---  ------       --------------  ----- \n",
      " 0   business_id  10000 non-null  object\n",
      " 1   date         10000 non-null  object\n",
      " 2   review_id    10000 non-null  object\n",
      " 3   stars        10000 non-null  int64 \n",
      " 4   text         10000 non-null  object\n",
      " 5   type         10000 non-null  object\n",
      " 6   user_id      10000 non-null  object\n",
      " 7   cool         10000 non-null  int64 \n",
      " 8   useful       10000 non-null  int64 \n",
      " 9   funny        10000 non-null  int64 \n",
      "dtypes: int64(4), object(6)\n",
      "memory usage: 781.4+ KB\n"
     ]
    }
   ],
   "source": [
    "df_yelp.info(memory_usage=True)"
   ]
  },
  {
   "cell_type": "code",
   "execution_count": 4,
   "metadata": {},
   "outputs": [
    {
     "data": {
      "text/html": [
       "<div>\n",
       "<style scoped>\n",
       "    .dataframe tbody tr th:only-of-type {\n",
       "        vertical-align: middle;\n",
       "    }\n",
       "\n",
       "    .dataframe tbody tr th {\n",
       "        vertical-align: top;\n",
       "    }\n",
       "\n",
       "    .dataframe thead th {\n",
       "        text-align: right;\n",
       "    }\n",
       "</style>\n",
       "<table border=\"1\" class=\"dataframe\">\n",
       "  <thead>\n",
       "    <tr style=\"text-align: right;\">\n",
       "      <th></th>\n",
       "      <th>count</th>\n",
       "      <th>mean</th>\n",
       "      <th>std</th>\n",
       "      <th>min</th>\n",
       "      <th>25%</th>\n",
       "      <th>50%</th>\n",
       "      <th>75%</th>\n",
       "      <th>max</th>\n",
       "    </tr>\n",
       "  </thead>\n",
       "  <tbody>\n",
       "    <tr>\n",
       "      <th>stars</th>\n",
       "      <td>10000.0</td>\n",
       "      <td>3.7775</td>\n",
       "      <td>1.214636</td>\n",
       "      <td>1.0</td>\n",
       "      <td>3.0</td>\n",
       "      <td>4.0</td>\n",
       "      <td>5.0</td>\n",
       "      <td>5.0</td>\n",
       "    </tr>\n",
       "    <tr>\n",
       "      <th>cool</th>\n",
       "      <td>10000.0</td>\n",
       "      <td>0.8768</td>\n",
       "      <td>2.067861</td>\n",
       "      <td>0.0</td>\n",
       "      <td>0.0</td>\n",
       "      <td>0.0</td>\n",
       "      <td>1.0</td>\n",
       "      <td>77.0</td>\n",
       "    </tr>\n",
       "    <tr>\n",
       "      <th>useful</th>\n",
       "      <td>10000.0</td>\n",
       "      <td>1.4093</td>\n",
       "      <td>2.336647</td>\n",
       "      <td>0.0</td>\n",
       "      <td>0.0</td>\n",
       "      <td>1.0</td>\n",
       "      <td>2.0</td>\n",
       "      <td>76.0</td>\n",
       "    </tr>\n",
       "    <tr>\n",
       "      <th>funny</th>\n",
       "      <td>10000.0</td>\n",
       "      <td>0.7013</td>\n",
       "      <td>1.907942</td>\n",
       "      <td>0.0</td>\n",
       "      <td>0.0</td>\n",
       "      <td>0.0</td>\n",
       "      <td>1.0</td>\n",
       "      <td>57.0</td>\n",
       "    </tr>\n",
       "  </tbody>\n",
       "</table>\n",
       "</div>"
      ],
      "text/plain": [
       "          count    mean       std  min  25%  50%  75%   max\n",
       "stars   10000.0  3.7775  1.214636  1.0  3.0  4.0  5.0   5.0\n",
       "cool    10000.0  0.8768  2.067861  0.0  0.0  0.0  1.0  77.0\n",
       "useful  10000.0  1.4093  2.336647  0.0  0.0  1.0  2.0  76.0\n",
       "funny   10000.0  0.7013  1.907942  0.0  0.0  0.0  1.0  57.0"
      ]
     },
     "execution_count": 4,
     "metadata": {},
     "output_type": "execute_result"
    }
   ],
   "source": [
    "df_yelp.describe().T"
   ]
  },
  {
   "cell_type": "code",
   "execution_count": 5,
   "metadata": {},
   "outputs": [
    {
     "data": {
      "text/html": [
       "<div>\n",
       "<style scoped>\n",
       "    .dataframe tbody tr th:only-of-type {\n",
       "        vertical-align: middle;\n",
       "    }\n",
       "\n",
       "    .dataframe tbody tr th {\n",
       "        vertical-align: top;\n",
       "    }\n",
       "\n",
       "    .dataframe thead th {\n",
       "        text-align: right;\n",
       "    }\n",
       "</style>\n",
       "<table border=\"1\" class=\"dataframe\">\n",
       "  <thead>\n",
       "    <tr style=\"text-align: right;\">\n",
       "      <th></th>\n",
       "      <th>business_id</th>\n",
       "      <th>date</th>\n",
       "      <th>review_id</th>\n",
       "      <th>stars</th>\n",
       "      <th>text</th>\n",
       "      <th>type</th>\n",
       "      <th>user_id</th>\n",
       "      <th>cool</th>\n",
       "      <th>useful</th>\n",
       "      <th>funny</th>\n",
       "      <th>text_length</th>\n",
       "    </tr>\n",
       "  </thead>\n",
       "  <tbody>\n",
       "    <tr>\n",
       "      <th>0</th>\n",
       "      <td>9yKzy9PApeiPPOUJEtnvkg</td>\n",
       "      <td>2011-01-26</td>\n",
       "      <td>fWKvX83p0-ka4JS3dc6E5A</td>\n",
       "      <td>5</td>\n",
       "      <td>My wife took me here on my birthday for breakf...</td>\n",
       "      <td>review</td>\n",
       "      <td>rLtl8ZkDX5vH5nAx9C3q5Q</td>\n",
       "      <td>2</td>\n",
       "      <td>5</td>\n",
       "      <td>0</td>\n",
       "      <td>895</td>\n",
       "    </tr>\n",
       "    <tr>\n",
       "      <th>1</th>\n",
       "      <td>ZRJwVLyzEJq1VAihDhYiow</td>\n",
       "      <td>2011-07-27</td>\n",
       "      <td>IjZ33sJrzXqU-0X6U8NwyA</td>\n",
       "      <td>5</td>\n",
       "      <td>I have no idea why some people give bad review...</td>\n",
       "      <td>review</td>\n",
       "      <td>0a2KyEL0d3Yb1V6aivbIuQ</td>\n",
       "      <td>0</td>\n",
       "      <td>0</td>\n",
       "      <td>0</td>\n",
       "      <td>1349</td>\n",
       "    </tr>\n",
       "    <tr>\n",
       "      <th>2</th>\n",
       "      <td>6oRAC4uyJCsJl1X0WZpVSA</td>\n",
       "      <td>2012-06-14</td>\n",
       "      <td>IESLBzqUCLdSzSqm0eCSxQ</td>\n",
       "      <td>4</td>\n",
       "      <td>love the gyro plate. Rice is so good and I als...</td>\n",
       "      <td>review</td>\n",
       "      <td>0hT2KtfLiobPvh6cDC8JQg</td>\n",
       "      <td>0</td>\n",
       "      <td>1</td>\n",
       "      <td>0</td>\n",
       "      <td>76</td>\n",
       "    </tr>\n",
       "  </tbody>\n",
       "</table>\n",
       "</div>"
      ],
      "text/plain": [
       "              business_id        date               review_id  stars  \\\n",
       "0  9yKzy9PApeiPPOUJEtnvkg  2011-01-26  fWKvX83p0-ka4JS3dc6E5A      5   \n",
       "1  ZRJwVLyzEJq1VAihDhYiow  2011-07-27  IjZ33sJrzXqU-0X6U8NwyA      5   \n",
       "2  6oRAC4uyJCsJl1X0WZpVSA  2012-06-14  IESLBzqUCLdSzSqm0eCSxQ      4   \n",
       "\n",
       "                                                text    type  \\\n",
       "0  My wife took me here on my birthday for breakf...  review   \n",
       "1  I have no idea why some people give bad review...  review   \n",
       "2  love the gyro plate. Rice is so good and I als...  review   \n",
       "\n",
       "                  user_id  cool  useful  funny  text_length  \n",
       "0  rLtl8ZkDX5vH5nAx9C3q5Q     2       5      0          895  \n",
       "1  0a2KyEL0d3Yb1V6aivbIuQ     0       0      0         1349  \n",
       "2  0hT2KtfLiobPvh6cDC8JQg     0       1      0           76  "
      ]
     },
     "execution_count": 5,
     "metadata": {},
     "output_type": "execute_result"
    }
   ],
   "source": [
    "df_yelp['text_length'] = df_yelp['text'].apply(len)\n",
    "df_yelp.head(3)"
   ]
  },
  {
   "cell_type": "code",
   "execution_count": 6,
   "metadata": {},
   "outputs": [
    {
     "name": "stderr",
     "output_type": "stream",
     "text": [
      "/opt/homebrew/anaconda3/lib/python3.11/site-packages/seaborn/axisgrid.py:118: UserWarning: The figure layout has changed to tight\n",
      "  self._figure.tight_layout(*args, **kwargs)\n"
     ]
    },
    {
     "data": {
      "text/plain": [
       "<seaborn.axisgrid.FacetGrid at 0x13d36d490>"
      ]
     },
     "execution_count": 6,
     "metadata": {},
     "output_type": "execute_result"
    },
    {
     "data": {
      "image/png": "[encoded data removed]",
      "text/plain": [
       "<Figure size 1500x300 with 5 Axes>"
      ]
     },
     "metadata": {},
     "output_type": "display_data"
    }
   ],
   "source": [
    "g = sns.FacetGrid(data=df_yelp, col='stars')\n",
    "g.map(plt.hist, 'text_length')"
   ]
  },
  {
   "cell_type": "code",
   "execution_count": 7,
   "metadata": {},
   "outputs": [
    {
     "data": {
      "text/plain": [
       "<Axes: xlabel='stars', ylabel='text_length'>"
      ]
     },
     "execution_count": 7,
     "metadata": {},
     "output_type": "execute_result"
    },
    {
     "data": {
      "image/png": "[encoded data removed]",
      "text/plain": [
       "<Figure size 640x480 with 1 Axes>"
      ]
     },
     "metadata": {},
     "output_type": "display_data"
    }
   ],
   "source": [
    "sns.boxplot(x='stars', y='text_length', data=df_yelp)"
   ]
  },
  {
   "cell_type": "markdown",
   "metadata": {},
   "source": [
    "* From the 1st graph, we can see that there are some outliers for text-length in stars=1 and stars=3 group. \n",
    "* Text length is going up to as high as 4000-5000 characters. \n",
    "* From the 2nd graph, we can see that the median text length for all star labels is approximately the same."
   ]
  },
  {
   "cell_type": "code",
   "execution_count": 8,
   "metadata": {},
   "outputs": [
    {
     "data": {
      "text/plain": [
       "<Axes: xlabel='count', ylabel='stars'>"
      ]
     },
     "execution_count": 8,
     "metadata": {},
     "output_type": "execute_result"
    },
    {
     "data": {
      "image/png": "[encoded data removed]",
      "text/plain": [
       "<Figure size 640x480 with 1 Axes>"
      ]
     },
     "metadata": {},
     "output_type": "display_data"
    }
   ],
   "source": [
    "sns.countplot(y='stars', data=df_yelp)  # the 4 star ratings top the charts in the dataset\n",
    "# thinking about the ML models to use and metics to evaluate model? \n",
    "# Not accuracy, why? because the data is not balanced. "
   ]
  },
  {
   "cell_type": "markdown",
   "metadata": {},
   "source": [
    "#### Use groupby to get the mean values of the numerical columns"
   ]
  },
  {
   "cell_type": "code",
   "execution_count": 9,
   "metadata": {},
   "outputs": [
    {
     "data": {
      "text/html": [
       "<div>\n",
       "<style scoped>\n",
       "    .dataframe tbody tr th:only-of-type {\n",
       "        vertical-align: middle;\n",
       "    }\n",
       "\n",
       "    .dataframe tbody tr th {\n",
       "        vertical-align: top;\n",
       "    }\n",
       "\n",
       "    .dataframe thead th {\n",
       "        text-align: right;\n",
       "    }\n",
       "</style>\n",
       "<table border=\"1\" class=\"dataframe\">\n",
       "  <thead>\n",
       "    <tr style=\"text-align: right;\">\n",
       "      <th></th>\n",
       "      <th>cool</th>\n",
       "      <th>useful</th>\n",
       "      <th>funny</th>\n",
       "      <th>text_length</th>\n",
       "    </tr>\n",
       "    <tr>\n",
       "      <th>stars</th>\n",
       "      <th></th>\n",
       "      <th></th>\n",
       "      <th></th>\n",
       "      <th></th>\n",
       "    </tr>\n",
       "  </thead>\n",
       "  <tbody>\n",
       "    <tr>\n",
       "      <th>1</th>\n",
       "      <td>0.576769</td>\n",
       "      <td>1.604806</td>\n",
       "      <td>1.056075</td>\n",
       "      <td>830.244326</td>\n",
       "    </tr>\n",
       "    <tr>\n",
       "      <th>2</th>\n",
       "      <td>0.719525</td>\n",
       "      <td>1.563107</td>\n",
       "      <td>0.875944</td>\n",
       "      <td>846.249191</td>\n",
       "    </tr>\n",
       "    <tr>\n",
       "      <th>3</th>\n",
       "      <td>0.788501</td>\n",
       "      <td>1.306639</td>\n",
       "      <td>0.694730</td>\n",
       "      <td>762.325120</td>\n",
       "    </tr>\n",
       "    <tr>\n",
       "      <th>4</th>\n",
       "      <td>0.954623</td>\n",
       "      <td>1.395916</td>\n",
       "      <td>0.670448</td>\n",
       "      <td>716.493193</td>\n",
       "    </tr>\n",
       "    <tr>\n",
       "      <th>5</th>\n",
       "      <td>0.944261</td>\n",
       "      <td>1.381780</td>\n",
       "      <td>0.608631</td>\n",
       "      <td>627.976925</td>\n",
       "    </tr>\n",
       "  </tbody>\n",
       "</table>\n",
       "</div>"
      ],
      "text/plain": [
       "           cool    useful     funny  text_length\n",
       "stars                                           \n",
       "1      0.576769  1.604806  1.056075   830.244326\n",
       "2      0.719525  1.563107  0.875944   846.249191\n",
       "3      0.788501  1.306639  0.694730   762.325120\n",
       "4      0.954623  1.395916  0.670448   716.493193\n",
       "5      0.944261  1.381780  0.608631   627.976925"
      ]
     },
     "execution_count": 9,
     "metadata": {},
     "output_type": "execute_result"
    }
   ],
   "source": [
    "df_stars = df_yelp.groupby('stars').mean(numeric_only=True)\n",
    "df_stars\n",
    "# group by stars to then use a correleation matrix"
   ]
  },
  {
   "cell_type": "code",
   "execution_count": 10,
   "metadata": {},
   "outputs": [
    {
     "data": {
      "text/html": [
       "<div>\n",
       "<style scoped>\n",
       "    .dataframe tbody tr th:only-of-type {\n",
       "        vertical-align: middle;\n",
       "    }\n",
       "\n",
       "    .dataframe tbody tr th {\n",
       "        vertical-align: top;\n",
       "    }\n",
       "\n",
       "    .dataframe thead th {\n",
       "        text-align: right;\n",
       "    }\n",
       "</style>\n",
       "<table border=\"1\" class=\"dataframe\">\n",
       "  <thead>\n",
       "    <tr style=\"text-align: right;\">\n",
       "      <th></th>\n",
       "      <th>cool</th>\n",
       "      <th>useful</th>\n",
       "      <th>funny</th>\n",
       "      <th>text_length</th>\n",
       "    </tr>\n",
       "  </thead>\n",
       "  <tbody>\n",
       "    <tr>\n",
       "      <th>cool</th>\n",
       "      <td>1.000000</td>\n",
       "      <td>-0.743329</td>\n",
       "      <td>-0.944939</td>\n",
       "      <td>-0.856995</td>\n",
       "    </tr>\n",
       "    <tr>\n",
       "      <th>useful</th>\n",
       "      <td>-0.743329</td>\n",
       "      <td>1.000000</td>\n",
       "      <td>0.894506</td>\n",
       "      <td>0.698743</td>\n",
       "    </tr>\n",
       "    <tr>\n",
       "      <th>funny</th>\n",
       "      <td>-0.944939</td>\n",
       "      <td>0.894506</td>\n",
       "      <td>1.000000</td>\n",
       "      <td>0.842585</td>\n",
       "    </tr>\n",
       "    <tr>\n",
       "      <th>text_length</th>\n",
       "      <td>-0.856995</td>\n",
       "      <td>0.698743</td>\n",
       "      <td>0.842585</td>\n",
       "      <td>1.000000</td>\n",
       "    </tr>\n",
       "  </tbody>\n",
       "</table>\n",
       "</div>"
      ],
      "text/plain": [
       "                 cool    useful     funny  text_length\n",
       "cool         1.000000 -0.743329 -0.944939    -0.856995\n",
       "useful      -0.743329  1.000000  0.894506     0.698743\n",
       "funny       -0.944939  0.894506  1.000000     0.842585\n",
       "text_length -0.856995  0.698743  0.842585     1.000000"
      ]
     },
     "execution_count": 10,
     "metadata": {},
     "output_type": "execute_result"
    }
   ],
   "source": [
    "# correlation matrix \n",
    "df_stars.corr()\n"
   ]
  },
  {
   "cell_type": "markdown",
   "metadata": {},
   "source": [
    "#### We can represent this correlation using a heat map, which will make it look much more interesting"
   ]
  },
  {
   "cell_type": "code",
   "execution_count": 11,
   "metadata": {},
   "outputs": [
    {
     "data": {
      "text/plain": [
       "<Axes: >"
      ]
     },
     "execution_count": 11,
     "metadata": {},
     "output_type": "execute_result"
    },
    {
     "data": {
      "image/png": "[encoded data removed]",
      "text/plain": [
       "<Figure size 1000x800 with 2 Axes>"
      ]
     },
     "metadata": {},
     "output_type": "display_data"
    }
   ],
   "source": [
    "# correlation heat map \n",
    "# we are looking for co-linearity between features\n",
    "plt.figure(figsize=(10, 8))\n",
    "sns.heatmap(df_stars.corr(), cmap='coolwarm', annot=True)\n",
    "\n",
    "# This is a N by N matirix, ignore the ones.\n",
    "\n",
    "# N by M martix is different.\n",
    "# useful and funny have the same impact on the model. So why not get rid of one. \n",
    "# why bring in two features that do the same thing. The model doesnt need extra dimensons. \n"
   ]
  },
  {
   "cell_type": "markdown",
   "metadata": {},
   "source": [
    "## TASK 3: Create a new DataFrame that only contains the 5-star and 1-star reviews"
   ]
  },
  {
   "cell_type": "code",
   "execution_count": 12,
   "metadata": {},
   "outputs": [
    {
     "name": "stdout",
     "output_type": "stream",
     "text": [
      "(4086, 11)\n"
     ]
    },
    {
     "data": {
      "text/html": [
       "<div>\n",
       "<style scoped>\n",
       "    .dataframe tbody tr th:only-of-type {\n",
       "        vertical-align: middle;\n",
       "    }\n",
       "\n",
       "    .dataframe tbody tr th {\n",
       "        vertical-align: top;\n",
       "    }\n",
       "\n",
       "    .dataframe thead th {\n",
       "        text-align: right;\n",
       "    }\n",
       "</style>\n",
       "<table border=\"1\" class=\"dataframe\">\n",
       "  <thead>\n",
       "    <tr style=\"text-align: right;\">\n",
       "      <th></th>\n",
       "      <th>business_id</th>\n",
       "      <th>date</th>\n",
       "      <th>review_id</th>\n",
       "      <th>stars</th>\n",
       "      <th>text</th>\n",
       "      <th>type</th>\n",
       "      <th>user_id</th>\n",
       "      <th>cool</th>\n",
       "      <th>useful</th>\n",
       "      <th>funny</th>\n",
       "      <th>text_length</th>\n",
       "    </tr>\n",
       "  </thead>\n",
       "  <tbody>\n",
       "    <tr>\n",
       "      <th>0</th>\n",
       "      <td>9yKzy9PApeiPPOUJEtnvkg</td>\n",
       "      <td>2011-01-26</td>\n",
       "      <td>fWKvX83p0-ka4JS3dc6E5A</td>\n",
       "      <td>5</td>\n",
       "      <td>My wife took me here on my birthday for breakf...</td>\n",
       "      <td>review</td>\n",
       "      <td>rLtl8ZkDX5vH5nAx9C3q5Q</td>\n",
       "      <td>2</td>\n",
       "      <td>5</td>\n",
       "      <td>0</td>\n",
       "      <td>895</td>\n",
       "    </tr>\n",
       "    <tr>\n",
       "      <th>1</th>\n",
       "      <td>ZRJwVLyzEJq1VAihDhYiow</td>\n",
       "      <td>2011-07-27</td>\n",
       "      <td>IjZ33sJrzXqU-0X6U8NwyA</td>\n",
       "      <td>5</td>\n",
       "      <td>I have no idea why some people give bad review...</td>\n",
       "      <td>review</td>\n",
       "      <td>0a2KyEL0d3Yb1V6aivbIuQ</td>\n",
       "      <td>0</td>\n",
       "      <td>0</td>\n",
       "      <td>0</td>\n",
       "      <td>1349</td>\n",
       "    </tr>\n",
       "    <tr>\n",
       "      <th>3</th>\n",
       "      <td>_1QQZuf4zZOyFCvXc0o6Vg</td>\n",
       "      <td>2010-05-27</td>\n",
       "      <td>G-WvGaISbqqaMHlNnByodA</td>\n",
       "      <td>5</td>\n",
       "      <td>Rosie, Dakota, and I LOVE Chaparral Dog Park!!...</td>\n",
       "      <td>review</td>\n",
       "      <td>uZetl9T0NcROGOyFfughhg</td>\n",
       "      <td>1</td>\n",
       "      <td>2</td>\n",
       "      <td>0</td>\n",
       "      <td>423</td>\n",
       "    </tr>\n",
       "    <tr>\n",
       "      <th>4</th>\n",
       "      <td>6ozycU1RpktNG2-1BroVtw</td>\n",
       "      <td>2012-01-05</td>\n",
       "      <td>1uJFq2r5QfJG_6ExMRCaGw</td>\n",
       "      <td>5</td>\n",
       "      <td>General Manager Scott Petello is a good egg!!!...</td>\n",
       "      <td>review</td>\n",
       "      <td>vYmM4KTsC8ZfQBg-j5MWkw</td>\n",
       "      <td>0</td>\n",
       "      <td>0</td>\n",
       "      <td>0</td>\n",
       "      <td>471</td>\n",
       "    </tr>\n",
       "    <tr>\n",
       "      <th>6</th>\n",
       "      <td>zp713qNhx8d9KCJJnrw1xA</td>\n",
       "      <td>2010-02-12</td>\n",
       "      <td>riFQ3vxNpP4rWLk_CSri2A</td>\n",
       "      <td>5</td>\n",
       "      <td>Drop what you're doing and drive here. After I...</td>\n",
       "      <td>review</td>\n",
       "      <td>wFweIWhv2fREZV_dYkz_1g</td>\n",
       "      <td>7</td>\n",
       "      <td>7</td>\n",
       "      <td>4</td>\n",
       "      <td>1571</td>\n",
       "    </tr>\n",
       "  </tbody>\n",
       "</table>\n",
       "</div>"
      ],
      "text/plain": [
       "              business_id        date               review_id  stars  \\\n",
       "0  9yKzy9PApeiPPOUJEtnvkg  2011-01-26  fWKvX83p0-ka4JS3dc6E5A      5   \n",
       "1  ZRJwVLyzEJq1VAihDhYiow  2011-07-27  IjZ33sJrzXqU-0X6U8NwyA      5   \n",
       "3  _1QQZuf4zZOyFCvXc0o6Vg  2010-05-27  G-WvGaISbqqaMHlNnByodA      5   \n",
       "4  6ozycU1RpktNG2-1BroVtw  2012-01-05  1uJFq2r5QfJG_6ExMRCaGw      5   \n",
       "6  zp713qNhx8d9KCJJnrw1xA  2010-02-12  riFQ3vxNpP4rWLk_CSri2A      5   \n",
       "\n",
       "                                                text    type  \\\n",
       "0  My wife took me here on my birthday for breakf...  review   \n",
       "1  I have no idea why some people give bad review...  review   \n",
       "3  Rosie, Dakota, and I LOVE Chaparral Dog Park!!...  review   \n",
       "4  General Manager Scott Petello is a good egg!!!...  review   \n",
       "6  Drop what you're doing and drive here. After I...  review   \n",
       "\n",
       "                  user_id  cool  useful  funny  text_length  \n",
       "0  rLtl8ZkDX5vH5nAx9C3q5Q     2       5      0          895  \n",
       "1  0a2KyEL0d3Yb1V6aivbIuQ     0       0      0         1349  \n",
       "3  uZetl9T0NcROGOyFfughhg     1       2      0          423  \n",
       "4  vYmM4KTsC8ZfQBg-j5MWkw     0       0      0          471  \n",
       "6  wFweIWhv2fREZV_dYkz_1g     7       7      4         1571  "
      ]
     },
     "execution_count": 12,
     "metadata": {},
     "output_type": "execute_result"
    }
   ],
   "source": [
    "df_yelp_best_worst = df_yelp[(df_yelp.stars==5) | (df_yelp.stars==1)]\n",
    "print(df_yelp_best_worst.shape)\n",
    "df_yelp_best_worst.head()"
   ]
  },
  {
   "cell_type": "code",
   "execution_count": 13,
   "metadata": {},
   "outputs": [
    {
     "data": {
      "text/plain": [
       "<Axes: xlabel='stars', ylabel='count'>"
      ]
     },
     "execution_count": 13,
     "metadata": {},
     "output_type": "execute_result"
    },
    {
     "data": {
      "image/png": "[encoded data removed]",
      "text/plain": [
       "<Figure size 640x480 with 1 Axes>"
      ]
     },
     "metadata": {},
     "output_type": "display_data"
    }
   ],
   "source": [
    "sns.countplot(x=df_yelp_best_worst['stars'], label=\"Count\") "
   ]
  },
  {
   "cell_type": "markdown",
   "metadata": {},
   "source": [
    "This is an imbalanced dataset.  The imbalance between the positives and negatives is almost in the ratio of 4.5 : 1."
   ]
  },
  {
   "cell_type": "code",
   "execution_count": 14,
   "metadata": {},
   "outputs": [
    {
     "data": {
      "text/plain": [
       "stars\n",
       "5    3337\n",
       "1     749\n",
       "Name: count, dtype: int64"
      ]
     },
     "execution_count": 14,
     "metadata": {},
     "output_type": "execute_result"
    }
   ],
   "source": [
    "df_yelp_best_worst['stars'].value_counts()\n",
    "# null accuracy: chance of random if you pick the dominate/majority class. The mode of stars."
   ]
  },
  {
   "cell_type": "code",
   "execution_count": 15,
   "metadata": {},
   "outputs": [
    {
     "data": {
      "text/plain": [
       "stars\n",
       "5    0.816691\n",
       "1    0.183309\n",
       "Name: proportion, dtype: float64"
      ]
     },
     "execution_count": 15,
     "metadata": {},
     "output_type": "execute_result"
    }
   ],
   "source": [
    "df_yelp_best_worst['stars'].value_counts(normalize=True)\n",
    "# null accuracy: chance of random if you pick the dominate/majority class. The mode of stars."
   ]
  },
  {
   "cell_type": "markdown",
   "metadata": {},
   "source": [
    "## TASK 4: Split the new DataFrame into training and testing sets"
   ]
  },
  {
   "cell_type": "code",
   "execution_count": 16,
   "metadata": {},
   "outputs": [],
   "source": [
    "from sklearn.model_selection import train_test_split"
   ]
  },
  {
   "cell_type": "code",
   "execution_count": 17,
   "metadata": {},
   "outputs": [],
   "source": [
    "X = df_yelp_best_worst['text']\n",
    "y = df_yelp_best_worst['stars']\n",
    "\n",
    "# Split the new DataFrame into training and testing sets.  Default test_size=.25\n",
    "X_train, X_test, y_train, y_test = train_test_split(X, y, random_state=42)"
   ]
  },
  {
   "cell_type": "code",
   "execution_count": 18,
   "metadata": {},
   "outputs": [
    {
     "name": "stdout",
     "output_type": "stream",
     "text": [
      "(3064,)\n"
     ]
    },
    {
     "data": {
      "text/plain": [
       "5969    My boyfriend and I stopped by to grab a bite t...\n",
       "6242    When was the last time that you went to a rest...\n",
       "506     Hands-down my favorite pizza place in the East...\n",
       "7848    Arai pastry is so delicious!\\r\\nironically i c...\n",
       "1145    Great Mom/Pop store! We've stopped by several ...\n",
       "Name: text, dtype: object"
      ]
     },
     "execution_count": 18,
     "metadata": {},
     "output_type": "execute_result"
    }
   ],
   "source": [
    "print(X_train.shape)\n",
    "X_train.head()"
   ]
  },
  {
   "cell_type": "code",
   "execution_count": 19,
   "metadata": {},
   "outputs": [
    {
     "name": "stdout",
     "output_type": "stream",
     "text": [
      "(3064,)\n"
     ]
    },
    {
     "data": {
      "text/plain": [
       "5969    5\n",
       "6242    5\n",
       "506     5\n",
       "7848    5\n",
       "1145    5\n",
       "Name: stars, dtype: int64"
      ]
     },
     "execution_count": 19,
     "metadata": {},
     "output_type": "execute_result"
    }
   ],
   "source": [
    "print(y_train.shape)\n",
    "y_train.head()"
   ]
  },
  {
   "cell_type": "markdown",
   "metadata": {},
   "source": [
    "## TASK 5: Use CountVectorizer to create document-term matrices from X_train and X_test\n",
    "\n",
    "Use CountVectorizer to create document-term matrices from X_train and X_test (i.e., convert a collection of text documents to a matrix of token counts).\n",
    "\n",
    "If you run into a decoding error, instantiate the vectorizer with the argument decode_error='ignore'"
   ]
  },
  {
   "cell_type": "code",
   "execution_count": 20,
   "metadata": {},
   "outputs": [],
   "source": [
    "from sklearn.feature_extraction.text import CountVectorizer, TfidfVectorizer"
   ]
  },
  {
   "cell_type": "code",
   "execution_count": 21,
   "metadata": {},
   "outputs": [
    {
     "name": "stdout",
     "output_type": "stream",
     "text": [
      "(3064, 16415)\n",
      "(1022, 16415)\n"
     ]
    }
   ],
   "source": [
    "count_vect = CountVectorizer(stop_words='english')\n",
    "\n",
    "count_vect.fit(X_train)  # learn the vocabulary dictionary\n",
    "\n",
    "# Vectorize the data; transform to document-term matrix based on the vocabulary learned during the fitting\n",
    "X_train_dtm = count_vect.transform(X_train)\n",
    "X_test_dtm = count_vect.transform(X_test)\n",
    "\n",
    "print(X_train_dtm.shape)\n",
    "print(X_test_dtm.shape)"
   ]
  },
  {
   "cell_type": "code",
   "execution_count": 22,
   "metadata": {},
   "outputs": [
    {
     "data": {
      "text/plain": [
       "[('peanutty', 10631),\n",
       " ('cock', 3091),\n",
       " ('vaporized', 15557),\n",
       " ('euphoria', 5203),\n",
       " ('commence', 3182),\n",
       " ('slurping', 13360),\n",
       " ('jerry', 7913),\n",
       " ('wafts', 15770),\n",
       " ('garcia', 6192),\n",
       " ('phish', 10804),\n",
       " ('vibrator', 15651),\n",
       " ('rooting', 12396),\n",
       " ('roadway', 12324),\n",
       " ('controls', 3452),\n",
       " ('temporary', 14619),\n",
       " ('delaying', 4136),\n",
       " ('presold', 11292),\n",
       " ('fought', 5936),\n",
       " ('fujiya', 6097),\n",
       " ('freshener', 6006),\n",
       " ('suruki', 14289),\n",
       " ('mateo', 9067),\n",
       " ('pantry', 10463),\n",
       " ('graced', 6472),\n",
       " ('morphed', 9552),\n",
       " ('silently', 13188),\n",
       " ('tiers', 14813),\n",
       " ('rattles', 11748),\n",
       " ('pacifier', 10371),\n",
       " ('transporting', 15062),\n",
       " ('strolling', 14060),\n",
       " ('viad', 15645),\n",
       " ('mommy', 9492),\n",
       " ('oldsmobuick', 10101),\n",
       " ('teds', 14581),\n",
       " ('sissys', 13238),\n",
       " ('fru', 6064),\n",
       " ('visualize', 15718),\n",
       " ('hardwood', 6828),\n",
       " ('berg', 1598),\n",
       " ('purist', 11563),\n",
       " ('goood', 6439),\n",
       " ('fatal', 5501),\n",
       " ('failure', 5431),\n",
       " ('enforce', 5049),\n",
       " ('whatsover', 15976),\n",
       " ('dummies', 4778),\n",
       " ('trashy', 15067),\n",
       " ('novels', 9949),\n",
       " ('marrow', 9010)]"
      ]
     },
     "execution_count": 22,
     "metadata": {},
     "output_type": "execute_result"
    }
   ],
   "source": [
    "# Show vectorizer attributes\n",
    "list(count_vect.vocabulary_.items())[-50:]"
   ]
  },
  {
   "cell_type": "markdown",
   "metadata": {},
   "source": [
    "## TASK 6: Use Naive Bayes to predict the star rating for the testing set, and calculate accuracy\n",
    "\n",
    "Accuracy is a measure of the overall correctness of the model's predictions.\n",
    "* It is calculated as the ratio of correctly predicted instances to the total number of instances.\n",
    "* An accuracy score of 0.9119 means that approximately 91.19% of the model's predictions are correct on the dataset it was evaluated on.\n",
    "* While accuracy is a straightforward metric, it might not provide a complete picture, especially in an imbalanced datasets where one class dominates the others. \n",
    "* For example, if a dataset has a skewed class distribution, a model predicting the majority class most of the time could still achieve a high accuracy."
   ]
  },
  {
   "cell_type": "code",
   "execution_count": 23,
   "metadata": {},
   "outputs": [],
   "source": [
    "from sklearn.naive_bayes import MultinomialNB\n",
    "from sklearn import metrics"
   ]
  },
  {
   "cell_type": "code",
   "execution_count": 24,
   "metadata": {},
   "outputs": [],
   "source": [
    "nb_classifier = MultinomialNB()\n",
    "nb_classifier.fit(X_train_dtm, y_train)\n",
    "y_pred_test = nb_classifier.predict(X_test_dtm)"
   ]
  },
  {
   "cell_type": "code",
   "execution_count": 25,
   "metadata": {},
   "outputs": [
    {
     "name": "stdout",
     "output_type": "stream",
     "text": [
      "0.9119373776908023\n"
     ]
    }
   ],
   "source": [
    "print(metrics.accuracy_score(y_test, y_pred_test))  # calculate accuracy  .90802 with stop_words not removed\n",
    "\n",
    "# null accuracy: chance of random if you pick the dominate/majority class. The mode of stars."
   ]
  },
  {
   "cell_type": "markdown",
   "metadata": {},
   "source": [
    "## TASK 7: Calculate the AUC\n",
    "\n",
    "Compute Area Under the Receiver Operating Characteristic Curve (ROC AUC) from prediction scores.\n",
    "1. Make sure to pass the predicted probabilities to roc_auc_score, not the predicted classes!!!!!\n",
    "\n",
    "NOTE: use probabilties not the class\n",
    "1. roc_auc_score() will get confused if y_test contains ones and fives, so you will need to create a new object that contains  zeros and ones instead.\n",
    "\n",
    "* The AUC measures the ability of the model to distinguish between the positive & negative classes.\n",
    "* Higher the AUC, the better performance of the model at distinguishing between them.\n",
    "* The AUC is a graphical representation of the trade-off between sensitivity (true positive rate) and specificity (true negative rate) across different threshold settings.\n",
    "* An AUC score of 0.8081 means that the model's ability to distinguish between the positive and negative classes is reasonably good.\n",
    "* An AUC score of 0.5 suggests that the model performs no better than random, while an AUC score of 1 indicates perfect discrimination."
   ]
  },
  {
   "cell_type": "code",
   "execution_count": 26,
   "metadata": {},
   "outputs": [],
   "source": [
    "from sklearn.metrics import roc_auc_score"
   ]
  },
  {
   "cell_type": "code",
   "execution_count": 27,
   "metadata": {},
   "outputs": [
    {
     "data": {
      "text/plain": [
       "0.9232004493915508"
      ]
     },
     "execution_count": 27,
     "metadata": {},
     "output_type": "execute_result"
    }
   ],
   "source": [
    "# roc_auc_score() gets confused if y_test contains fives and ones, so create a new object that contains ones and zeros instead\n",
    "y_test_target = y_test.replace({1:0, 5:1}) # turning 5 and 1 into 1 and 0\n",
    "\n",
    "y_test_proba = nb_classifier.predict_proba(X_test_dtm)[:, 1]  # probabilities for the positive class\n",
    "\n",
    "roc_auc_score(y_test_target, y_test_proba)"
   ]
  },
  {
   "cell_type": "markdown",
   "metadata": {},
   "source": [
    "## TASK 8: Plot the ROC curve\n",
    "\n",
    "Use scikit-learn's roc_curve function to calculate the false positive rate (fpr) and true positive rate (tpr) based on the test target values and predicted probabilities.  Then plots these as an ROC curve using the mathplotlib method, plot()."
   ]
  },
  {
   "cell_type": "code",
   "execution_count": 28,
   "metadata": {},
   "outputs": [],
   "source": [
    "from sklearn.metrics import roc_curve, auc"
   ]
  },
  {
   "cell_type": "code",
   "execution_count": 29,
   "metadata": {},
   "outputs": [
    {
     "data": {
      "image/png": "[encoded data removed]",
      "text/plain": [
       "<Figure size 800x600 with 1 Axes>"
      ]
     },
     "metadata": {},
     "output_type": "display_data"
    }
   ],
   "source": [
    "# Calculate the fpr and tpr values for different probability thresholds\n",
    "fpr, tpr, thresholds = roc_curve(y_test_target, y_test_proba)\n",
    "\n",
    "roc_auc = auc(fpr, tpr)  # calculate the AUC, which measures the overall performance of the classifier.\n",
    "\n",
    "plt.figure(figsize=(8, 6))\n",
    "plt.plot(fpr, tpr, color='darkorange', lw=2, label=f'ROC curve (area = {roc_auc:.2f})')\n",
    "\n",
    "# The diagonal line represents a random classifier (AUC = 0.5)\n",
    "plt.plot([0, 1], [0, 1], color='navy', lw=2, linestyle='--')\n",
    "plt.xlim([0.0, 1.0])\n",
    "plt.ylim([0.0, 1.05])\n",
    "plt.xlabel('False Positive Rate', fontsize=12)\n",
    "plt.ylabel('True Positive Rate', fontsize=12)\n",
    "plt.title('Receiver Operating Characteristic (ROC) Curve for Yelp Review Classifier', fontsize=14)\n",
    "plt.legend(loc=\"lower right\")\n",
    "plt.show()"
   ]
  },
  {
   "cell_type": "markdown",
   "metadata": {},
   "source": [
    "## TASK 9: Print the confusion matrix, and calculate sensitivity, specificity, and precision\n",
    "\n",
    "For both the test and training datasets.  So, print two separate confusion matrices.  For the training dataset, you'll be making predictions on the vectorized X_train data, and then comparing the training predictions against the ground truth."
   ]
  },
  {
   "cell_type": "code",
   "execution_count": 30,
   "metadata": {},
   "outputs": [],
   "source": [
    "from sklearn.metrics import classification_report, confusion_matrix"
   ]
  },
  {
   "cell_type": "markdown",
   "metadata": {},
   "source": [
    "### Test Dataset"
   ]
  },
  {
   "cell_type": "code",
   "execution_count": 31,
   "metadata": {},
   "outputs": [
    {
     "data": {
      "text/plain": [
       "array([[127,  72],\n",
       "       [ 18, 805]])"
      ]
     },
     "execution_count": 31,
     "metadata": {},
     "output_type": "execute_result"
    }
   ],
   "source": [
    "confusion_matrix(y_test, y_pred_test)  # print the confusion matrix"
   ]
  },
  {
   "cell_type": "code",
   "execution_count": 32,
   "metadata": {},
   "outputs": [
    {
     "data": {
      "image/png": "[encoded data removed]",
      "text/plain": [
       "<Figure size 500x300 with 2 Axes>"
      ]
     },
     "metadata": {},
     "output_type": "display_data"
    }
   ],
   "source": [
    "def plot_confustion_matrix(cm):\n",
    "    classes = [\"1\", \"5\"]\n",
    "    plt.figure(figsize=(5, 3))\n",
    "    sns.heatmap(cm, annot=True, fmt='d', xticklabels=classes, yticklabels=classes)  # display the confusion matrix.  fmt='d' suppresses scientific notation\n",
    "    plt.xlabel('Predicted Label', fontsize=12)\n",
    "    plt.ylabel('True Label', fontsize=12)\n",
    "    plt.title('Confusion Matrix', fontsize=14)\n",
    "    \n",
    "cm = confusion_matrix(y_test, y_pred_test)\n",
    "plot_confustion_matrix(cm)\n",
    "\n",
    "\n",
    "# Precision = true positive\n",
    "# Specificity= true negative"
   ]
  },
  {
   "cell_type": "markdown",
   "metadata": {},
   "source": [
    "#### Calculate sensitivity and specificity\n",
    "\n",
    "[Precision and recall](https://en.wikipedia.org/wiki/Precision_and_recall)\n",
    "\n",
    "* Sensitivity is the true positive rate, aka recall\n",
    "* Specificity is the true negative rate, aka selectivity\n",
    "* Precision refers to the percentage of positive predictions that are actually correct."
   ]
  },
  {
   "cell_type": "code",
   "execution_count": 33,
   "metadata": {},
   "outputs": [
    {
     "name": "stdout",
     "output_type": "stream",
     "text": [
      "sensitivity = 0.98, specificity = 0.64, precision = 0.92\n"
     ]
    }
   ],
   "source": [
    "# how to adjust \n",
    "\n",
    "TP = cm[1][1]\n",
    "TN = cm[0][0]\n",
    "FP = cm[0][1]\n",
    "FN = cm[1][0]\n",
    "\n",
    "P = TP + FN  # all positives, in this case, 5 stars is considered to be the positive class\n",
    "N = TN + FP  # all negatives, in this case, 1 star is considered to be the negative class\n",
    "\n",
    "sensitivity = TP / P\n",
    "specificity = TN / N\n",
    "precision   = TP / (TP + FP)\n",
    "\n",
    "print(f'sensitivity = {round(sensitivity, 2)}, specificity = {round(specificity, 2)}, precision = {round(precision, 2)}')"
   ]
  },
  {
   "cell_type": "code",
   "execution_count": 34,
   "metadata": {},
   "outputs": [
    {
     "name": "stdout",
     "output_type": "stream",
     "text": [
      "              precision    recall  f1-score   support\n",
      "\n",
      "           1       0.88      0.64      0.74       199\n",
      "           5       0.92      0.98      0.95       823\n",
      "\n",
      "    accuracy                           0.91      1022\n",
      "   macro avg       0.90      0.81      0.84      1022\n",
      "weighted avg       0.91      0.91      0.91      1022\n",
      "\n"
     ]
    }
   ],
   "source": [
    "print(classification_report(y_test, y_pred_test))"
   ]
  },
  {
   "cell_type": "markdown",
   "metadata": {},
   "source": [
    "### Training Dataset"
   ]
  },
  {
   "cell_type": "code",
   "execution_count": 35,
   "metadata": {},
   "outputs": [
    {
     "name": "stdout",
     "output_type": "stream",
     "text": [
      "[5 5 5 ... 5 1 5]\n"
     ]
    }
   ],
   "source": [
    "y_pred_train = nb_classifier.predict(X_train_dtm)\n",
    "print(y_pred_train)"
   ]
  },
  {
   "cell_type": "code",
   "execution_count": 36,
   "metadata": {},
   "outputs": [
    {
     "data": {
      "text/plain": [
       "array([[ 503,   47],\n",
       "       [  15, 2499]])"
      ]
     },
     "execution_count": 36,
     "metadata": {},
     "output_type": "execute_result"
    }
   ],
   "source": [
    "confusion_matrix(y_train, y_pred_train)  # print the confusion matrix"
   ]
  },
  {
   "cell_type": "code",
   "execution_count": 37,
   "metadata": {},
   "outputs": [
    {
     "data": {
      "image/png": "[encoded data removed]",
      "text/plain": [
       "<Figure size 500x300 with 2 Axes>"
      ]
     },
     "metadata": {},
     "output_type": "display_data"
    }
   ],
   "source": [
    "cm = confusion_matrix(y_train, y_pred_train)\n",
    "# sns.heatmap(cm, annot=True, fmt='d')  # display the confusion matrix.  fmt='d' suppresses scientific notation\n",
    "plot_confustion_matrix(cm)"
   ]
  },
  {
   "cell_type": "markdown",
   "metadata": {},
   "source": [
    "The numpy method, ravel(), return a contiguous flattened array.  The confusion matrix, cm, is a numpy.ndarray, so in this context, ravel() is a shortcut for performing:\n",
    "\n",
    "TN = cm[0][0]<br>\n",
    "FP = cm[0][1]<br>\n",
    "FN = cm[1][0]<br>\n",
    "TP = cm[1][1]\n"
   ]
  },
  {
   "cell_type": "code",
   "execution_count": 38,
   "metadata": {},
   "outputs": [
    {
     "name": "stdout",
     "output_type": "stream",
     "text": [
      "sensitivity = 0.99, specificity = 0.91, precision = 0.98\n"
     ]
    }
   ],
   "source": [
    "TN, FP, FN, TP = cm.ravel()\n",
    "\n",
    "P = TP + FN  # all positives, in this case, 5 stars is considered to be the positive class\n",
    "N = TN + FP  # all negatives, in this case, 1 star is considered to be the negative class\n",
    "\n",
    "sensitivity = TP / P\n",
    "specificity = TN / N\n",
    "precision   = TP / (TP + FP)\n",
    "\n",
    "print(f'sensitivity = {round(sensitivity, 2)}, specificity = {round(specificity, 2)}, precision = {round(precision, 2)}')"
   ]
  },
  {
   "cell_type": "code",
   "execution_count": 39,
   "metadata": {},
   "outputs": [
    {
     "name": "stdout",
     "output_type": "stream",
     "text": [
      "              precision    recall  f1-score   support\n",
      "\n",
      "           1       0.97      0.91      0.94       550\n",
      "           5       0.98      0.99      0.99      2514\n",
      "\n",
      "    accuracy                           0.98      3064\n",
      "   macro avg       0.98      0.95      0.96      3064\n",
      "weighted avg       0.98      0.98      0.98      3064\n",
      "\n"
     ]
    }
   ],
   "source": [
    "print(classification_report(y_train, y_pred_train))"
   ]
  },
  {
   "cell_type": "markdown",
   "metadata": {},
   "source": [
    "## TASK 10: Browse the review text for the false positive and false negatives"
   ]
  },
  {
   "cell_type": "code",
   "execution_count": 40,
   "metadata": {},
   "outputs": [
    {
     "name": "stdout",
     "output_type": "stream",
     "text": [
      "Of the 1,022 predictions, there are 72 false positives.\n",
      "\n",
      "False Positives:\n",
      "\n",
      "Index: 1406, Review Text:\n",
      "From my door, it's a five minute stroll through the greenbelt to Dukes. They have a nice patio. They have enough TVs to show all MLB/NFL/NBA games. They have plenty of shuffleboard and pool tables. Yet, I've only been to Duke's a few times and I am not going back. This place is just bad.\r\n",
      "\r\n",
      "Mixed drinks are poured short and use cheap mixers (such as bottled sour mix for margaritas). They offer a pretty basic beer selection. I think PBR pitchers might be more modestly priced, but that might be only when they're on \"special.\"\r\n",
      "\r\n",
      "The food is pretty bad, even for bar food. And pricey. Sure, the menu is gigantic and I've tried many different items, but I didn't find anything good. Everything seems to be made from \"freezer to fryer\" or packaged products. I'm not exaggerating: the burger and fries for about $8 is a thin, previously frozen patty with a handful or supermarket fries. I could go on about salads, sandwiches, and ribs. In the same price range, you can get a much better version of anything on the menu at Four Peaks or Zipps or even Devil's Advocate.\r\n",
      "\r\n",
      "One of the owners was there on a few occasions. I guess being the boss of (and drinking in) his own bar is some sort of dream of his. He treats the place like his kingdom. He'll ask patrons \"how is everything?\" and get mad at them if they have anything negative to say. I feel bad for the rest of the service staff; they seem to be above average, but when the overall situation is this bad it just doesn't matter.\r\n",
      "\r\n",
      "In this city, sports bars are a dime a dozen. I'd rather go elsewhere.\n",
      "________________________________________________________________________________ \n",
      "\n",
      "Index: 389, Review Text:\n",
      "I really don't get why everyone is raving this place.  I've been here twice and ordered the carne asada burrito.  The portions are really small for the price that they charge.  There is too much tortilla for the meat.  I think this place is overrated and that there are better places for carne asada in the valley.\n",
      "________________________________________________________________________________ \n",
      "\n",
      "Index: 2060, Review Text:\n",
      "This place is closed.  Good riddance.\n",
      "________________________________________________________________________________ \n",
      "\n",
      "Index: 715, Review Text:\n",
      "What's with the cheese?  It isn't even Velveta.  It's liquid cheese food and it belongs somewhere other than on my burger.\r\n",
      "\r\n",
      "$5 burger and fries is a great deal IF -- IF -- it's a great deal.  This is just liquid cheese food on a hamburger patty.  McDonald's will do a burger and fries for $5 that's tastier than this dump.\n",
      "________________________________________________________________________________ \n",
      "\n",
      "Index: 2839, Review Text:\n",
      "Never Again,\r\n",
      "I brought my Mountain Bike in (which I bought 1 week earlier from Walmart) to have them replace my flat inner tubes with puncture resistant tubes.)  I came back 20 minutes later when they said it would be done and as I rode away, the back tire rhythmically rubbed against the back brake.  When I returned and told them about it, I was told the back wheel was not true.  It was true for the whole short week since I purchased it from Walmart.  I plan to take it to their competitor (Landis) and pay the extra $15-$25) to have the wheel put back to the straight condition it was in when I brought it to Slippery Pig in the first place.   I would never give a shop another penny for an extra service I should never have needed on a brand new bike which coasted perfectly when I brought it in.\n",
      "________________________________________________________________________________ \n",
      "\n",
      "Index: 212, Review Text:\n",
      "I had not been to an Oregano's in like 10 years. They seems to be popping up all over here in AZ now so my buddy was in from out of town and he wanted to try, so why not.\r\n",
      "\r\n",
      "I'll tell you \"Why NOT\"... we has two thin crust pizzas... and I even hate to call them that. More like... crackers with melted cheese and some toppings.\r\n",
      "\r\n",
      "That was some of the worst excuse for pizza I've ever had. Most of the fast-food delivery pizza I've had beats it -- and I do not like, at all, delivery pizza.\r\n",
      "\r\n",
      "Maybe the pan pizza is better than the thin crust... god it could not be worse!\r\n",
      "\r\n",
      "It only deserves one star for the good service... other than that is the another sub-par overpriced \"gourmet\" pizza joint.\r\n",
      "\r\n",
      "If you want expensive, and good, pizza there are many good alternatives... Pizzeria Bianco, Grimaldi's, etc.\n",
      "________________________________________________________________________________ \n",
      "\n",
      "Index: 2084, Review Text:\n",
      "Easily the worst \"burrito\" I have ever had.\r\n",
      "It amazes my that anyone would choose to eat at this chain. I bet the rations they serve from the back of UN trucks to refugees is better.\n",
      "________________________________________________________________________________ \n",
      "\n",
      "Index: 5977, Review Text:\n",
      "You want good food? You'd be better off smuggling goat cheese in your boot and risking an anal cavity search for doing so than eating at this airport.\r\n",
      "\r\n",
      "You want scenery? Try desert.\r\n",
      "\r\n",
      "\r\n",
      "You want a comfortable seat to wait for your delayed flight?  Well you are in the desert so you'd probably better off finding a cactus and straddling it face first.\r\n",
      "\r\n",
      "You want a relatively close connection for your flight? Well tough shit.  Oh yeah, they've got people movers but somehow they have this magical ability to disengage people's legs.  Yeah I know it sounds crazy but as soon as people step on to these things their legs stop moving and they plant their fat ass right in the middle of the walk way.  Whats wrong with your legs you mammoth!?\n",
      "________________________________________________________________________________ \n",
      "\n",
      "Index: 5346, Review Text:\n",
      "I went there with a friend last year after reading so many good reviews. The service is good. We didn't have to wait but I didn't like the food I ordered. I had a salmon with caper butter sauce. The fish is not fresh at all and the food is too geasy for me.\n",
      "________________________________________________________________________________ \n",
      "\n",
      "Index: 9441, Review Text:\n",
      "It was my Birthday and my wife, her mom, a dear friend and I headed to Fleming's Steakhouse in Chandler, AZ. We heard only great things about this place and wanted to experience their 'unforgettable' steak dishes. That, we did, unfortunately. \r\n",
      "\r\n",
      "The restaurant was lovely dim-lit, adequate atmosphere for an expensive steak place. We were seated immediately and tended to by the waiting staff. The small roll of bread and two kinds of butter were good but insufficient for four hungry souls and we polished it up right away. No one offered to bring more. Our waiter told us about the daily specials, after which we ordered food and wine. After a short wait, four large dinner plates arrived. I was the lucky one, my steak (a large  rib eye steak, ordered medium-rare which tasted very good despite two large blobs of fat) was sitting pretty in the middle of the large dinner plate. Nothing else on my plate, just the steak. I looked around at my wife's plate and couldn't believe, her fillet mignon was laying there, in the middle of the large dinner plate without anything garnishing it, be that a glaze, a leaf, a slice of whatever! At the prices asked by this restaurant, it felt like an insult to each of us to have such a poor presentation of a steak!! We asked our waiter for a side dish, mashed potatoes with Parmesan, and when they arrived, we couldn't believe it! There were no more than two scraggly potatoes turned into mashed potatoes, or about a tablespoon of mashed potatoes per person. Mind you, they tasted good, but at over $9.00 per side dish? In short, we left hungry and wondering why we spent over $200 for the entire meal.\r\n",
      "\r\n",
      "Next time, we'll go to a well tried place for steaks and more. Durant's, downtown Phoenix and worth the drive.\n",
      "________________________________________________________________________________ \n",
      "\n",
      "Index: 6222, Review Text:\n",
      "My mother always told me, if I didn't have anything nice to say, say nothing!\n",
      "________________________________________________________________________________ \n",
      "\n",
      "Index: 2297, Review Text:\n",
      "This is a sad excuse for a gay resort.  Sort of like a worn out version of Palm Springs.  We found the Zen Yard up on Maryland Avenue a much more agreeable experience in a better neighborhood as well.  Zen Yard is a far better value, with full breakfasts included and warm, helpful hosts as well, not to mention particularly reasonable off-season rates and hosts who are actually there for their guests.\n",
      "________________________________________________________________________________ \n",
      "\n",
      "Index: 487, Review Text:\n",
      "Would have to agree with Rana A below... I think she said it best\r\n",
      "\r\n",
      "Actually, I had several folks tell me this place was lousy before I went... it even fell below my already low expectations...\r\n",
      "\r\n",
      "Given that I just left the real Barcelona (in Spain)- part of me was truly crying inside that night. OK, I gotta admit- everytime I tell someone I was just in Barcelona (the city) and they say \"you mean the one in Scottsdale\" there is a part of me that wants to just pack my bags and fly back...\n",
      "________________________________________________________________________________ \n",
      "\n",
      "Index: 8507, Review Text:\n",
      "This location is now closed.\n",
      "________________________________________________________________________________ \n",
      "\n",
      "Index: 4502, Review Text:\n",
      "Warning: Douche Bag level CODE RED!\r\n",
      "\r\n",
      "Here's how my experience went ... \r\n",
      "\r\n",
      "Me: \"May I have a Carmel Latte?\" \r\n",
      "Employee: \"No\"\r\n",
      ".... dead air ...\r\n",
      "Me: \"Ummm why not?\"\r\n",
      "Employee: \"We don't have carmel\"\r\n",
      "Me: \"Ummm I guess I'll just have a Cappuccino then\"\r\n",
      "Employee: \"Just so you know it's a REAL Cappuccino\"\r\n",
      "Me: \"Okay\" (in my head I'm trying to figure out if I can legally punch this dickhead in the face or not).\r\n",
      "\r\n",
      "So I sat down mulling over this experience in the dank dark atmosphere while listening to this ass wipe talk to his friend about living on other peoples couches for the past few months and about how he'll be moving to downtown Phoenix soon. To which I just chuckled to myself as this person was FAR from cool enough to blend into CenPho. What a complete and utter douche bag. Stay in Tempe poser (and keep your employer there to!).\r\n",
      "\r\n",
      "This experience was months ago, and now they have opened up a shop downtown. Guess what? I'm not going to check them out. Fuck you Cartel. You'll never be Lux, so just stay in Tempe where you can be a complete poser with an attitude that you haven't earned.\r\n",
      "\r\n",
      "Complete FAIL. \r\n",
      "\r\n",
      "For my two cents, skip this place and go to Lux in CenPho/Mid Town right off the Light Rail. Authentically cool with ZERO attitude, great coffee and no douche bag employees. \r\n",
      "\r\n",
      "And as for great coffee ... try Conspire WAY better coffee and authenticly cool.\r\n",
      "\r\n",
      "---- \r\n",
      "please read \"owners comment\" below ... here's my response ... \r\n",
      "----\r\n",
      "Wow so the coffee snobbery continues with the owner ... I guess my new job  should be to \"promote good coffee in Arizona\" ... and I don't appreciate good coffee because I enjoy the combination of caramel AND coffee ... \r\n",
      "\r\n",
      "By that definition I guess I don't know good ice cream because I like hot fudge on it or good pizza because I enjoy pepperoni AND cheese or good music if it's not acoustic or a good voice unless it's A cappella ... thanks for proving my point. I wouldn't go here unless you are a total coffee snob ... (I guess) they don't need your business you poser!\n",
      "________________________________________________________________________________ \n",
      "\n",
      "Index: 8569, Review Text:\n",
      "This place has the oiliest food I've ever eaten in my life.  I had carry out one evening (two dishes) and the entrees were soaked in oil.  I had to rinse with water my eggplant dish three times just to eat it without feeling sick to my stomach.  I wish I could've washed the other dish too (but it wasn't one that could be washed--it was a wide-rice noodle dish).\r\n",
      "\r\n",
      "Can definitely taste the MSG in these dishes too.\r\n",
      "\r\n",
      "Really not sure what the fuss is about.\n",
      "________________________________________________________________________________ \n",
      "\n",
      "Index: 3677, Review Text:\n",
      "Hands down, the single worst public mass transit system I have seen ANY PLACE I have ever lived or traveled to (and I am an avid world traveler). \r\n",
      "I've been riding this system on and off (I vaccilate between non-Phoenix-metro cities and here a lot) for roughly 10 years, and yeah, for a few of those years I would also drive a car here and there, so I have a sound basis of comparison. \r\n",
      "\r\n",
      "This is a joke compared to other cities in the USA (and abroad) that have equivalent populations. Hell, in NYC and LA, it's SOOO much easier to get around even though those places are larger and more densely populated. Phoenix is easily 30 years behind every other city-size comparable mass transit system that's out there. Get with the times!\r\n",
      "\r\n",
      "We need: busses that run MORE than once per 1/2 hour (and that's at it's current fastest), busses that are ON TIME (DAILY, they are never on time. Always way too early without waiting, or way too late without apology), more stops, stops that have actual BENCHES or SHADE or POSTED INFORMATION of any kind. I cannot even imagine how travelers get around on this thing, nothing is ever posted with any relevant info or signage.\r\n",
      "\r\n",
      "Etc, etc, etc.\r\n",
      "But seriously, just god awful and a complete joke to anyone who has ever experienced public transport anywhere else.\n",
      "________________________________________________________________________________ \n",
      "\n",
      "Index: 7035, Review Text:\n",
      "Totally excited to try this place out, my grandparents, my mom and I (4 of us) came here for some Korean food. It wasn't too busy; just pairs of people from nearby offices coming in and out. \r\n",
      "\r\n",
      "Unlike other Korean restaurants, their lunch special selection is very limited. Special A  consists of a sushi roll with a soda, special B = teriyaki beef/chicken (no soda), or special C, Korean BBQ Spicy Chicken. \r\n",
      "\r\n",
      "As we were looking at the \"lunch special\" board, the lady behind the counter insisted that we should look at their full price menu instead. Here comes the awkward part: she then asked my mom \"are you Chinese?\" Even though she is, my mum looked at me all puzzled as in \"what does that mean?\" The lady proceeded by pointing at the \"seafood pancake\" section on the menu and saying \"I don't know why but you Chinese like this pancake a lot.\" Good thing my mom didn't hear what she said.. or else... \r\n",
      "\r\n",
      "So we got the Spicy Chicken lunch special ($6.99), a bulgogi ($6.99), and a beef yakisoba ($7.19). The cool thing about this place is that it has a mini \"kimchi\" buffet bar, with trays of marinated tofu, potato, bean sprout, kimchi, broccoli and some other vegetables. It also has this delicious house special hot sauce. \r\n",
      "\r\n",
      "By the time we finished a dish of kimchi, the food came, so it didn't take long. The spicy chicken, came in a bowl about the size of an instant-noodle bowl (but slightly deeper), was tender, with rice underneath it. The chicken was definitely marinated well; however, the last couple of pieces had tendons and big chunks of fat... what a bad way to end it. The bulgogi also came in a bowl, with rice underneath. The beef was definitely not marinated fully. The color was super light and the beef was close to tasteless. The biggest disappointment, food-wise, was the beef yakisoba. The noodles, occupying most of the Styrofoam lunch box, were sweet. Then there was an ice-cream scoop of rice, topped with 3 pieces, I kid you not, THREE pieces of dog-tag-sized, super-dry meat. \r\n",
      "\r\n",
      "In the end, we just decided to bring the barely-touched yakisoba home for my younger brother (well, teenage boys tend to eat everything...). While my mom transfered the noodles to the plastic bowl (since the Styrofoam box was lidless), I went to ask for a plastic cover. This is the best part: the same lady, stared at me, pointed at the salad bar and said \"you can't take that home\". I thought there was a miscommunication, so I asked again for a lid for the noodles. Again, she pointed at the salad bar and said \"you are not allowed to take the kimchi home\". Wow seriously? Just b/c my grandparents are Chinese you assumed we were stashing kimchi in a bowl and trying to sneak it out? \"Look, I just want to take my noodles home, ok?\" She hesitantly gave me a lid.\r\n",
      "\r\n",
      "\"Hey, hey you. we chineness peple no steal kimchi becuz Confucius say 'no stealing kimchi'\"... only if I said that to her face...\r\n",
      "\r\n",
      "Oh, and when we got home, my brother, aka our food dumpster, took a bite of the yakisoba and never touched it again.  \r\n",
      "\r\n",
      "Conclusion: If you want amazing Korean food and friendly customer service, please just go to Chodang. Chodang is WAYYY BETTER, hands down\n",
      "________________________________________________________________________________ \n",
      "\n",
      "Index: 6921, Review Text:\n",
      "I never knew green chilies were more valuable than gold. We ordered a dozen red tamales and a dozen green chilies. The person taking our order was not happy that we did not give them a 24 hour notice that their \"gourmet tamales\" require for such a large order. The red tamales were as dry as sawdust and the green chilies came with one small sliver of chili. The \"hot Sauce\" they have is nothing more than enchilada sauce with red chili flake added. Next time I'll just go to Del Taco where two dozen .40 cent tacos do not require a 24 hr notice from a family of 6.\n",
      "________________________________________________________________________________ \n",
      "\n",
      "Index: 7579, Review Text:\n",
      "Ok, im not getting the great reviews on this place. I FINALLY made it Lamar's before they closed for the day and tried a couple donuts. I have a few problems here. The big one, can we please list that \"only the donuts with holes\" are $5.49 for 6? Its a bit deceptive to just list the price of 6 and ring up the donuts and have them turn out to be well over $7. Makes me want to buy my donuts from someone else. \r\n",
      "   Second, these donuts are WAY over priced and they are average at best. The maple bar tastes like you are eating spoon fulls of sugar they are so sweet. And the rest of the donuts I tried were pretty stale. This will be the first and last time I will be going to Lamar's. Give me Krispy Kreme or anyone else for that matter. Thank god for Lamar's we dont have Spudnuts in the valley because they would be out of business.\n",
      "________________________________________________________________________________ \n",
      "\n",
      "Index: 8626, Review Text:\n",
      "sslowest drive through ever!!!\n",
      "________________________________________________________________________________ \n",
      "\n",
      "Index: 4686, Review Text:\n",
      "UPDATE: This location is closed. Boo!\n",
      "________________________________________________________________________________ \n",
      "\n",
      "Index: 2430, Review Text:\n",
      "Just because this place is called \"Maria Maria\" doesn't mean they sell Mexican food. Their menu actually says \"Mexican inspired cuisine\" which should have been my clue to leave. The food is border line Nasty!  \r\n",
      "\r\n",
      "The restaurant is cute and sort of romantic but it's so loud in there that it ruins the \"romantic\" mood. I was excited to see they had live music until they started playing some weird pop music. Why would they do that in a \"Mexican\" restaurant?  I wanted to leave but our waitress was no where to be found 20minutes after we finished our meal.\r\n",
      "\r\n",
      "I don't recommend this place for any meal!  \r\n",
      "\r\n",
      "I have only been living in Scottsdale for two months but it seem that Arizona is \"Cougar\" town. The bar was full of them. I'm beyond annoyed with all this ladies acting like they are 21 wherever I go. I'm embarrassed for them. They dress and act young but with that face and hands who are they kidding besides themselves? gee.\n",
      "________________________________________________________________________________ \n",
      "\n",
      "Index: 5950, Review Text:\n",
      "I think chef Silvana Esparza first located the restaurant here on CALLE DIECISEIS (she renamed the street all by herself, apparently) to take advantage of cheap rent.  There was no way she was going to locate her Scottsdalish restaurant actually in Scottsdale.  So, people from the wealthier areas - and some First Friday urban hipsters whose parents foot their bills - make the trek down to CALLE DIECISEIS to partake in everything Barrio Cafe.  And they think it's cool that they are going there, past the check cashing places, the people waiting at the bus stops and the \"rawness\" of this part of central Phoenix.\r\n",
      "\r\n",
      "And what is everything \"Barrio Cafe\"????\r\n",
      "\r\n",
      "Pretentious service.\r\n",
      "LOUD dining room.\r\n",
      "NO parking.\r\n",
      "Fusion food that is about 10 years past its prime.\r\n",
      "High prices.\r\n",
      "\r\n",
      "Let's talk a little about the last item on the list.\r\n",
      "\r\n",
      "Besides using vulgar language in her YouTube videos for pseudo social activism, Esparza seems to have forgotten her own humble upbringings.  It's ironic that the very people who live on and around CALLE DIECISEIS cannot afford to eat in her restaurant.  The Mexican immigrants and their sons and daughters who do the cooking, the cleaning, the landscaping and all that for Phoenix are not welcome at the Barrio Cafe.  I know that this is not a taco truck, but there is some overwhelming irony here that you locate your restaurant in a working class area and supposedly have sympathy for the plight of the downtrodden and the neighbors can't even eat  at your restaurant.  I guess that's capitalism.  Like that new car, by the way.\n",
      "________________________________________________________________________________ \n",
      "\n",
      "Index: 8384, Review Text:\n",
      "in addition to sucking, it's also expensive.\n",
      "________________________________________________________________________________ \n",
      "\n",
      "Index: 2661, Review Text:\n",
      "Sorry Banana Leaf... I'm usually not picky at all but the Thai Curry Tofu and Vegetable dish I picked up last night was awful.  Really... it was almost not edible.  The packaging was not great, so it kind of spilled a bit in the bag - not a good start.\r\n",
      "\r\n",
      "Perhaps the curry is the 'yellow curry' that Jenny R refers to in her review - maybe the chef should taste it before serving it - it was nasty!\r\n",
      "\r\n",
      "Seriously, I've had better Asian food from the food court at the mall before!\r\n",
      "\r\n",
      "I will say, you did listen to my request to add eggplant to the dish - thank you... but if someone requests eggplant, perhaps you should make sure it's cooked fully next time.  I had a bite that was barely cooked - it was crunchy.  \r\n",
      "\r\n",
      "So, needless to say - I don't think I'll be giving you another shot.  First impressions sometimes last a lifetime.  Sorry Banana Leaf!\n",
      "________________________________________________________________________________ \n",
      "\n",
      "Index: 3125, Review Text:\n",
      "Let me first say if I could have given 0 stars I would have.\r\n",
      "\r\n",
      "My wife and I went to this place and were EXTREMELY disappointed. We had gone to a different Pancho's many years ago and were hoping it would be like that. The choices were very very limited and basic. There are so many amazing Mexican dishes yet my only choices were a tamale,taco and some horrible tasting enchiladas. How does a Mexican food place not offer burritos...have you guys heard of a bean burrito? Its pretty popular and would be a good choice to offer.\r\n",
      "\r\n",
      "The only food here that is worth eating is the baby churros and the Sopapillas, which actually were good. Unfortunately I didn't go to this place to pay $20 so my wife and I can eat Sopapillas. \r\n",
      "\r\n",
      "Please listen to my advice when I tell you to avoid this place. Take your money to taco bell and get a lot better Mexican food at a fraction of the cost.\n",
      "________________________________________________________________________________ \n",
      "\n",
      "Index: 119, Review Text:\n",
      "Take your money elsewhere, unless you've got kids.  I really try to like this place.  A family member signed me up for the discount card, so I've been going more often, but I just don't love it.  It's simply ok, but the prices are outrageous.  And the sounds and animatronics are a huge distraction from the so-so food.  The cocktails are alright, but, again, the price is not right.  The ony thing fun about the place for an adult is the gift shop and the light-up cocktail glasses (which cost extra.)  I've seen a lot of happy families in here though, so I bet it's better if you have little ones to bring along.\n",
      "________________________________________________________________________________ \n",
      "\n",
      "Index: 5079, Review Text:\n",
      "Banfield is okay for routine check ups for maintenance and preventive care. That is why they offer a \"wellness plan\". When it comes to your animal getting sick, I would go elsewhere. It should not be called a Hopital. The doctors are there for profit only and do not show any care for your pet. The vet techs care, but the doctors don't listen to them. This place is lacking ethics when it comes down to making important decisions when it comes to your pets health.\n",
      "________________________________________________________________________________ \n",
      "\n",
      "Index: 8220, Review Text:\n",
      "Maybe I ate at a different restaurant than the other people, or once they got through the \"soft opening\"  they gave up, because this place was not good.\r\n",
      "\r\n",
      "The service was mediocre at best, they seemed scattered and unfocused, took five minutes to get water.  I gave up on ordering anything else after that.\r\n",
      "\r\n",
      "The food?  Bland hamburger, that was cooked perfectly in the center.  Too bad that outside of the center inch it was completely overcooked and dry.  Soggy duck fat fried and average sweet potato fritters.  \r\n",
      "\r\n",
      "Let's talk about this \"coal oven\".  While the burgers are cooked in a coal oven, you could tell by the smoke hanging over the restaurant, they are cooked in an iron skillet i.e. pan fried!  The coal adds absolutely zero to the burger.\r\n",
      "\r\n",
      "Overall, if I am going to spend $10 on a burger with no sides, it better be perfect, and this wasn't.  I would also hope $5 would get me more than two fritters.\n",
      "________________________________________________________________________________ \n",
      "\n",
      "Index: 3082, Review Text:\n",
      "Currently having a liquidation sale, but it's not really worth the trip.  I found that most books were cheaper at Amazon then the sale price.  A few were even cheaper at Barnes and Noble then the liquidation sale price!  Which just made me say to myself well that's probably why you're going out of business try some competitive pricing!  The place is an absolute disaster they've moved a lot so the sales staff doesn't even know where everything is.  Also the place just smells dirty and old, it's very unwelcoming.  It's really no surprise to me they couldn't get customers before.\n",
      "________________________________________________________________________________ \n",
      "\n",
      "Index: 8681, Review Text:\n",
      "As I promised myself, I'd go back again to try it again. Yyyeeaahhhh...sooooo....the food is still not good. I got the mongolian beef and it's like \"wha? really? is this IRL?\" \r\n",
      "\r\n",
      "I'm a chinese food kind of a fan, this restaurant, I'm not a fan of.\n",
      "________________________________________________________________________________ \n",
      "\n",
      "Index: 507, Review Text:\n",
      "HELLISH HELLISH SUMMER WEATHER (March thru October)\r\n",
      "it hurts my lungs to breath.\r\n",
      "\r\n",
      "I couldn't get transcripts because I had a parking ticket I needed to pay.\r\n",
      "The problem is... *i DON'T OWN A CAR, I don't drive, I don't even have a drivers license*!!\r\n",
      "~*~*-- aside from that one minor incident,~*~*\r\n",
      "\r\n",
      "I paid 9000 USD a semester to receive a so and so education.\r\n",
      "I graduated with a magna cum laude. I have attended other universities. However, I couldn't help but notice the gap in the quality and variety of classes offered.\r\n",
      "\r\n",
      "For example, you have to be a finance major to take upper level interesting finance classes.\r\n",
      "\r\n",
      "Business school was so and so, a lot of repetition.\r\n",
      "Very little hands-on and help with internships.\r\n",
      "Way too much groupwork and free-riding.\r\n",
      "They do not have many good employers at their semi annual recruiting events.\r\n",
      "\r\n",
      "Oh, and professors rarely teach the courses.\r\n",
      "They have their teaching assistants teach us.\r\n",
      "\r\n",
      "Also, there is a lack of bridging classes between lower level and upper level classes.\r\n",
      " Junior year when you get admitted into the \"professional program\" the level of the classes and transition isn't too smooth.\r\n",
      "\r\n",
      "The campus tutoring program is pretty helpful for general classes if you're having trouble with classes (usually lower level)\r\n",
      "\r\n",
      "There are not enough chairs/desks in some classes.\r\n",
      "The students sit on the floor and cram on the stairs in the lecture halls.\r\n",
      "\r\n",
      "Also, the classes don't teach you how to think critically, which I think is crucial in college.\r\n",
      "Please don't waste your money, especially those of you from out of state. Its not worth it.\r\n",
      "\r\n",
      "Expect to wait in line wherever you go.\r\n",
      "ASU accepts way too many people.\r\n",
      "It would prolly accept my cat and my baby sister who barely talks if we threw money at them.\r\n",
      "\r\n",
      "Thus its very difficult to get myself into the classes I need.\r\n",
      "The advisors are walking advertisements of the business school.\r\n",
      "They are not informed enough to advise you.\r\n",
      "\r\n",
      "I got dropped from two required prerequisite courses so I could not move on to the next level.... even after pre-registration.\r\n",
      "I got screwed and ended up having to take one more semester to graduate.\r\n",
      "\r\n",
      "Tuition rose from 6000 a semester in Fall of 2003 to 9000 + in Fall of 2007.\r\n",
      "Gross!!\r\n",
      "\r\n",
      "One thing I liked was the student theatre performances. The admission $ was reasonable and quite entertaining.\r\n",
      "\r\n",
      "The College of Architecture and Environmental design studios are pretty good and has good security.\r\n",
      "\r\n",
      "ASU is not the most safe neighborhood.\r\n",
      "I have been approached by many shady people.\r\n",
      "\r\n",
      "do NOT live on campus. Especially the dorms on north campus.\r\n",
      "They are beyond crappy and overpriced.\r\n",
      "You have to split your room with a room mate in most cases for undergrads.\r\n",
      "The \"freshman year experience\" bullsh*t they pull on you, don't buy it.\r\n",
      "and Please PLEASE please don't move into Manzy Hall (Manzanita; 15 stores with triangular windows).\r\n",
      "\r\n",
      "I lived here my froshy year and its the dirtiest (rats), unhealthy (mold, pot circulation), most promiscuous place on campus.\r\n",
      "\r\n",
      "Again, please don't bother wasting your money, especially if your an out of state or international student. \r\n",
      "Hope this helps.\n",
      "________________________________________________________________________________ \n",
      "\n",
      "Index: 9344, Review Text:\n",
      "The Duce is a disaster. \r\n",
      "As an Arizona native and a downtown local I root for cool interesting places downtown. I wanted to love this place. The 1st time we tried the Duce I was extremely let down by the customer service. The parking is atrocious. It's as if you are inconveniencing the staff by asking where you order food. They were out of just about everything we wanted to order. So disappointing. \r\n",
      "However I decided to give them a second shot. Everyone has a rough night. We went to an event there last night the entertainment by Scandalesque was AMAZING... same TERRIBLE customer service from the staff at the Duce. Management needs to wake up. Great concept. Horrific customer service and staff.\n",
      "________________________________________________________________________________ \n",
      "\n",
      "Index: 9262, Review Text:\n",
      "Very loud, crowded and quite unpleasant. I felt very cramped and the environment was very uncomfortable.\n",
      "________________________________________________________________________________ \n",
      "\n",
      "Index: 6051, Review Text:\n",
      "This place has really bad service and the food is barely decent, I would advise not to dine here. There are much better Vietnamese restaurants in Phoenix.\n",
      "________________________________________________________________________________ \n",
      "\n",
      "Index: 3656, Review Text:\n",
      "Pop the Soda Shop has closed its doors last month.\n",
      "________________________________________________________________________________ \n",
      "\n",
      "Index: 4374, Review Text:\n",
      "Cadillac Ranch looked really awesome from the outside, this nice red cadillac out front, nice patio outside, and an enclosed bar and grill patio on the side. Upon entering it was pretty dead, well, it was a Monday afternoon after all.\r\n",
      "\r\n",
      "I ordered the Southwestern Country Fried Steak, huge plate of food that came with your choice of House Salad or Ceaser Salad. I dove into the mashed potatos, which upon their many options of how you want your potatos to taste (garlic, cheese, horshradish, etc), I picked garlic - always go safe at a first time resturaunt! The gravy was very bland, I ended up putting more salt on it. The potatos were the only thing salty and flavored on my plate. They had also put diced garlic in the mix, not roasted, but raw garlic. I love garlic, but I can't eat whole cloves (horrible headaches) like some of those awesome people can out there, so it was kinda a downer there. The two pieces of country fried steak was actually steak, but the very fatty piece of steak that you should never buy, cook, and serve.\r\n",
      "\r\n",
      "Since I came with friends and family, it seemed the only thing they could put flavor in was the deep fried dishes. My mother ordered the Fish and Chips, they were slightly on the dark side, the fish wasn't fishy but slightly bland, the cocktail sauce was the only thing that saved the fish from being totally neglected lol. The fries were really good though! My friend had ordered the same thing, I think she wasn't complaining was because she had ordered mamosa's lol.\r\n",
      "\r\n",
      "Service-wise, it was slow, but don't expect to be waited on asap on a dead Monday.\r\n",
      "\r\n",
      "I think the only thing that tasted good was the Ice Cream Fudge Brownie, but that single dish alone won't help this review get to two stars.\r\n",
      "\r\n",
      "All in all, eat at the other different eateries at Tempe Marketplace, I think Cadillac Ranch would be the last resort place if you can't get in to another popular resturaunt at the time.\n",
      "________________________________________________________________________________ \n",
      "\n",
      "Index: 2999, Review Text:\n",
      "I can't even believe I actually went to this restaurant.  My feeling was that if the Tommy Bahama clothing and its wearers were any indication of the dining experience, it was going to be unoriginal and in poor taste.  Alas my friend wanted to go there was his birthday lunch so....  Let me be clear that I'm not a food snob at all.  Just last week I enjoyed a lunch of Nachos Bell Grande and a bean and cheese burrito at Taco Bell very, very much.  That was far superior to this lunch at Tommy Bahama. \r\n",
      "\r\n",
      "The decor was comfortable and breezy.  Everything else  - not so much.  1st it's nice that they bring you bread and butter, but a sweetly flavored butter?  Why mess with the pure goodness of butter?  The glass of lemonade I ordered was sickeningly sweet, and I am a notorious for my sweet tooth.  It was undrinkable until I cut it with water.  The coconut shrimp also had an overly sweet sauce.  So much so that we could each only eat 1 of 6 shrimp.  I got the crab bisque which was crazy salty, and in my opinion, contained previously frozen hence rubbery crab meat.  \r\n",
      "\r\n",
      "As it was my friend's birthday, they brought him a complimentary dessert.  Very nice. He got the newest one which was some sort of chocolate/caramel-filled cake with oreo crust, chocolate mousse topping, sprinkled with crushed Heath bar.  Sounds good, right?  Vile, absolutely vile.  Overly sweet except for the oreo crust that was saturated in butter.  On an update note - it was not the nasty sweet butter they serve with the bread though.    \r\n",
      "\r\n",
      "My final issue was with our young, highly attentive server.  He was very sweet and well-intentioned.  However I feel that every server in the world needs to stop speaking to customers in the collective.  Don't say \"are we enjoying our coconut shrimp?\" or \"are we ready for dessert?\"  Unless I've badly misinterpreted our relationship, \"we\" aren't doing anything together. Just a pet peeve -  I still tipped him 22% and kept my mouth shut about this odd little quirk.  \r\n",
      "\r\n",
      "oh and the bill for coconut shrimp appy, quesadilla, cup of crab bisque, lemonade and glass of white wine?  $52.  for lunch.  \r\n",
      "\r\n",
      "Tommy Bahama and I just didn't work out at all.\n",
      "________________________________________________________________________________ \n",
      "\n",
      "Index: 126, Review Text:\n",
      "My friend kept telling me how good their lunches are... I tried it, but it didn't do anything for me.  The sandwich tasted like something you can get at Safeway, but twice the price.  For being called a Purveyor of Fine Foods, I expected the food to taste like not just any ordinary sandwich. \r\n",
      "\r\n",
      "What I had:\r\n",
      "Ham, cheese with portobello mushrooms on a panini with 2 sides of pasta, one was parmesan and the other was macaroni. Maybe it was the panini bread. I think the parmesan pasta was made there, but I know for sure the macaroni was not made there, it tasted like something I had at a picnic which was in a carton. It wasn't anything to brag home about. \r\n",
      "\r\n",
      "I found out the head chef made my sandwich... keep him in the kitchen and away from the customers, no personality whatsoever. I asked for his suggestion, and his reaction was \"anythings good.\" \r\n",
      "\r\n",
      "Normally, when I go to AJ's, I go for their desserts. Their desserts are fabulous and you can get individual servings at a reasonable price.  I can take an assortment home and have them for later. \r\n",
      "\r\n",
      "Our company does use them for their catering and I've had many compliments on their dishes, but pass on the lunches.\n",
      "________________________________________________________________________________ \n",
      "\n",
      "Index: 765, Review Text:\n",
      "I am not a fan of this place. I like to try to stay positive though so here is my attempt a the proverbial \"positive sandwich\"\r\n",
      "\r\n",
      "Top Bun: The location is fantastic. I really like where it is, its a cute little place that is very easy to find.\r\n",
      "\r\n",
      "The Meat of the Matter: The food here is odd. I am very open to trying new things and experiencing different cultures. As I have mentioned in other reviews, I love all types of food from all over the world. I didn't care for this place. I ordered an appetizer that was wrapped in a banana leaf and i honestly thought I was eating an ashtray. It wasn't good. The pad thai that I sampled was very lifeless. I had a friend get a big bowl of soup that looked good but i didn't try it. \r\n",
      "\r\n",
      "Lettuce, onions pickles, tomato: The service was not good. I sat at the bar the first time I went here and we got ignored for the most part. The bartender (who i believe doesn't work there anymore, luckily) sniffed at me when I asked for clarification on something. There are also jars of really weird floating things at the bar (probably pickled/preserved veggies/meat/fruits etc.) it was unappetizing to be around....I don't have a weak stomach at all, it was just odd. The second time I went in, the service was equally as bad. there was a table of 8 of us for lunch and the place was mostly dead and I had to go up and ask them to take our order after we sat waiting for 30 minutes. Subsequently, the menu is small and the prices are high with not much room for substitutions or changes\r\n",
      "\r\n",
      "Bottom bun: I like the owner, he is really nice and friendly. The cooks were also friendly. I like to believe that my taste buds merely didn't care for this place. I know a lot of people that have very positive things to say about this place. I will not recommend it as a personal favorite and I will quite frankly probably avoid it unless it is specifically requested by a client. I am completely fine with the concept that not everyone has to like the same things. I personally have not had a good experience with this place, but I respect the fact that a majority of the reviewers for it have.\n",
      "________________________________________________________________________________ \n",
      "\n",
      "Index: 1423, Review Text:\n",
      "I hadn't been to Fuddruckers for about 20 years... now I know why.  Cashier was nice and very helpful.  I ordered bacon cheese burger combo.  Fries were only warm, not hot.  Burger was not very tasty and it was full of gristle bits... you know the ones that stick between your teeth.  Lots of trash on the floor.  After we were finished, someone came to ask how things were.  I told here about the fries and she offered to get me more; I declined.  She offered a free dessert: I accepted.  In all, not a good experience, will probably be at least another 20 years before I go back.\n",
      "________________________________________________________________________________ \n",
      "\n",
      "Index: 405, Review Text:\n",
      "Food middle of the road... The staff is rude.. Seems like it starts with the owner. I think she makes the staff pay for everything that goes wrong so in turn they dont want to fix issues with poor, wrong food etc.  I think she tends to forget the customers are actually what keeps a business open. For a long time it was the only choice in the area. Now there are multiple choices.  If your in the area Chili's or Connolys is much better choice in my oppinion.\n",
      "________________________________________________________________________________ \n",
      "\n",
      "Index: 9299, Review Text:\n",
      "The salad plates were not chilled... As they usually are it however is a busy night but something's are expected at the olive garden... The food tasted like it was under a hot lamp for so long it tasted almost hard and also under cooked for the seafood... Not a great experience at the olive garden there are certain things expected... The expectations are not that high shouldnt be that hard to do....\n",
      "________________________________________________________________________________ \n",
      "\n",
      "Index: 842, Review Text:\n",
      "Boy is the name a temptation.Seriously :)  I'll try to be fair though but I'm writing at a time were this restaurant was truly life changing. So much so that I'm buying a dining room table, additional gear for the kitchen and not frequenting any chain while I'm in my hometown based on the strength of this experience. Even in a good mood this place wouldn't be breaking a 2.5 . I'm not in a good mood.  \r\n",
      "\r\n",
      "Texas cheese fries. Pretty tasteless,mess of uncrisp steak fries that are meant to be Monterrey jack , cheddar and bacon. Either the cheese mixed itself together really well or that's not what I had. Bacon , mm that is a very generous term for the toe nail clippings of meat that ended up atop it. Saving grace was only ordering 1/2 an order.\r\n",
      "\r\n",
      "Kid's meal.  Holy crap dried and scraggly carrots accompanied the most basic hot dog imaginable on the most generic bun. No refill offered this time on drink, no straw either.   By far the most cynical  kid's meal I've met. Sure make a profit but don't take the piss!  Fresh carrots are not hard to do , with white film on them.. sorry you've just earned a  1 star. Should have walked out, didn't. :( \r\n",
      "\r\n",
      "Entrees.\r\n",
      "\r\n",
      "Cajun steak . Claims to be marinated in spices that I couldn't find. They may indeed have shown them a picture of the process in the recipe but I couldn't find it. Meant to be medium rare but was medium on one side , rare on the other, close though:) \r\n",
      "\r\n",
      "Sirloin steak. Cooked as requested , a bit over seasoned. \r\n",
      "\r\n",
      "Sides: Twice baked potato.  If you ever want to open up a salt mine these guy will do it for you. You want an idea of what it's texture was?  Twice chewed would be a better name. Warm vomit with bacon bits would be  a slightly more colorful, and chunky, term.\r\n",
      "\r\n",
      "Fried onions:   came with whatever was stuck to the grill they came from.The mushrooms were the only thing that were as tasteful as expected. They looked very consistent though,  canned?   Never mind they were edible: \r\n",
      "\r\n",
      "Steak soup,really more a stew,but tasted pretty good.  Overall service was ok'ish but walking the kid to the toilet twice the staff just seemed  to want to get to where they wanted to go and not care for the toddler walking up the aisle to the restroom in front of me.  ( that's for this occasion only , past two times it's been great fun for the kid,)\r\n",
      "\r\n",
      "1.5 rounded to 1 for the carrots.\n",
      "________________________________________________________________________________ \n",
      "\n",
      "Index: 7141, Review Text:\n",
      "Let me first say that we are fans of the W Hotel and have stayed in many of their hotels around the nation and are overall happy with the accommodations and customer service.  \r\n",
      "\r\n",
      "I'm a local Phoenician who resides in the Arcadia neighborhood and frequents many of the wonderful restaurants and hotels this City has to offer.  After hearing MANY negative reviews from co-workers, family, and friends, my fiancé and I decided to give the W Hotel Scottsdale a shot prior to forming an opinion of our own for this hotel/restaurant/bar.\r\n",
      "\r\n",
      "During a night out on the town with visiting and local friends, we opted to give this place a try.  Upon approaching the entrance of the bar, security tells us that we're not welcome here due to one of the members of our party not having closed toe shoes and another not having a collared shirt.  The attire our group was wearing was more than appropriate for any Phoenix/Scottsdale restaurant/bar.  Let me remind you that's is July in Phoenix, and over one-hundred degrees at the time of night we went to the W and the six of us just finished a dinner at an adjacent, popular restaurant.  The staff was flat out rude to not only us, but others in line wanting and willing to spend money and support the local hotel.\r\n",
      "\r\n",
      "I will strongly suggest not staying here or supporting the quality of business they are running here.  During a time of a slowing economy and tourism, many businesses are forced to rely solely on the best possible customer service to attract and retain business--the W Hotel fell way short of this.\r\n",
      "\r\n",
      "I was very discouraged after our experience here and will agree with the many other reviewers that this place in not worth supporting.  \r\n",
      "\r\n",
      "Phoenix/Scottsdale has many great places to experience, so don't settle for this place.\n",
      "________________________________________________________________________________ \n",
      "\n",
      "Index: 4362, Review Text:\n",
      "I eat a lot of Asian food (of different sorts).  Asian is actually my go-to cuisine since I have a lot of food allergies.  This place deserves a thumbs-down, unless you love Americanized Asian.  The food was bland, breaded and just not worth any money.  Next time I'm in Phoenix, I definitely won't eat here.\n",
      "________________________________________________________________________________ \n",
      "\n",
      "Index: 2642, Review Text:\n",
      "So far my restaurant experience in Phoenix has been subpar when it comes to service and this one took the cake. Everytime the server came to our table it was just to do one thing and we would be left in the lurch with our mouths silenced in the middle of asking for something. Finally the food came and it was actually quite delicious, I ordered the turkey eggs benedict with potatoes and fresh fruit. However once again the food was dropped off with no silverware, no condiments and no refills on the coffee. I truly hope the restaurant re-trains the staff or hires a whole new batch, because I am afraid food alone can not keep a business afloat.\n",
      "________________________________________________________________________________ \n",
      "\n",
      "Index: 5185, Review Text:\n",
      "We were driving around Chandler area to find a decent place to eat and Mido Sushi caught our attention. \"Oh, Okay!\" - I thought and walked right in. We were greeted right away with a good waitress, but somehow I found her voice was really annoying!\r\n",
      "The food came out after 10minutes and I was disappointed with the sashimi! It wasn't as fresh as I expected. The soy sauce tasted very weird and too salty. By far this is not the most decent sushi restaurant I've experienced. \r\n",
      "Kabuki and Masa sushi are still my best choice so far.\n",
      "________________________________________________________________________________ \n",
      "\n",
      "Index: 7845, Review Text:\n",
      "They wouldn't honor pet co's online sale prices.  That's the first time I've heard about this.\n",
      "________________________________________________________________________________ \n",
      "\n",
      "Index: 1747, Review Text:\n",
      "This dog park gets one star.Why?Because the last time I went,some piece of shit broke into just about every car in the parking lot to steal whatever they could.So much broken glass from side windows everywhere.\r\n",
      "It used to be okay before this incident,but a busy parking lot in borad daylight and some vulture lies in wait?\r\n",
      "Yeah,I'm done here.\n",
      "________________________________________________________________________________ \n",
      "\n",
      "Index: 71, Review Text:\n",
      "Yikes, reading other reviews I realize my bad experience wasn't unique. As a server I make a very laid back customer. I like pretty much everything I eat and don't require a lot of attention from the waiter. \r\n",
      "\r\n",
      "La Piccola Cucina would benefit from just one extra person in the front of the house. Our guy, though adorable and friendly, was too busy to refill our drinks and to remember to bring our appetizer (though charged us for it). The ahi tuna (highly recommended over the other fish options he said) was so overcooked it was the color and consistency of chicken. Like other reviewers mentioned, he was frantic and made that clear to every customer. At one point I even saw him in the kitchen cooking - they need another person! \r\n",
      "\r\n",
      "I left super stressed out from the experience, which is very, very unusual for me. You can either have bad service or bad food, but not both.\n",
      "________________________________________________________________________________ \n",
      "\n",
      "Index: 4227, Review Text:\n",
      "I have literally never seen this place open and I live two blocks away.\n",
      "________________________________________________________________________________ \n",
      "\n",
      "Index: 7975, Review Text:\n",
      "What are you all talking about?! This place is awful. Theres a reason why these sandwiches are $3. I can't believe so many people like this place, (although the place was filled with the Chinese people and they have been known to have different taste buds ) You get a 10 inch piece of bread with a bunch of stringy cheap vegetables. From what they said, there was meat on there too,  however i forgot to bring my microscope to verify if there was any on there. This place is like a middle school cafeteria smack dab in the heart of Tokyo's slums (i don't know any Vietnamese cities). Please, homeless people, save your quarters, you're too good for this place. They have good milkshakes, but if you really are homeless (as you should be if you're going to Lee's) you shouldn't be buying \"rich people\" milk shakes anyways, stick with the dollar menu.\n",
      "________________________________________________________________________________ \n",
      "\n",
      "Index: 563, Review Text:\n",
      "I never got a chance to try the food because I was so turned off by the way I was treated. My family and I will be waiting for a table across the parking lot at The Cheesecake Factory.\n",
      "________________________________________________________________________________ \n",
      "\n",
      "Index: 3634, Review Text:\n",
      "Seriously?! With grocery stores like Fresh & Easy, Trader Joe's, and even Safeway around here, I wouldn't go to Whole Foods regularly, for ANYTHING, unless I was a bajillionaire. 1. It's wayyyy overpriced. I'm not sure if there's a Central Market around here as haven't seen one yet, but even that is better than this in terms of price! \r\n",
      "\r\n",
      "We got a few items here, specialty items in bulk foods, for example. The wine and beer bar is cool, but unlike the Whole Foods in Austin, Tx, which was the epitome of awesome, (2) one can't walk around with beverage in hand here. Too bad the rules are so stringent about that, because if I were shopping with a glass of wine, maybe I wouldn't notice the horrendous prices quite so much.\r\n",
      "\r\n",
      "My 3rd complaint is that when we ordered coffees from the coffee stand there, my mocha and my boyfriend's latte tasted like motor oil, after taking forever to be made, and the girl saw me swipe my card but THEN told me she \"didn't have a register person\" and I wasn't able to cancel the transaction....so then we had to go back through the main grocery line again. Grrr.  I left unsatisfied, uncaffeinated, and feeling like I had just wasted ten bucks on coffee that we ended up pouring out. \r\n",
      "\r\n",
      "They get one star for having a wine/beer bar at all, but then I have to take that star away because the bar tender said they sold the most beer and wine of any Whole Foods in existence (I call bs - the one in Austin is twelve times busier and people can shop with their beverage of choice, and they have a bunch of restaurants there too so it's truly an experience - it dazzles). This leaves one star for the supply of bulk and specialty items they carry. We went to Trader Joe's after, got twice as much stuff, and spent half as much money. Sayin'.\n",
      "________________________________________________________________________________ \n",
      "\n",
      "Index: 2625, Review Text:\n",
      "How very disappointing!  Nello's had a delightful menu with an array of salads, pizzas and sandwiches. Not Jac's. If the new restaurant wants to be a \"pub\", it should have a wider variety of selections. The menu was sad.\r\n",
      "\r\n",
      "Due to dietary restrictions, I asked for a plain garden salad. Lettuce, tomatoes and onions. And it wasn't very fresh either. Sad.\r\n",
      "\r\n",
      "Guess we'll be driving up north to Pima Crossing to visit Nello's.\n",
      "________________________________________________________________________________ \n",
      "\n",
      "Index: 3938, Review Text:\n",
      "We were so disappointed!  We were on vacation in Scottsdale and wanted to try a Brazilian restaurant.  It was nothing like the one we have had home.  Actually it was completely worse than all three Brazilian steakhouses we have close to home.  I tried about 12 different meats and I think there were only 2 out of the 12 that were tender.  The rest were over cooked or hard as a rock.  We really wanted to love this place as I kept trying more and more of the meats as they came around hoping the next one would be better.  Besides being hard, the meats didn't have much flavor.  The salad bar was okay and I don't know that I would even pay the cheaper price to just eat from their salad bar.  This is sad that I have to say the highlight or our meal was the fresh bread and salami slice you get at the salad bar.  :(\n",
      "________________________________________________________________________________ \n",
      "\n",
      "Index: 1299, Review Text:\n",
      "Cool place but don't try to arrange a special event. The proprietor was arragont, unflexible and unethical when I held my friend's bachelorette party at The Duce. Be warned!\n",
      "________________________________________________________________________________ \n",
      "\n",
      "Index: 3469, Review Text:\n",
      "\"The office space, layout, presentation gets 5 stars, the customer service you receive from the employees at Corporate Office Center is a negative 10. They will scare your clients off, scare your own staff and make your life a living hell. Their office locations and space is beautiful but if a say, a client shows up at a time other than their scheduled time, they will be told to leave. They will be told you don't provide any services at the locations and if anyone could single handedly ruining your professional image, Corporate Office Centers can do this for you! BE AFRAID!!!! They are dedicated to working against, not with you.\"\n",
      "________________________________________________________________________________ \n",
      "\n",
      "Index: 2869, Review Text:\n",
      "This used to be one of my favorite restaurants but the service went way down hill.  The new owners hire lots of college students with tattoos everywhere as well as lots of piercings.  Seems like tattoos and too many piercings are a job requirement along with disrespect and a lack of desire.  The staff is what made this place the worst restaurant ever and doesnt seem to matter how often you let management know I just dont think they care.  Also in the past few years there is a growing number of homeless that sit out front begging for money.  They sit so close to the outside patio that you have them dining with you or at least it feels that way making you incredibly uncomfortable.  Our last visit we sat on the patio which was next to a bench just outside the restaurant where a few homeless were stationed.  One girl had a huge rat on her shoulder and it was beyond disgusting.  Management obviously doesnt care and does nothing to improve anything so we go way out of our way now to eat at the other Greek in Chandler at Chandler Mall.\n",
      "________________________________________________________________________________ \n",
      "\n",
      "Index: 4473, Review Text:\n",
      "It is what you would expect from any themed place called \"Heart Attack Grill\".  Mirrors on the bottom part of the bar so you can see up the skimpy outfits the \"nurses\" wear at the bar.  Van in the drive through section is painted to look like an Ambulance.  Hamburgers are named after cardiac events.\r\n",
      "\r\n",
      "The food was bad, greasy unlimited fries and a giant hamburger that tasted as if they mixed in filler of some kind we had never experienced before.\r\n",
      "\r\n",
      "If you plan on going, enjoy the experience cause the food will not be something you would head back for again.\n",
      "________________________________________________________________________________ \n",
      "\n",
      "Index: 140, Review Text:\n",
      "Other than the really great happy hour prices, its hit or miss with this place. More often a miss. :(\r\n",
      "\r\n",
      "The food is less than average, the drinks NOT strong ( at least they are inexpensive) , but the service is truly hit or miss.\r\n",
      "\r\n",
      "I'll pass.\n",
      "________________________________________________________________________________ \n",
      "\n",
      "Index: 7130, Review Text:\n",
      "I was not impressed. The food was bad & expensive. The wait is ridiculous. Don't go.\n",
      "________________________________________________________________________________ \n",
      "\n",
      "Index: 4249, Review Text:\n",
      "AMC Theaters has the distinct disadvantage in Phoenix at operating in a town with a high-quality, local provider of entertainment (Harkins) and they really pale in comparison. Tonight we went to the AMC 24 at Arizona Center, which is literally right near our house, but we've been there only two or three times in as many years. Why? Because AMC doesn't offer a senior discount any longer.\r\n",
      "\r\n",
      "For AMC Management -- Did you know that there is a huge population of older people living in condos in the downtown Phoenix location who go to moves three and four times a week? I think it is absolutely ridiculous that I could go to a Harkins and see a movie for $12-13 for two but when it's an AMC Theater, it's $20. Do they think they are so special that they warrant this extra \"tax\"?\r\n",
      "\r\n",
      "The theater is generally clean and nice, but the prices on sodas and popcorn are too high, combined with the fact that they don't offer the discount to seniors. AMC, please just fold up your tent and go away. We don't need you here.\n",
      "________________________________________________________________________________ \n",
      "\n",
      "Index: 8615, Review Text:\n",
      "I guess this is an east coast/midwest thing because I really don't get it. I'm not a picky eater and I HATE wasting food and money, but I could not finish my plate. I ordered french toast and I was not aware that my french toast was going to be deep fried. Seriously, when I put my fork through it, a piece of fried toast hit me in the eye. My husband was also not impressed with his food. If someone would like to suggest something delicious on the menu that I should try, please let me know because I currently want to vomit every time I see a Chompie's.\n",
      "________________________________________________________________________________ \n",
      "\n",
      "Index: 4842, Review Text:\n",
      "My fiance and I tried the place because of a Groupon.  We live in the same neighborhood and see the place all the time but the look of the place was never enough to draw us in.  There is nothing eye catching about the business front at all.  It's in a strip mall and looks old.  At night, they turn on strands of tacky Christmas lights that only attract attention to the fact that the lights are so poorly hung.\r\n",
      "\r\n",
      "When we arrived for dinner we were greeted by an empty corridor, no host station and no host.  We could see what looked to be a bar but it wasn't a bar that I'd want to eat, drink and socialize at.  To pass the time until we were finally greeted we browsed the many framed publications touting how incredible the place was.  I'm already here...I don't need any more persuasion.  It's time for the Chef/owner to take down the \"look how good I was\" trophy wall and go with a more inviting modern look.\r\n",
      "\r\n",
      "We were greeted by friendly gentleman who seated us on the main lower floor.  He handed us our menus and asked if he could get us something to drink.  There is no drink menu on the menu.  No beer list, no soda list, no liquid period.  We asked to see the wine list, which had only bottle prices and doesn't even hint that they sell wine by the glass.  Once I asked if they had beer and sold wine by the glass it was like we made a breakthrough.   The menu seems a bit outdated so I  went with the Lasagna, the basics.  While we sat waiting for our meal, the salads came.  Weird...the menu didn't mention anything about a salad nor did the waiter.   More lack of information from the menu.\r\n",
      "\r\n",
      "Now on to the decor.  It is terribly outdated.  Tacky, bland, pale paint scheme, brass fixtures, mirrors and cliche wine bottles.  There were beautiful fresh flowers throughout which we really enjoyed.  I was unfortunately seated directly in front of two paintings both with a woman and a little girl drinking what appears to be wine.  I'm guessing they are personal family paintings but they are horribly out of place and bordering on creepy.  I couldn't take my eyes off of them and that distracted me throughout the night.  This place needs a makeover, new modern paint scheme and some updating on the artwork.\r\n",
      "\r\n",
      "The lasagna came.  It was OK at best.  I tried my fiance's chicken genevese at it was horrible.  The chicken tasted like it was boiled which is an instant dish killer for me.  We did not take our leftovers.  We asked for the check and it came with a after dinner cordial which was a nice surprise and tasted delicious. \r\n",
      "\r\n",
      "We won't be back.  To be honest Oregano's lasagna is better by far.\n",
      "________________________________________________________________________________ \n",
      "\n",
      "Index: 5814, Review Text:\n",
      "I do enjoy a good bowl of Pho.   This was -not- a good bowl of pho.\r\n",
      "\r\n",
      "grey chicken meat., off tasting broth, old bean sprouts, 1 piece of a jalepeno pepper... dingy insides.  Weird looks from the server.  I don't think I'll be back.  Not much else I can say\n",
      "________________________________________________________________________________ \n",
      "\n",
      "Index: 1532, Review Text:\n",
      "Cold, under done chips. If a Mexican food restaurant can not get this staple right how can I expect them to get much more right.  I arrived for a party that my autocross group was having. Every table had chips and salsa on it. Sombreros were used as the server platters. Senor I don't think this even meets health code. \r\n",
      "\r\n",
      "Dinner was served Buffet Style, one of the dishes was called \"fandito.\" I can't think of a less inspired dish. It was simple pasta with some Mexican flavors thrown it, a dish that your mother would make if she had leftovers from Mexican Italian nights. \r\n",
      "\r\n",
      "I like really like Mexican food, however I left this place hungry as I did not even want to try any of the dishes other than the salad.\n",
      "________________________________________________________________________________ \n",
      "\n",
      "Index: 7803, Review Text:\n",
      "I'm sad to report that we dined here for lunch and it was inedible:(  Chef Aaron please come by and monitor your staff.  We had the eggplant sandwich and is was a disaster.  It was so overly oily and the bun and fries overwhelmed the plate.  The shrimp and grits were so average with the shrimp being of low quality.  The beer menu looked fabulous.  So I guess if this is just a watering hole things will be fine...but if you choose to dine be prepared to leave hungry and unsatisfied.  We hope this turns around.  The decor is cool and the staff is really fun and helpful...and we are hopeful for a great place to visit in the \"hood\".\n",
      "________________________________________________________________________________ \n",
      "\n",
      "Index: 2476, Review Text:\n",
      "Waste of time. I could not even get in there today because there was a football game. The wanted me to pay $10 just to park. How stupid is that! 2 days before Christmas. I noticed all the prices were the same and somtimes more than any other mall. Goobye and good riddens. I have better things to do with my time and money.\n",
      "________________________________________________________________________________ \n",
      "\n",
      "Index: 6045, Review Text:\n",
      "The cool name of the place is the only good thing here. The burgers are below-average and unenjoyably (is that a word?) messy. Fries, too greasy. Seating, not comfortable. Skip it!\n",
      "________________________________________________________________________________ \n",
      "\n"
     ]
    }
   ],
   "source": [
    "# why do we want to read the text?\n",
    "# does the model have a reason to be mislabeling and misclassifing\n",
    "# just print the text to check it out.\n",
    "\n",
    "# Identify false positives (predicted 5 stars, actual 1 star)\n",
    "s_false_positives = X_test[(y_pred_test == 5) & (y_test == 1)]\n",
    "print(f'Of the {y_pred_test.shape[0]:,} predictions, there are {s_false_positives.shape[0]} false positives.\\n')\n",
    "\n",
    "# Print text of false positives\n",
    "print(\"False Positives:\\n\")\n",
    "for index, text in s_false_positives.items():\n",
    "    print(f\"Index: {index}, Review Text:\\n{text}\")\n",
    "    print(\"_\" * 80, \"\\n\")"
   ]
  },
  {
   "cell_type": "code",
   "execution_count": 41,
   "metadata": {},
   "outputs": [
    {
     "name": "stdout",
     "output_type": "stream",
     "text": [
      "Of the 1,022 predictions, there are 18 false negatives.\n",
      "\n",
      "\n",
      "False Negatives:\n",
      "\n",
      "Index: 2504, Review Text:\n",
      "I've passed by prestige nails in walmart 100s of times but never really thought of having a pedicure there (even though they are always busy!) As I stared at my feet, long overdue for a pedicure, I thought it was about time to try them...since walmart rarely let's me down why should the nail salon inside?\r\n",
      "\r\n",
      "To my surprise I got a wonderful pedicure or $23 not too bad this day in age...my to mention it was just as good as going to the more upscale salon just across the street! \r\n",
      "\r\n",
      "I'm glad to be the first to review them they deserve it! Now if only they did facials at walmart and hair I'd be set!\n",
      "________________________________________________________________________________ \n",
      "\n",
      "Index: 4646, Review Text:\n",
      "Wow, I am very impressed. The store is very big, and they seem to have it all - even the hard to find, odd items. It looks like everyone can shop here.\r\n",
      "\r\n",
      "The store is mapped out and sectioned nicely too. Finding things is easy, and if you can't (or don't want to) the very friendly staff are there to help. It looks like they employ people who know a thing or two about the supplements also... so whether you are looking for: digestive health, immune support, weight loss, muscle building, herbs, beauty or whatever; they have it, and they can tell you about it! Pretty Good! \r\n",
      "\r\n",
      "You can even get a customer rewards card and build up bonus points to get discounts and stuff. And they can track your purchases with it should you ever (like me) loose your receipt!\r\n",
      "\r\n",
      "What I am really impressed with though is their customer service and return policy. I did not expect them to accept a return and refund my money on 2 items that I purchased there because I lost the receipt. Especially, since I did not purchase it on a member card so they could not track my purchase either. I thought I would try my luck with it anyway and was hoping for an exchange. Well, the clerk was so nice to me. She said that it was no problem and would gladly refund my money (I didn't even ask for a refund)... and I had opened one product. I was speechless and felt a little guilty about it too - since it was almost a month that had passed (I really didn't think they'd take them back). Anyway, I told her that an exchange would be more than appreciated, and she said, \"No problem:-)\" again! So I very guiltily walked over to get some of the items I needed. They had them and they had them on sale - cheaper than I have ever seen and in more of a selection too. \r\n",
      "\r\n",
      "Needless to say, I walked out of there very happy (but feeling a bit undeserving). But that is what good - EXCELLENT - customer service is all about - exceeding the customer's expectations! \r\n",
      "\r\n",
      "This I my new store for all of my supplements and health & wellness needs. I recommend checking them out. They seem to have everything one could ever need. Plus, they have an entire wall (and more) dedicated to muscle, weight and fitness - if that is your thing! Also be sure to check out their website; they even have customer reviews & ratings! and product information/facts and ingredients. Really Cool!\n",
      "________________________________________________________________________________ \n",
      "\n",
      "Index: 750, Review Text:\n",
      "This store has the most pleasant employees of any Forever 21 I have ever been to. The girls are always smiling and they take the time to esquire if you need help. The other day, I went in and an employee spent over 10 minutes helping me locate a particular skirt my sister wanted for Christmas.\n",
      "________________________________________________________________________________ \n",
      "\n",
      "Index: 2127, Review Text:\n",
      "This place is great!  I called at 8:30 am to make an appointment for that afternoon for 3 people.  The place wasn't open yet, but the phone was forwarded to I think the owner's cell.  He told me he would be at the store at 9:30 and he'd call me back when he had the schedule in front of him.  Sure enough, at 9:30 he called me back and was able to schedule our appointments for 3pm.\r\n",
      "\r\n",
      "When we got there we were immediately brought back to a small room that had 3 big, comfy chairs.  We sat down and a couple minutes later they brought in 3 tubs of warm water for our feet.  They reclined the chairs and started at our heads.  They massage your face, head, neck, shoulders, arms, hands, feet and calves.  The they tell you to turn over, as they quickly turn the recliner into a massage table and proceed to massage your whole back side....all fully clothed.  It was just wonderful....and all for $30!  I definitely recommend!\n",
      "________________________________________________________________________________ \n",
      "\n",
      "Index: 3075, Review Text:\n",
      "Unfortunately Out of Business.\n",
      "________________________________________________________________________________ \n",
      "\n",
      "Index: 2002, Review Text:\n",
      "Y'know, rarely do I buy the \"extended warranty\" that most places try to peddle on you nowadays. If you buy the item from a reputable manufacturer, it should be unnecessary. \r\n",
      "\r\n",
      "In the case of tires, I have to make an exception. \r\n",
      "\r\n",
      "You can control the quality of tires you buy and put on your car, but not the quality of construction workers who don't know how to secure their nails, screws and bolts for travel on highways, streets and other local thoroughfares. They're a nefarious bunch for the most part. I'm not for extra taxes, but I'm contacting my local elected officials to institute a tax on all businesses who transport these little metal devils on the streets we drive...and stiff penalties/massive fines if they get caught dropping a load of these on the highway. \r\n",
      "\r\n",
      "For the second time in a year, one of my tires caught one of the little buggers -- this last one was not a nail or screw, mind you, but a BOLT.  I pulled my receipts from the glove compartment, used Yelp to find the nearest Discount Tire, and called for a tow. \r\n",
      "\r\n",
      "The replacement certificates I got were $16 per tire (back in NC, but they're good here too), and worth every penny. The folks at this Discount Tire location were extremely nice, and had me in and out of there in about 30 minutes (with no appointment). There is even free water for customers. They were able to fix the tire instead of replacing it, which is fine (as long as it holds). \r\n",
      "\r\n",
      "Every Discount Tire location I've visited has been great as far as the transparency of what you're getting, the quality of customer service, and the wait. In a town of 4.3 million people and never-ending road construction, I have to recommend the free replacement warranty on your tires, no matter where you buy them. I prefer getting mine from DT.\n",
      "________________________________________________________________________________ \n",
      "\n",
      "Index: 6334, Review Text:\n",
      "I came here today for a manicure and pedicure... I have been here quite a few times; it is a place my girlfriends like to come to so when I want to hang with my girlfriends and get a mani/pedi this is where we meet.  Although today I was solo:(.  The ladies here do a really good job; my manicures always last a really long time and they are really nice and accommodating.  Today I had one girl doing my pedicure and another doing my manicure... now that is what I call service!  I was out of there in a hour.  They do not have a tip line on credit or debit so bring cash for the tip.  Today I did not have cash ( i forgot)  they were so nice they said next time I come I can tip then if I want.  I came back anyway to tip them because it was so fast and my nails look great.  Oh another thing I forgot to mention is they use the hot rocks for the massage part for both the manicure and the pedicure and the callous remover is part of the cost of the pedicure.  Total for both services including getting french manicure on toes and fingers was $42.00.\n",
      "________________________________________________________________________________ \n",
      "\n",
      "Index: 66, Review Text:\n",
      "This an incredible church that embraces the principle that ......Christ Life Church exists to bring people into a life-changing relationship with Jesus Christ.  Three campuses allow Christ Life to reach into several locations...online, Tempe and Casa Grande.   The wonderful children's and youth programs appeal to a wide perspective of people.\n",
      "________________________________________________________________________________ \n",
      "\n",
      "Index: 763, Review Text:\n",
      "Here's the deal. I said I was done with OT, but a friend told me the management had changed and it was worth another shot. \r\n",
      "\r\n",
      "My friend was right.\r\n",
      "\r\n",
      "Everything I had a problem with before was remedied. I went in unannounced, didn't tell anyone about a previous bad experience, and I was given some of the best service I've received in town. When we went in, we were sat quickly and tended to very well for our entire visit.\r\n",
      "\r\n",
      "No texting employees, no indifferent waitstaff. The chef was in the food window expediting food, making sure it went out promptly and correctly. Not only was our server attentive, but there was a team service atmosphere and other servers came by our table when we had empty drinks, debris on the table, etc. \r\n",
      "\r\n",
      "The decor has been refreshed, and although I didn't dislike the decor originally, it is definitely an upgrade as well. Now its much cleaner, but still maintains the character that was part of its charm before. \r\n",
      "\r\n",
      "Props to the new management. Well done. I'll be back.\r\n",
      "\r\n",
      "PS - forgot to order side syrup. Curious to see if they still charge $2.\n",
      "________________________________________________________________________________ \n",
      "\n",
      "Index: 1404, Review Text:\n",
      "Excellent customer service, super clean, and the food's not bad at all.  Despite the fact that I asked for extra mayo on my sammy, but got NO mayo, was a little annoying.  But, for some reason, something told me to pick up some packets of mayo.  So I was in the clear and my annoyance never gained traction into anything that prevented me from returning.  That, and the sandwich was pretty yummo.  They also give a pickle and a free bag of chips to go with it.\r\n",
      "\r\n",
      "I do not, however, recommend the chocolate chip cookie.  No bueno.\n",
      "________________________________________________________________________________ \n",
      "\n",
      "Index: 6321, Review Text:\n",
      "Old school steak house.  Best 22oz ribeye I've had in years.  Bread drenched in broth was curiously delicous.  Waitstaff hustled.  THe only aspect was the salad, a waste but at Durants, there is so much good meat, why waste it on vegiies!\n",
      "________________________________________________________________________________ \n",
      "\n",
      "Index: 7903, Review Text:\n",
      "First, I'm sorry this review is lengthy, but i really want people to understand how far a little kindness can go. \r\n",
      "\r\n",
      "I entered Mimi's Cafe at the end of possibly worst day ever. I came in looking to order food for takeout and get home to drown my sorrows in comfort food. i was directed by the hostess up front to go stand by the bakery and i would be able to order take out. i waited not 15 seconds and was greeted with a huge smile from a lovely girl named Danielle. She gave me a menu and told me to ask if i had questions and inquired if i had been there before. i looked at the menu for some time, unable to clear my mind enough to decide. She told me i was welcome to take a seat, and when i apologized for taking so long she responded with a smiley \"where's the fire? take your time, can i get you a glass of wine while you decide?\" wine was a perfect idea! I finally ordered and sat drinking my wine. i waited, and then waited a little longer, Danielle the young girl doing take out informed me the kitchen was working as fast as they could but are very busy, she apologized for the wait and offered complimentary bread  and convinced me to buy a a second glass of wine. When she brought me the second glass i had just gotten off the phone and was visibly shaken with more bad news. Somehow this young girl had the courage to ask if everything was alright and what she could do to help. It was just the olive branch i needed. Just the inquiry was enough to make me feel better. i told her i was fine and thanked her for her compassion. finally my food was ready. She boxed everything with care for the drive home. All this time smiling. i couldn't help but notice Danielle interact with the other employees they always laughed or high fived her with each exchange. She had brightened my day, and it was clear she is a light for others in Mimi's Cafe. This is the kicker...my bill was $30 and some change...i gave her what i thought was two $20 dollar bills, but in reality was a $50 and a $20. The young girl ran outside and stopped me saying sir, I'm not sure these bills are right. i was overwhelmed by her honesty and told her no, i thought they were two 20's but the difference would be her reward for honesty. The food was tasty and just what i needed. Mimi's Cafe is a friendly place worth the wait for food or a table, and if Mimi's Cafe reads these reviews know that you have a superstar in Danielle.\n",
      "________________________________________________________________________________ \n",
      "\n",
      "Index: 921, Review Text:\n",
      "Just because i feel like doing something different. :P\r\n",
      "i'm just going to paste some song lyrics that i feel sum up Pei Wei on McDowell...\r\n",
      "\r\n",
      "Truth is here the truth is here\r\n",
      "Truth is here the truth is here\r\n",
      "Truth is here the truth is here\r\n",
      "I said the truth is here the truth is here\r\n",
      "\r\n",
      "I want more\r\n",
      "Give me more\r\n",
      "We want more\r\n",
      "God damn it I'm back to demand we get more\r\n",
      "We want more\r\n",
      "I want more and more and more\r\n",
      "I want more\r\n",
      "We need more\r\n",
      "I want more\r\n",
      "God damn it I'm back to demand we get more\r\n",
      "Give me more\r\n",
      "I want more and more and more\r\n",
      "\r\n",
      "[Verse 1:]\r\n",
      "I stand here naked as the day I was born\r\n",
      "Face to the dawn and my faith in the song\r\n",
      "Blood soaking the pages I painted em' on\r\n",
      "And none of ya'll will take my place when I'm gone\r\n",
      "I'm the pure raw uncut, who the fuck want what\r\n",
      "Here to show you sucker ass mutts what's the fucks what\r\n",
      "Brother Ali vow solemnly not to die while the music is still inside of me\r\n",
      "It's got to be allowed to breathe\r\n",
      "Got to let it out enough at least to let the monster flee\r\n",
      "I want more than what your offering me\r\n",
      "Songs that make me feel like I'm already free\r\n",
      "I'm a rebel in my own right\r\n",
      "Ya'll don't want to write or think or speak a rhyme standing next to me\r\n",
      "When the game need it I'm exactly what it need\r\n",
      "Put the soul in the speech, let it go, let it be\r\n",
      "\r\n",
      "[Chorus: x2]\r\n",
      "I want more\r\n",
      "We need more\r\n",
      "I want, god damn it I'm back to demand we get more\r\n",
      "Give me more\r\n",
      "I want more and more and more\r\n",
      "\r\n",
      "I said the truth is here the truth is here\r\n",
      "Truth is here the truth is here\r\n",
      "Truth is here the truth is here\r\n",
      "Truth is here the truth is\r\n",
      "\r\n",
      "[Verse 2:]\r\n",
      "Not nearly a single solitary soul\r\n",
      "Still put the kind of passion to the mic that I hold\r\n",
      "One day it'll have to be pried from my cold dead hand\r\n",
      "Until then the big man is gold\r\n",
      "Got one lone reason to go on breathing\r\n",
      "Climb into the zone of the evening, keep reaching\r\n",
      "Just to pull more out the core of the deamon\r\n",
      "The people need to see them pure human being\r\n",
      "Blood, sweat, love, hate, life, death, joy, pain\r\n",
      "Little child running wild striped to the raw veins\r\n",
      "Rugged junkyard dog off the chain, barefoot balls out marching in the rain\r\n",
      "Sacred war dance suspended in the moment\r\n",
      "We throw the fuck down like our lives depended on it\r\n",
      "Jaws of the streets with our heart on our sleeve\r\n",
      "Throwing shots at the law which is all I believe\r\n",
      "\r\n",
      "[Chorus x2]\r\n",
      "\r\n",
      "[Verse 3:]\r\n",
      "Our songs are supposed to be the voice of our soul\r\n",
      "Not bought and sold, not all controlled\r\n",
      "Bring a little fire when the world get cold\r\n",
      "Let me shed a few tears and to me you went gold\r\n",
      "People need more freedom\r\n",
      "Children need to hear more truth when ya'll teach em'\r\n",
      "Damn I want to hear a plan from the dude preaching\r\n",
      "Got new seeds with true needs and who's leading\r\n",
      "I truly believe every word I've ever uttered on a drum break\r\n",
      "Right or wrong, life go on but it wasn't nothing fake\r\n",
      "I demand you start listening to the crowd\r\n",
      "If not - we gon burn this bitch to the ground\r\n",
      "\r\n",
      "[Chorus x2]\r\n",
      "\r\n",
      "I said the truth is here the truth is here\r\n",
      "Truth is here the truth is here\r\n",
      "Truth is here the truth is here\r\n",
      "Truth is here the truth is\r\n",
      "\r\n",
      "\r\n",
      "the atmosphere is pretty hot here too..exposed brick always makes me Yelp!\n",
      "________________________________________________________________________________ \n",
      "\n",
      "Index: 4938, Review Text:\n",
      "DUDE..where is the manga....where are the card tables. .....What the heck is this place doing selling comics! This is outrageous!  And why are you talking to me and trying to help me comic clerk! Your job is to give me a huge sigh and exasperated look as if I asked you to perform surgery. This being helpful and friendly is really bothering me. You guys are just too weird. I need to go back to Atomic.\n",
      "________________________________________________________________________________ \n",
      "\n",
      "Index: 2902, Review Text:\n",
      "Southwest blows its competitors so far out of the water I actually feel bad for the other airlines.  \r\n",
      "1. Of the countless times I've flown with them, my flight has been delayed only twice and both times less than one hour.\r\n",
      "2. NO BAG FEES.  \r\n",
      "3. Nine times out of ten the lowest price.\r\n",
      "4. Killer customer service, laced with sarcasm, veiled cynicism, and high efficiency.  I love it.\r\n",
      "5. They never give me an inquisitive look when I order a cocktail on the super early morning flights.  Thank you for not judging me, SW Flight Attendants.\n",
      "________________________________________________________________________________ \n",
      "\n",
      "Index: 6276, Review Text:\n",
      "Hate long lines at the DMV?  Hate dealing with the DMV for any reason? Then you should check out Desert Title Service.  I had a complicated Title transfer and was dreading spending 4 hours at the DMV office the last day of the month but I knew I had to do it.  So today my daughter and I went over to DMV and waited an hour before deciding to call Desert Title Service.  Had I known I could go in to a place with no lines get a title release and a title transfer I would have checked them out sooner.  I called their office while sitting in the DMV and drove over.  In less then 15 minutes I had the title released and the title transferred.  Daughter had new plates and her title in less then 5.  If you need anything to do with your car I urge you to call them and/or visit their office.  You will be surprised at how fast and efficient their office is.  I will never visit the DMV unless I have to.\n",
      "________________________________________________________________________________ \n",
      "\n",
      "Index: 241, Review Text:\n",
      "I was sad to come back to lai lai's and they no longer had the Mongolian :( boo,, but i took my mom there and we were starving so we decided to order off the menu. My mom is allergic to  msg and they helped us with what we should order. and she didn't get sick!! woo hoo.. we ordered three dishes and an appetizer to share between her , my bf, and myself, and we stilll brought food home, and I dont think we spent over $30 bucks for all that food!! it was very good to! i love good cheap food!! Ill be back, they are always friendly.\n",
      "________________________________________________________________________________ \n",
      "\n",
      "Index: 610, Review Text:\n",
      "Yup, I'm reviewing a gas station. I like the Quiktrip chain in general and this station in particular.\r\n",
      "\r\n",
      "I find Quiktrips to generally be the cheapest gas in town. Sure, the Arco sign down the street might say it's 2 cents/gallon cheaper, but then you get whacked with the ATM surcharge, not to mention there's all those bums loitering in the adjacent bus stop.\r\n",
      "\r\n",
      "With Quiktrip, the place is well lit, there's always a trash can and window squeegee at every pump, the convenience store is better than most, and unlike most other gas stations, they don't charge you for the air compressor. Oh, and the person at the register will actually greet you when you step inside the door, while managing to sound sincere about it. Is that the coolest thing for a convenience store or what? \r\n",
      "\r\n",
      "Bonus: for those of you who enjoy shopping at the Hot Chick Safeway down the street, this is the Hot Chick Gas Station.\n",
      "________________________________________________________________________________ \n",
      "\n"
     ]
    }
   ],
   "source": [
    "# Identify false negatives (predicted 1 star, actual 5 stars)\n",
    "s_false_negatives = X_test[(y_pred_test == 1) & (y_test == 5)]\n",
    "print(f'Of the {y_pred_test.shape[0]:,} predictions, there are {s_false_negatives.shape[0]} false negatives.\\n')\n",
    "\n",
    "# Print text of false negatives\n",
    "print(\"\\nFalse Negatives:\\n\")\n",
    "for index, text in s_false_negatives.items():\n",
    "    print(f\"Index: {index}, Review Text:\\n{text}\")\n",
    "    print(\"_\" * 80, \"\\n\")"
   ]
  },
  {
   "cell_type": "code",
   "execution_count": 42,
   "metadata": {},
   "outputs": [
    {
     "data": {
      "text/plain": [
       "1406    1\n",
       "1792    5\n",
       "7723    5\n",
       "2416    5\n",
       "6111    5\n",
       "Name: stars, dtype: int64"
      ]
     },
     "execution_count": 42,
     "metadata": {},
     "output_type": "execute_result"
    }
   ],
   "source": [
    "y_test[:5]"
   ]
  },
  {
   "cell_type": "markdown",
   "metadata": {},
   "source": [
    "## TASK 11: Change the threshold to balance sensitivity and specificity\n",
    "\n",
    "In the performance metrics of the training dataset."
   ]
  },
  {
   "cell_type": "code",
   "execution_count": 43,
   "metadata": {},
   "outputs": [],
   "source": [
    "y_pred_proba = nb_classifier.predict_proba(X_train_dtm)[:, 1]  # get the predicted probabilities for the positive class"
   ]
  },
  {
   "cell_type": "code",
   "execution_count": 44,
   "metadata": {},
   "outputs": [
    {
     "name": "stdout",
     "output_type": "stream",
     "text": [
      "Threshold: 0.5, Sensitivity: 0.99, Specificity: 0.91\n",
      "Threshold: 0.6, Sensitivity: 0.99, Specificity: 0.92\n",
      "Threshold: 0.7, Sensitivity: 0.99, Specificity: 0.94\n",
      "Threshold: 0.8, Sensitivity: 0.99, Specificity: 0.96\n",
      "Threshold: 0.9, Sensitivity: 0.98, Specificity: 0.96\n",
      "Threshold: 0.95, Sensitivity: 0.97, Specificity: 0.97\n"
     ]
    }
   ],
   "source": [
    "thresholds = [0.5, 0.6, 0.7, 0.8, 0.9, 0.95]\n",
    "\n",
    "for custom_threshold in thresholds:    \n",
    "    y_train_pred = np.where(y_pred_proba > custom_threshold, 5, 1)  # apply the threshold to get the binary predictions\n",
    "    cm = confusion_matrix(y_train, y_train_pred)\n",
    "\n",
    "    TP = cm[1][1]\n",
    "    TN = cm[0][0]\n",
    "    FP = cm[0][1]\n",
    "    FN = cm[1][0]\n",
    "\n",
    "    sensitivity = TP / (TP + FN)\n",
    "    specificity = TN / (TN + FP)\n",
    "    \n",
    "    print(f'Threshold: {custom_threshold}, Sensitivity: {sensitivity:.2f}, Specificity: {specificity:.2f}')"
   ]
  },
  {
   "cell_type": "markdown",
   "metadata": {},
   "source": [
    "## TASK 12: Assign sentiment classes\n",
    "\n",
    "Restricting our training and test datasets solely to 1- and 5-star reviews may be overly restrictive, leading to a reduction in the quantity of data available for model training and evaluation. Considering a broader range of reviews could provide a more comprehensive understanding of the data and potentially enhance the model's ability to generalize across various sentiments and rating levels.\n",
    "\n",
    "For each review in the DataFrame, assign the sentiment class to split the reviews on positive or negative, and create a target label.\n",
    "* rating = 4.0 and 5.0 --> class = 1\n",
    "* rating <= 2.0 --> class = 0\n",
    "* rating = 3.0 --> do not include, neutral assessment\n",
    "\n",
    "The final DataFrame should only have the following columns:  ['date', 'stars', 'text', 'sentiment'], and display the last 15 reviews in the DataFrame."
   ]
  },
  {
   "cell_type": "code",
   "execution_count": 45,
   "metadata": {},
   "outputs": [
    {
     "name": "stdout",
     "output_type": "stream",
     "text": [
      "(8539, 4)\n"
     ]
    },
    {
     "data": {
      "text/html": [
       "<div>\n",
       "<style scoped>\n",
       "    .dataframe tbody tr th:only-of-type {\n",
       "        vertical-align: middle;\n",
       "    }\n",
       "\n",
       "    .dataframe tbody tr th {\n",
       "        vertical-align: top;\n",
       "    }\n",
       "\n",
       "    .dataframe thead th {\n",
       "        text-align: right;\n",
       "    }\n",
       "</style>\n",
       "<table border=\"1\" class=\"dataframe\">\n",
       "  <thead>\n",
       "    <tr style=\"text-align: right;\">\n",
       "      <th></th>\n",
       "      <th>date</th>\n",
       "      <th>stars</th>\n",
       "      <th>text</th>\n",
       "      <th>sentiment</th>\n",
       "    </tr>\n",
       "  </thead>\n",
       "  <tbody>\n",
       "    <tr>\n",
       "      <th>9984</th>\n",
       "      <td>2012-02-12</td>\n",
       "      <td>1</td>\n",
       "      <td>Went last night to Whore Foods to get basics t...</td>\n",
       "      <td>0</td>\n",
       "    </tr>\n",
       "    <tr>\n",
       "      <th>9985</th>\n",
       "      <td>2012-10-17</td>\n",
       "      <td>4</td>\n",
       "      <td>Awesome food! Little pricey but delicious. Lov...</td>\n",
       "      <td>1</td>\n",
       "    </tr>\n",
       "    <tr>\n",
       "      <th>9986</th>\n",
       "      <td>2012-03-31</td>\n",
       "      <td>4</td>\n",
       "      <td>I came here in December and look forward to my...</td>\n",
       "      <td>1</td>\n",
       "    </tr>\n",
       "    <tr>\n",
       "      <th>9987</th>\n",
       "      <td>2012-04-07</td>\n",
       "      <td>1</td>\n",
       "      <td>The food is delicious.  The service:  discrimi...</td>\n",
       "      <td>0</td>\n",
       "    </tr>\n",
       "    <tr>\n",
       "      <th>9988</th>\n",
       "      <td>2012-06-02</td>\n",
       "      <td>4</td>\n",
       "      <td>For our first time we had a great time! Our se...</td>\n",
       "      <td>1</td>\n",
       "    </tr>\n",
       "    <tr>\n",
       "      <th>9989</th>\n",
       "      <td>2011-10-01</td>\n",
       "      <td>5</td>\n",
       "      <td>Great food and service! Country food at its best!</td>\n",
       "      <td>1</td>\n",
       "    </tr>\n",
       "    <tr>\n",
       "      <th>9990</th>\n",
       "      <td>2011-10-03</td>\n",
       "      <td>5</td>\n",
       "      <td>Yes I do rock the hipster joints.  I dig this ...</td>\n",
       "      <td>1</td>\n",
       "    </tr>\n",
       "    <tr>\n",
       "      <th>9991</th>\n",
       "      <td>2011-12-05</td>\n",
       "      <td>5</td>\n",
       "      <td>Only 4 stars? \\r\\n\\r\\n(A few notes: The folks ...</td>\n",
       "      <td>1</td>\n",
       "    </tr>\n",
       "    <tr>\n",
       "      <th>9992</th>\n",
       "      <td>2009-03-10</td>\n",
       "      <td>5</td>\n",
       "      <td>I'm not normally one to jump at reviewing a ch...</td>\n",
       "      <td>1</td>\n",
       "    </tr>\n",
       "    <tr>\n",
       "      <th>9993</th>\n",
       "      <td>2011-06-27</td>\n",
       "      <td>4</td>\n",
       "      <td>Judging by some of the reviews, maybe I went o...</td>\n",
       "      <td>1</td>\n",
       "    </tr>\n",
       "    <tr>\n",
       "      <th>9994</th>\n",
       "      <td>2012-03-19</td>\n",
       "      <td>5</td>\n",
       "      <td>Let's see...what is there NOT to like about Su...</td>\n",
       "      <td>1</td>\n",
       "    </tr>\n",
       "    <tr>\n",
       "      <th>9996</th>\n",
       "      <td>2012-01-18</td>\n",
       "      <td>4</td>\n",
       "      <td>Should be called house of deliciousness!\\r\\n\\r...</td>\n",
       "      <td>1</td>\n",
       "    </tr>\n",
       "    <tr>\n",
       "      <th>9997</th>\n",
       "      <td>2010-11-16</td>\n",
       "      <td>4</td>\n",
       "      <td>I recently visited Olive and Ivy for business ...</td>\n",
       "      <td>1</td>\n",
       "    </tr>\n",
       "    <tr>\n",
       "      <th>9998</th>\n",
       "      <td>2012-12-02</td>\n",
       "      <td>2</td>\n",
       "      <td>My nephew just moved to Scottsdale recently so...</td>\n",
       "      <td>0</td>\n",
       "    </tr>\n",
       "    <tr>\n",
       "      <th>9999</th>\n",
       "      <td>2010-10-16</td>\n",
       "      <td>5</td>\n",
       "      <td>4-5 locations.. all 4.5 star average.. I think...</td>\n",
       "      <td>1</td>\n",
       "    </tr>\n",
       "  </tbody>\n",
       "</table>\n",
       "</div>"
      ],
      "text/plain": [
       "            date  stars                                               text  \\\n",
       "9984  2012-02-12      1  Went last night to Whore Foods to get basics t...   \n",
       "9985  2012-10-17      4  Awesome food! Little pricey but delicious. Lov...   \n",
       "9986  2012-03-31      4  I came here in December and look forward to my...   \n",
       "9987  2012-04-07      1  The food is delicious.  The service:  discrimi...   \n",
       "9988  2012-06-02      4  For our first time we had a great time! Our se...   \n",
       "9989  2011-10-01      5  Great food and service! Country food at its best!   \n",
       "9990  2011-10-03      5  Yes I do rock the hipster joints.  I dig this ...   \n",
       "9991  2011-12-05      5  Only 4 stars? \\r\\n\\r\\n(A few notes: The folks ...   \n",
       "9992  2009-03-10      5  I'm not normally one to jump at reviewing a ch...   \n",
       "9993  2011-06-27      4  Judging by some of the reviews, maybe I went o...   \n",
       "9994  2012-03-19      5  Let's see...what is there NOT to like about Su...   \n",
       "9996  2012-01-18      4  Should be called house of deliciousness!\\r\\n\\r...   \n",
       "9997  2010-11-16      4  I recently visited Olive and Ivy for business ...   \n",
       "9998  2012-12-02      2  My nephew just moved to Scottsdale recently so...   \n",
       "9999  2010-10-16      5  4-5 locations.. all 4.5 star average.. I think...   \n",
       "\n",
       "      sentiment  \n",
       "9984          0  \n",
       "9985          1  \n",
       "9986          1  \n",
       "9987          0  \n",
       "9988          1  \n",
       "9989          1  \n",
       "9990          1  \n",
       "9991          1  \n",
       "9992          1  \n",
       "9993          1  \n",
       "9994          1  \n",
       "9996          1  \n",
       "9997          1  \n",
       "9998          0  \n",
       "9999          1  "
      ]
     },
     "execution_count": 45,
     "metadata": {},
     "output_type": "execute_result"
    }
   ],
   "source": [
    "df_yelp_filtered = df_yelp[df_yelp['stars'] != 3][['date', 'stars', 'text']].copy()\n",
    "df_yelp_filtered['sentiment'] = df_yelp_filtered['stars'].apply(lambda rating : 1 if rating >= 4.0 else 0)\n",
    "\n",
    "print(df_yelp_filtered.shape)\n",
    "df_yelp_filtered.tail(15)"
   ]
  },
  {
   "cell_type": "markdown",
   "metadata": {},
   "source": [
    "## TASK 13 (BONUS): Use a RandomForestClassifier to predict the star rating for the testing set, and calculate accuracy"
   ]
  },
  {
   "cell_type": "code",
   "execution_count": 46,
   "metadata": {},
   "outputs": [],
   "source": [
    "from sklearn.ensemble import RandomForestClassifier"
   ]
  },
  {
   "cell_type": "code",
   "execution_count": 47,
   "metadata": {},
   "outputs": [
    {
     "name": "stdout",
     "output_type": "stream",
     "text": [
      "0.8796477495107632\n",
      "              precision    recall  f1-score   support\n",
      "\n",
      "           1       0.93      0.41      0.57       199\n",
      "           5       0.87      0.99      0.93       823\n",
      "\n",
      "    accuracy                           0.88      1022\n",
      "   macro avg       0.90      0.70      0.75      1022\n",
      "weighted avg       0.89      0.88      0.86      1022\n",
      "\n"
     ]
    }
   ],
   "source": [
    "rf_classifier = RandomForestClassifier()\n",
    "\n",
    "rf_classifier.fit(X_train_dtm, y_train)\n",
    "\n",
    "# Make predictions\n",
    "y_pred_test = rf_classifier.predict(X_test_dtm)\n",
    "\n",
    "# Evaluate performance\n",
    "print(metrics.accuracy_score(y_test, y_pred_test))         # overall accuracy\n",
    "print(metrics.classification_report(y_test, y_pred_test))  # detailed per-class metrics"
   ]
  },
  {
   "cell_type": "code",
   "execution_count": 48,
   "metadata": {},
   "outputs": [
    {
     "name": "stdout",
     "output_type": "stream",
     "text": [
      "0.8913894324853229\n",
      "              precision    recall  f1-score   support\n",
      "\n",
      "           1       0.95      0.47      0.63       199\n",
      "           5       0.89      0.99      0.94       823\n",
      "\n",
      "    accuracy                           0.89      1022\n",
      "   macro avg       0.92      0.73      0.78      1022\n",
      "weighted avg       0.90      0.89      0.88      1022\n",
      "\n"
     ]
    }
   ],
   "source": [
    "rf_classifier = RandomForestClassifier(criterion='gini')\n",
    "\n",
    "rf_classifier.fit(X_train_dtm, y_train)\n",
    "\n",
    "# Make predictions\n",
    "y_pred_test = rf_classifier.predict(X_test_dtm)\n",
    "\n",
    "# Evaluate performance\n",
    "print(metrics.accuracy_score(y_test, y_pred_test))         # overall accuracy\n",
    "print(metrics.classification_report(y_test, y_pred_test))  # detailed per-class metrics"
   ]
  },
  {
   "cell_type": "markdown",
   "metadata": {},
   "source": [
    "## TASK 14 (BONUS): 5-class classification on the original DataFrame"
   ]
  },
  {
   "cell_type": "code",
   "execution_count": 49,
   "metadata": {},
   "outputs": [
    {
     "name": "stdout",
     "output_type": "stream",
     "text": [
      "0.492\n",
      "              precision    recall  f1-score   support\n",
      "\n",
      "           1       0.62      0.30      0.41       181\n",
      "           2       0.40      0.11      0.18       221\n",
      "           3       0.39      0.12      0.18       374\n",
      "           4       0.45      0.74      0.56       898\n",
      "           5       0.60      0.53      0.56       826\n",
      "\n",
      "    accuracy                           0.49      2500\n",
      "   macro avg       0.49      0.36      0.38      2500\n",
      "weighted avg       0.49      0.49      0.46      2500\n",
      "\n"
     ]
    }
   ],
   "source": [
    "# Separate features and the target\n",
    "X = df_yelp['text']\n",
    "y = df_yelp['stars']\n",
    "\n",
    "# Split into training and test datasets\n",
    "X_train, X_test, y_train, y_test = train_test_split(X, y, random_state=42)\n",
    "\n",
    "# Vectorize the data\n",
    "count_vect = CountVectorizer(stop_words='english')\n",
    "X_train_dtm = count_vect.fit_transform(X_train)\n",
    "X_test_dtm = count_vect.transform(X_test)\n",
    "\n",
    "# Train the classifier model\n",
    "nb_classifier = MultinomialNB()\n",
    "nb_classifier.fit(X_train_dtm, y_train)\n",
    "\n",
    "# Make predictions\n",
    "y_pred_test = nb_classifier.predict(X_test_dtm)\n",
    "\n",
    "# Evaluate performance\n",
    "print(metrics.accuracy_score(y_test, y_pred_test))         # overall accuracy\n",
    "print(metrics.classification_report(y_test, y_pred_test))  # detailed per-class metrics"
   ]
  },
  {
   "cell_type": "code",
   "execution_count": null,
   "metadata": {},
   "outputs": [],
   "source": [
    "# NLP is complex and NLP problems are hard to solve. It often takes time. \n",
    "# NLP projects are time and resource intensive.\n",
    "# Human language has nuance and complexity. "
   ]
  }
 ],
 "metadata": {
  "kernelspec": {
   "display_name": "Python 3 (ipykernel)",
   "language": "python",
   "name": "python3"
  },
  "language_info": {
   "codemirror_mode": {
    "name": "ipython",
    "version": 3
   },
   "file_extension": ".py",
   "mimetype": "text/x-python",
   "name": "python",
   "nbconvert_exporter": "python",
   "pygments_lexer": "ipython3",
   "version": "3.11.5"
  },
  "toc": {
   "base_numbering": 1,
   "nav_menu": {},
   "number_sections": true,
   "sideBar": true,
   "skip_h1_title": false,
   "title_cell": "Table of Contents",
   "title_sidebar": "Contents",
   "toc_cell": false,
   "toc_position": {},
   "toc_section_display": true,
   "toc_window_display": false
  }
 },
 "nbformat": 4,
 "nbformat_minor": 4
}
